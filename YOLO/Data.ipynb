{
 "cells": [
  {
   "cell_type": "code",
   "execution_count": 1,
   "metadata": {},
   "outputs": [
    {
     "name": "stdout",
     "output_type": "stream",
     "text": [
      "Ultralytics YOLOv8.0.222 🚀 Python-3.10.5 torch-2.1.1 CPU (Apple M1 Pro)\n",
      "\u001b[34m\u001b[1mengine/trainer: \u001b[0mtask=detect, mode=train, model=yolov8n.pt, data=data.yaml, epochs=300, patience=50, batch=16, imgsz=640, save=True, save_period=-1, cache=False, device=None, workers=8, project=None, name=train4, exist_ok=False, pretrained=True, optimizer=auto, verbose=True, seed=0, deterministic=True, single_cls=False, rect=False, cos_lr=False, close_mosaic=10, resume=False, amp=True, fraction=1.0, profile=False, freeze=None, overlap_mask=True, mask_ratio=4, dropout=0.0, val=True, split=val, save_json=False, save_hybrid=False, conf=None, iou=0.7, max_det=300, half=False, dnn=False, plots=True, source=None, vid_stride=1, stream_buffer=False, visualize=False, augment=False, agnostic_nms=False, classes=None, retina_masks=False, show=False, save_frames=False, save_txt=False, save_conf=False, save_crop=False, show_labels=True, show_conf=True, show_boxes=True, line_width=None, format=torchscript, keras=False, optimize=False, int8=False, dynamic=False, simplify=False, opset=None, workspace=4, nms=False, lr0=0.01, lrf=0.01, momentum=0.937, weight_decay=0.0005, warmup_epochs=3.0, warmup_momentum=0.8, warmup_bias_lr=0.1, box=7.5, cls=0.5, dfl=1.5, pose=12.0, kobj=1.0, label_smoothing=0.0, nbs=64, hsv_h=0.015, hsv_s=0.7, hsv_v=0.4, degrees=0.0, translate=0.1, scale=0.5, shear=0.0, perspective=0.0, flipud=0.0, fliplr=0.5, mosaic=1.0, mixup=0.0, copy_paste=0.0, cfg=None, tracker=botsort.yaml, save_dir=runs/detect/train4\n",
      "Overriding model.yaml nc=80 with nc=1\n",
      "\n",
      "                   from  n    params  module                                       arguments                     \n",
      "  0                  -1  1       464  ultralytics.nn.modules.conv.Conv             [3, 16, 3, 2]                 \n",
      "  1                  -1  1      4672  ultralytics.nn.modules.conv.Conv             [16, 32, 3, 2]                \n",
      "  2                  -1  1      7360  ultralytics.nn.modules.block.C2f             [32, 32, 1, True]             \n",
      "  3                  -1  1     18560  ultralytics.nn.modules.conv.Conv             [32, 64, 3, 2]                \n",
      "  4                  -1  2     49664  ultralytics.nn.modules.block.C2f             [64, 64, 2, True]             \n",
      "  5                  -1  1     73984  ultralytics.nn.modules.conv.Conv             [64, 128, 3, 2]               \n",
      "  6                  -1  2    197632  ultralytics.nn.modules.block.C2f             [128, 128, 2, True]           \n",
      "  7                  -1  1    295424  ultralytics.nn.modules.conv.Conv             [128, 256, 3, 2]              \n",
      "  8                  -1  1    460288  ultralytics.nn.modules.block.C2f             [256, 256, 1, True]           \n",
      "  9                  -1  1    164608  ultralytics.nn.modules.block.SPPF            [256, 256, 5]                 \n",
      " 10                  -1  1         0  torch.nn.modules.upsampling.Upsample         [None, 2, 'nearest']          \n",
      " 11             [-1, 6]  1         0  ultralytics.nn.modules.conv.Concat           [1]                           \n",
      " 12                  -1  1    148224  ultralytics.nn.modules.block.C2f             [384, 128, 1]                 \n",
      " 13                  -1  1         0  torch.nn.modules.upsampling.Upsample         [None, 2, 'nearest']          \n",
      " 14             [-1, 4]  1         0  ultralytics.nn.modules.conv.Concat           [1]                           \n",
      " 15                  -1  1     37248  ultralytics.nn.modules.block.C2f             [192, 64, 1]                  \n",
      " 16                  -1  1     36992  ultralytics.nn.modules.conv.Conv             [64, 64, 3, 2]                \n",
      " 17            [-1, 12]  1         0  ultralytics.nn.modules.conv.Concat           [1]                           \n",
      " 18                  -1  1    123648  ultralytics.nn.modules.block.C2f             [192, 128, 1]                 \n",
      " 19                  -1  1    147712  ultralytics.nn.modules.conv.Conv             [128, 128, 3, 2]              \n",
      " 20             [-1, 9]  1         0  ultralytics.nn.modules.conv.Concat           [1]                           \n",
      " 21                  -1  1    493056  ultralytics.nn.modules.block.C2f             [384, 256, 1]                 \n",
      " 22        [15, 18, 21]  1    751507  ultralytics.nn.modules.head.Detect           [1, [64, 128, 256]]           \n",
      "Model summary: 225 layers, 3011043 parameters, 3011027 gradients, 8.2 GFLOPs\n",
      "\n",
      "Transferred 319/355 items from pretrained weights\n",
      "\u001b[34m\u001b[1mTensorBoard: \u001b[0mStart with 'tensorboard --logdir runs/detect/train4', view at http://localhost:6006/\n",
      "Freezing layer 'model.22.dfl.conv.weight'\n"
     ]
    },
    {
     "name": "stderr",
     "output_type": "stream",
     "text": [
      "\u001b[34m\u001b[1mtrain: \u001b[0mScanning /Users/ozairrahman/Desktop/YOLO/durhamlogopics/train/labels... 78 images, 0 backgrounds, 0 corrupt: 100%|██████████| 78/78 [00:00<00:00, 2721.17it/s]"
     ]
    },
    {
     "name": "stdout",
     "output_type": "stream",
     "text": [
      "\u001b[34m\u001b[1mtrain: \u001b[0mNew cache created: /Users/ozairrahman/Desktop/YOLO/durhamlogopics/train/labels.cache\n"
     ]
    },
    {
     "name": "stderr",
     "output_type": "stream",
     "text": [
      "\n",
      "\u001b[34m\u001b[1mval: \u001b[0mScanning /Users/ozairrahman/Desktop/YOLO/durhamlogopics/valid/labels... 24 images, 0 backgrounds, 0 corrupt: 100%|██████████| 24/24 [00:00<00:00, 4018.82it/s]"
     ]
    },
    {
     "name": "stdout",
     "output_type": "stream",
     "text": [
      "\u001b[34m\u001b[1mval: \u001b[0mNew cache created: /Users/ozairrahman/Desktop/YOLO/durhamlogopics/valid/labels.cache\n"
     ]
    },
    {
     "name": "stderr",
     "output_type": "stream",
     "text": [
      "\n"
     ]
    },
    {
     "name": "stdout",
     "output_type": "stream",
     "text": [
      "Plotting labels to runs/detect/train4/labels.jpg... \n",
      "\u001b[34m\u001b[1moptimizer:\u001b[0m 'optimizer=auto' found, ignoring 'lr0=0.01' and 'momentum=0.937' and determining best 'optimizer', 'lr0' and 'momentum' automatically... \n",
      "\u001b[34m\u001b[1moptimizer:\u001b[0m AdamW(lr=0.002, momentum=0.9) with parameter groups 57 weight(decay=0.0), 64 weight(decay=0.0005), 63 bias(decay=0.0)\n",
      "Image sizes 640 train, 640 val\n",
      "Using 0 dataloader workers\n",
      "Logging results to \u001b[1mruns/detect/train4\u001b[0m\n",
      "Starting training for 300 epochs...\n",
      "\n",
      "      Epoch    GPU_mem   box_loss   cls_loss   dfl_loss  Instances       Size\n"
     ]
    },
    {
     "name": "stderr",
     "output_type": "stream",
     "text": [
      "      1/300         0G      1.971      4.174       1.65         20        640: 100%|██████████| 5/5 [00:26<00:00,  5.32s/it]\n",
      "                 Class     Images  Instances      Box(P          R      mAP50  mAP50-95): 100%|██████████| 1/1 [00:04<00:00,  4.33s/it]"
     ]
    },
    {
     "name": "stdout",
     "output_type": "stream",
     "text": [
      "                   all         24         47    0.00278      0.426    0.00592    0.00299\n"
     ]
    },
    {
     "name": "stderr",
     "output_type": "stream",
     "text": [
      "\n"
     ]
    },
    {
     "name": "stdout",
     "output_type": "stream",
     "text": [
      "\n",
      "      Epoch    GPU_mem   box_loss   cls_loss   dfl_loss  Instances       Size\n"
     ]
    },
    {
     "name": "stderr",
     "output_type": "stream",
     "text": [
      "      2/300         0G      1.725      3.756      1.461         32        640: 100%|██████████| 5/5 [00:26<00:00,  5.22s/it]\n",
      "                 Class     Images  Instances      Box(P          R      mAP50  mAP50-95): 100%|██████████| 1/1 [00:04<00:00,  4.41s/it]"
     ]
    },
    {
     "name": "stdout",
     "output_type": "stream",
     "text": [
      "                   all         24         47    0.00403      0.617      0.108     0.0689\n",
      "\n",
      "      Epoch    GPU_mem   box_loss   cls_loss   dfl_loss  Instances       Size\n"
     ]
    },
    {
     "name": "stderr",
     "output_type": "stream",
     "text": [
      "\n",
      "      3/300         0G      1.555      3.083      1.329         18        640: 100%|██████████| 5/5 [00:26<00:00,  5.29s/it]\n",
      "                 Class     Images  Instances      Box(P          R      mAP50  mAP50-95): 100%|██████████| 1/1 [00:04<00:00,  4.21s/it]"
     ]
    },
    {
     "name": "stdout",
     "output_type": "stream",
     "text": [
      "                   all         24         47    0.00431       0.66      0.262      0.146\n",
      "\n",
      "      Epoch    GPU_mem   box_loss   cls_loss   dfl_loss  Instances       Size\n"
     ]
    },
    {
     "name": "stderr",
     "output_type": "stream",
     "text": [
      "\n",
      "      4/300         0G      1.449      2.419      1.164         26        640: 100%|██████████| 5/5 [00:25<00:00,  5.19s/it]\n",
      "                 Class     Images  Instances      Box(P          R      mAP50  mAP50-95): 100%|██████████| 1/1 [00:04<00:00,  4.23s/it]"
     ]
    },
    {
     "name": "stdout",
     "output_type": "stream",
     "text": [
      "                   all         24         47    0.00472      0.723      0.347      0.173\n",
      "\n",
      "      Epoch    GPU_mem   box_loss   cls_loss   dfl_loss  Instances       Size\n"
     ]
    },
    {
     "name": "stderr",
     "output_type": "stream",
     "text": [
      "\n",
      "      5/300         0G      1.452      2.219       1.17         30        640: 100%|██████████| 5/5 [00:25<00:00,  5.18s/it]\n",
      "                 Class     Images  Instances      Box(P          R      mAP50  mAP50-95): 100%|██████████| 1/1 [00:04<00:00,  4.29s/it]"
     ]
    },
    {
     "name": "stdout",
     "output_type": "stream",
     "text": [
      "                   all         24         47    0.00458      0.702      0.294      0.147\n",
      "\n",
      "      Epoch    GPU_mem   box_loss   cls_loss   dfl_loss  Instances       Size\n"
     ]
    },
    {
     "name": "stderr",
     "output_type": "stream",
     "text": [
      "\n",
      "      6/300         0G      1.493      2.293      1.219         30        640: 100%|██████████| 5/5 [00:26<00:00,  5.21s/it]\n",
      "                 Class     Images  Instances      Box(P          R      mAP50  mAP50-95): 100%|██████████| 1/1 [00:04<00:00,  4.20s/it]"
     ]
    },
    {
     "name": "stdout",
     "output_type": "stream",
     "text": [
      "                   all         24         47    0.00444      0.681      0.235       0.14\n",
      "\n",
      "      Epoch    GPU_mem   box_loss   cls_loss   dfl_loss  Instances       Size\n"
     ]
    },
    {
     "name": "stderr",
     "output_type": "stream",
     "text": [
      "\n",
      "      7/300         0G      1.581       2.23      1.242         24        640: 100%|██████████| 5/5 [00:25<00:00,  5.16s/it]\n",
      "                 Class     Images  Instances      Box(P          R      mAP50  mAP50-95): 100%|██████████| 1/1 [00:04<00:00,  4.33s/it]"
     ]
    },
    {
     "name": "stdout",
     "output_type": "stream",
     "text": [
      "                   all         24         47    0.00486      0.745       0.25      0.142\n",
      "\n",
      "      Epoch    GPU_mem   box_loss   cls_loss   dfl_loss  Instances       Size\n"
     ]
    },
    {
     "name": "stderr",
     "output_type": "stream",
     "text": [
      "\n",
      "      8/300         0G      1.436      2.082      1.201         29        640: 100%|██████████| 5/5 [00:25<00:00,  5.19s/it]\n",
      "                 Class     Images  Instances      Box(P          R      mAP50  mAP50-95): 100%|██████████| 1/1 [00:04<00:00,  4.24s/it]"
     ]
    },
    {
     "name": "stdout",
     "output_type": "stream",
     "text": [
      "                   all         24         47      0.345      0.404      0.343      0.176\n",
      "\n",
      "      Epoch    GPU_mem   box_loss   cls_loss   dfl_loss  Instances       Size\n"
     ]
    },
    {
     "name": "stderr",
     "output_type": "stream",
     "text": [
      "\n",
      "      9/300         0G      1.515      2.075      1.252         24        640: 100%|██████████| 5/5 [00:26<00:00,  5.20s/it]\n",
      "                 Class     Images  Instances      Box(P          R      mAP50  mAP50-95): 100%|██████████| 1/1 [00:04<00:00,  4.30s/it]"
     ]
    },
    {
     "name": "stdout",
     "output_type": "stream",
     "text": [
      "                   all         24         47    0.00528      0.809      0.277      0.167\n",
      "\n",
      "      Epoch    GPU_mem   box_loss   cls_loss   dfl_loss  Instances       Size\n"
     ]
    },
    {
     "name": "stderr",
     "output_type": "stream",
     "text": [
      "\n",
      "     10/300         0G      1.494      1.919      1.172         27        640: 100%|██████████| 5/5 [00:26<00:00,  5.28s/it]\n",
      "                 Class     Images  Instances      Box(P          R      mAP50  mAP50-95): 100%|██████████| 1/1 [00:04<00:00,  4.30s/it]"
     ]
    },
    {
     "name": "stdout",
     "output_type": "stream",
     "text": [
      "                   all         24         47    0.00542       0.83      0.256      0.165\n",
      "\n",
      "      Epoch    GPU_mem   box_loss   cls_loss   dfl_loss  Instances       Size\n"
     ]
    },
    {
     "name": "stderr",
     "output_type": "stream",
     "text": [
      "\n",
      "     11/300         0G      1.483      1.707      1.197         38        640: 100%|██████████| 5/5 [00:26<00:00,  5.27s/it]\n",
      "                 Class     Images  Instances      Box(P          R      mAP50  mAP50-95): 100%|██████████| 1/1 [00:04<00:00,  4.32s/it]"
     ]
    },
    {
     "name": "stdout",
     "output_type": "stream",
     "text": [
      "                   all         24         47          1      0.145      0.521      0.282\n",
      "\n",
      "      Epoch    GPU_mem   box_loss   cls_loss   dfl_loss  Instances       Size\n"
     ]
    },
    {
     "name": "stderr",
     "output_type": "stream",
     "text": [
      "\n",
      "     12/300         0G       1.42      1.813      1.171         34        640: 100%|██████████| 5/5 [00:26<00:00,  5.24s/it]\n",
      "                 Class     Images  Instances      Box(P          R      mAP50  mAP50-95): 100%|██████████| 1/1 [00:04<00:00,  4.26s/it]"
     ]
    },
    {
     "name": "stdout",
     "output_type": "stream",
     "text": [
      "                   all         24         47      0.836      0.128      0.229      0.143\n",
      "\n",
      "      Epoch    GPU_mem   box_loss   cls_loss   dfl_loss  Instances       Size\n"
     ]
    },
    {
     "name": "stderr",
     "output_type": "stream",
     "text": [
      "\n",
      "     13/300         0G      1.415      1.873      1.164         23        640: 100%|██████████| 5/5 [00:26<00:00,  5.21s/it]\n",
      "                 Class     Images  Instances      Box(P          R      mAP50  mAP50-95): 100%|██████████| 1/1 [00:04<00:00,  4.31s/it]"
     ]
    },
    {
     "name": "stdout",
     "output_type": "stream",
     "text": [
      "                   all         24         47      0.257      0.106      0.126     0.0751\n",
      "\n",
      "      Epoch    GPU_mem   box_loss   cls_loss   dfl_loss  Instances       Size\n"
     ]
    },
    {
     "name": "stderr",
     "output_type": "stream",
     "text": [
      "\n",
      "     14/300         0G      1.503       1.75      1.183         40        640: 100%|██████████| 5/5 [00:26<00:00,  5.26s/it]\n",
      "                 Class     Images  Instances      Box(P          R      mAP50  mAP50-95): 100%|██████████| 1/1 [00:04<00:00,  4.36s/it]"
     ]
    },
    {
     "name": "stdout",
     "output_type": "stream",
     "text": [
      "                   all         24         47      0.559      0.377      0.422      0.235\n",
      "\n",
      "      Epoch    GPU_mem   box_loss   cls_loss   dfl_loss  Instances       Size\n"
     ]
    },
    {
     "name": "stderr",
     "output_type": "stream",
     "text": [
      "\n",
      "     15/300         0G      1.606      1.871      1.205         36        640: 100%|██████████| 5/5 [00:26<00:00,  5.27s/it]\n",
      "                 Class     Images  Instances      Box(P          R      mAP50  mAP50-95): 100%|██████████| 1/1 [00:04<00:00,  4.32s/it]"
     ]
    },
    {
     "name": "stdout",
     "output_type": "stream",
     "text": [
      "                   all         24         47      0.766      0.426       0.49       0.26\n",
      "\n",
      "      Epoch    GPU_mem   box_loss   cls_loss   dfl_loss  Instances       Size\n"
     ]
    },
    {
     "name": "stderr",
     "output_type": "stream",
     "text": [
      "\n",
      "     16/300         0G      1.431      1.744      1.163         31        640: 100%|██████████| 5/5 [00:25<00:00,  5.19s/it]\n",
      "                 Class     Images  Instances      Box(P          R      mAP50  mAP50-95): 100%|██████████| 1/1 [00:04<00:00,  4.33s/it]"
     ]
    },
    {
     "name": "stdout",
     "output_type": "stream",
     "text": [
      "                   all         24         47      0.494      0.396      0.364      0.202\n",
      "\n",
      "      Epoch    GPU_mem   box_loss   cls_loss   dfl_loss  Instances       Size\n"
     ]
    },
    {
     "name": "stderr",
     "output_type": "stream",
     "text": [
      "\n",
      "     17/300         0G      1.436      1.646      1.186         30        640: 100%|██████████| 5/5 [00:26<00:00,  5.28s/it]\n",
      "                 Class     Images  Instances      Box(P          R      mAP50  mAP50-95): 100%|██████████| 1/1 [16:57<00:00, 1017.94s/it]"
     ]
    },
    {
     "name": "stdout",
     "output_type": "stream",
     "text": [
      "                   all         24         47      0.351      0.298      0.252      0.119\n",
      "\n",
      "      Epoch    GPU_mem   box_loss   cls_loss   dfl_loss  Instances       Size\n"
     ]
    },
    {
     "name": "stderr",
     "output_type": "stream",
     "text": [
      "\n",
      "     18/300         0G      1.402      1.594      1.166         31        640: 100%|██████████| 5/5 [19:23<00:00, 232.69s/it]   \n",
      "                 Class     Images  Instances      Box(P          R      mAP50  mAP50-95): 100%|██████████| 1/1 [00:04<00:00,  4.24s/it]"
     ]
    },
    {
     "name": "stdout",
     "output_type": "stream",
     "text": [
      "                   all         24         47      0.405       0.34      0.329      0.172\n",
      "\n",
      "      Epoch    GPU_mem   box_loss   cls_loss   dfl_loss  Instances       Size\n"
     ]
    },
    {
     "name": "stderr",
     "output_type": "stream",
     "text": [
      "\n",
      "     19/300         0G      1.442       1.76      1.253         23        640: 100%|██████████| 5/5 [00:25<00:00,  5.18s/it]\n",
      "                 Class     Images  Instances      Box(P          R      mAP50  mAP50-95): 100%|██████████| 1/1 [00:04<00:00,  4.26s/it]"
     ]
    },
    {
     "name": "stdout",
     "output_type": "stream",
     "text": [
      "                   all         24         47      0.469       0.34      0.297      0.165\n",
      "\n",
      "      Epoch    GPU_mem   box_loss   cls_loss   dfl_loss  Instances       Size\n"
     ]
    },
    {
     "name": "stderr",
     "output_type": "stream",
     "text": [
      "\n",
      "     20/300         0G      1.559      1.639      1.235         33        640: 100%|██████████| 5/5 [00:26<00:00,  5.23s/it]\n",
      "                 Class     Images  Instances      Box(P          R      mAP50  mAP50-95): 100%|██████████| 1/1 [00:04<00:00,  4.24s/it]"
     ]
    },
    {
     "name": "stdout",
     "output_type": "stream",
     "text": [
      "                   all         24         47      0.761      0.339      0.388      0.229\n",
      "\n",
      "      Epoch    GPU_mem   box_loss   cls_loss   dfl_loss  Instances       Size\n"
     ]
    },
    {
     "name": "stderr",
     "output_type": "stream",
     "text": [
      "\n",
      "     21/300         0G      1.446      1.571      1.252         27        640: 100%|██████████| 5/5 [00:25<00:00,  5.18s/it]\n",
      "                 Class     Images  Instances      Box(P          R      mAP50  mAP50-95): 100%|██████████| 1/1 [00:04<00:00,  4.35s/it]"
     ]
    },
    {
     "name": "stdout",
     "output_type": "stream",
     "text": [
      "                   all         24         47      0.941      0.338      0.442       0.27\n",
      "\n",
      "      Epoch    GPU_mem   box_loss   cls_loss   dfl_loss  Instances       Size\n"
     ]
    },
    {
     "name": "stderr",
     "output_type": "stream",
     "text": [
      "\n",
      "     22/300         0G      1.537      1.623      1.289         40        640: 100%|██████████| 5/5 [00:26<00:00,  5.26s/it]\n",
      "                 Class     Images  Instances      Box(P          R      mAP50  mAP50-95): 100%|██████████| 1/1 [00:04<00:00,  4.36s/it]"
     ]
    },
    {
     "name": "stdout",
     "output_type": "stream",
     "text": [
      "                   all         24         47      0.877       0.34      0.431      0.262\n",
      "\n",
      "      Epoch    GPU_mem   box_loss   cls_loss   dfl_loss  Instances       Size\n"
     ]
    },
    {
     "name": "stderr",
     "output_type": "stream",
     "text": [
      "\n",
      "     23/300         0G      1.596      1.737      1.326         29        640: 100%|██████████| 5/5 [00:26<00:00,  5.24s/it]\n",
      "                 Class     Images  Instances      Box(P          R      mAP50  mAP50-95): 100%|██████████| 1/1 [00:04<00:00,  4.33s/it]"
     ]
    },
    {
     "name": "stdout",
     "output_type": "stream",
     "text": [
      "                   all         24         47      0.788       0.34      0.417      0.226\n",
      "\n",
      "      Epoch    GPU_mem   box_loss   cls_loss   dfl_loss  Instances       Size\n"
     ]
    },
    {
     "name": "stderr",
     "output_type": "stream",
     "text": [
      "\n",
      "     24/300         0G      1.507      1.625      1.262         22        640: 100%|██████████| 5/5 [00:26<00:00,  5.21s/it]\n",
      "                 Class     Images  Instances      Box(P          R      mAP50  mAP50-95): 100%|██████████| 1/1 [00:04<00:00,  4.24s/it]"
     ]
    },
    {
     "name": "stdout",
     "output_type": "stream",
     "text": [
      "                   all         24         47      0.583      0.489      0.436      0.245\n",
      "\n",
      "      Epoch    GPU_mem   box_loss   cls_loss   dfl_loss  Instances       Size\n"
     ]
    },
    {
     "name": "stderr",
     "output_type": "stream",
     "text": [
      "\n",
      "     25/300         0G      1.394      1.549      1.213         31        640: 100%|██████████| 5/5 [00:26<00:00,  5.22s/it]\n",
      "                 Class     Images  Instances      Box(P          R      mAP50  mAP50-95): 100%|██████████| 1/1 [00:04<00:00,  4.19s/it]"
     ]
    },
    {
     "name": "stdout",
     "output_type": "stream",
     "text": [
      "                   all         24         47      0.628      0.432      0.432      0.235\n",
      "\n",
      "      Epoch    GPU_mem   box_loss   cls_loss   dfl_loss  Instances       Size\n"
     ]
    },
    {
     "name": "stderr",
     "output_type": "stream",
     "text": [
      "\n",
      "     26/300         0G      1.393      1.417      1.217         32        640: 100%|██████████| 5/5 [00:26<00:00,  5.21s/it]\n",
      "                 Class     Images  Instances      Box(P          R      mAP50  mAP50-95): 100%|██████████| 1/1 [00:04<00:00,  4.29s/it]"
     ]
    },
    {
     "name": "stdout",
     "output_type": "stream",
     "text": [
      "                   all         24         47      0.226      0.277      0.124     0.0665\n",
      "\n",
      "      Epoch    GPU_mem   box_loss   cls_loss   dfl_loss  Instances       Size\n"
     ]
    },
    {
     "name": "stderr",
     "output_type": "stream",
     "text": [
      "\n",
      "     27/300         0G      1.358      1.476      1.181         34        640: 100%|██████████| 5/5 [00:25<00:00,  5.18s/it]\n",
      "                 Class     Images  Instances      Box(P          R      mAP50  mAP50-95): 100%|██████████| 1/1 [00:04<00:00,  4.20s/it]"
     ]
    },
    {
     "name": "stdout",
     "output_type": "stream",
     "text": [
      "                   all         24         47      0.135       0.34        0.1     0.0543\n",
      "\n",
      "      Epoch    GPU_mem   box_loss   cls_loss   dfl_loss  Instances       Size\n"
     ]
    },
    {
     "name": "stderr",
     "output_type": "stream",
     "text": [
      "\n",
      "     28/300         0G      1.579      1.476      1.223         30        640: 100%|██████████| 5/5 [00:26<00:00,  5.20s/it]\n",
      "                 Class     Images  Instances      Box(P          R      mAP50  mAP50-95): 100%|██████████| 1/1 [00:04<00:00,  4.33s/it]"
     ]
    },
    {
     "name": "stdout",
     "output_type": "stream",
     "text": [
      "                   all         24         47      0.519       0.46      0.422      0.232\n",
      "\n",
      "      Epoch    GPU_mem   box_loss   cls_loss   dfl_loss  Instances       Size\n"
     ]
    },
    {
     "name": "stderr",
     "output_type": "stream",
     "text": [
      "\n",
      "     29/300         0G      1.488      1.461      1.207         22        640: 100%|██████████| 5/5 [00:26<00:00,  5.21s/it]\n",
      "                 Class     Images  Instances      Box(P          R      mAP50  mAP50-95): 100%|██████████| 1/1 [00:04<00:00,  4.35s/it]"
     ]
    },
    {
     "name": "stdout",
     "output_type": "stream",
     "text": [
      "                   all         24         47      0.674      0.527      0.496      0.264\n",
      "\n",
      "      Epoch    GPU_mem   box_loss   cls_loss   dfl_loss  Instances       Size\n"
     ]
    },
    {
     "name": "stderr",
     "output_type": "stream",
     "text": [
      "\n",
      "     30/300         0G      1.486      1.444      1.272         28        640: 100%|██████████| 5/5 [00:26<00:00,  5.24s/it]\n",
      "                 Class     Images  Instances      Box(P          R      mAP50  mAP50-95): 100%|██████████| 1/1 [00:04<00:00,  4.36s/it]"
     ]
    },
    {
     "name": "stdout",
     "output_type": "stream",
     "text": [
      "                   all         24         47      0.607      0.362      0.415      0.222\n",
      "\n",
      "      Epoch    GPU_mem   box_loss   cls_loss   dfl_loss  Instances       Size\n"
     ]
    },
    {
     "name": "stderr",
     "output_type": "stream",
     "text": [
      "\n",
      "     31/300         0G      1.424      1.365      1.261         25        640: 100%|██████████| 5/5 [00:26<00:00,  5.28s/it]\n",
      "                 Class     Images  Instances      Box(P          R      mAP50  mAP50-95): 100%|██████████| 1/1 [00:04<00:00,  4.27s/it]"
     ]
    },
    {
     "name": "stdout",
     "output_type": "stream",
     "text": [
      "                   all         24         47      0.682      0.447       0.51      0.294\n",
      "\n",
      "      Epoch    GPU_mem   box_loss   cls_loss   dfl_loss  Instances       Size\n"
     ]
    },
    {
     "name": "stderr",
     "output_type": "stream",
     "text": [
      "\n",
      "     32/300         0G      1.466      1.398       1.25         30        640: 100%|██████████| 5/5 [00:26<00:00,  5.31s/it]\n",
      "                 Class     Images  Instances      Box(P          R      mAP50  mAP50-95): 100%|██████████| 1/1 [00:04<00:00,  4.36s/it]"
     ]
    },
    {
     "name": "stdout",
     "output_type": "stream",
     "text": [
      "                   all         24         47      0.725      0.511      0.602      0.338\n",
      "\n",
      "      Epoch    GPU_mem   box_loss   cls_loss   dfl_loss  Instances       Size\n"
     ]
    },
    {
     "name": "stderr",
     "output_type": "stream",
     "text": [
      "\n",
      "     33/300         0G       1.48      1.396      1.264         31        640: 100%|██████████| 5/5 [00:26<00:00,  5.27s/it]\n",
      "                 Class     Images  Instances      Box(P          R      mAP50  mAP50-95): 100%|██████████| 1/1 [00:04<00:00,  4.30s/it]"
     ]
    },
    {
     "name": "stdout",
     "output_type": "stream",
     "text": [
      "                   all         24         47      0.739      0.532      0.593      0.321\n",
      "\n",
      "      Epoch    GPU_mem   box_loss   cls_loss   dfl_loss  Instances       Size\n"
     ]
    },
    {
     "name": "stderr",
     "output_type": "stream",
     "text": [
      "\n",
      "     34/300         0G      1.399       1.29      1.231         31        640: 100%|██████████| 5/5 [00:26<00:00,  5.30s/it]\n",
      "                 Class     Images  Instances      Box(P          R      mAP50  mAP50-95): 100%|██████████| 1/1 [00:04<00:00,  4.35s/it]"
     ]
    },
    {
     "name": "stdout",
     "output_type": "stream",
     "text": [
      "                   all         24         47      0.956      0.461      0.573      0.306\n",
      "\n",
      "      Epoch    GPU_mem   box_loss   cls_loss   dfl_loss  Instances       Size\n"
     ]
    },
    {
     "name": "stderr",
     "output_type": "stream",
     "text": [
      "\n",
      "     35/300         0G      1.417      1.255      1.208         28        640: 100%|██████████| 5/5 [00:26<00:00,  5.29s/it]\n",
      "                 Class     Images  Instances      Box(P          R      mAP50  mAP50-95): 100%|██████████| 1/1 [00:04<00:00,  4.32s/it]"
     ]
    },
    {
     "name": "stdout",
     "output_type": "stream",
     "text": [
      "                   all         24         47      0.732      0.511      0.599      0.325\n",
      "\n",
      "      Epoch    GPU_mem   box_loss   cls_loss   dfl_loss  Instances       Size\n"
     ]
    },
    {
     "name": "stderr",
     "output_type": "stream",
     "text": [
      "\n",
      "     36/300         0G      1.438      1.299      1.208         23        640: 100%|██████████| 5/5 [00:26<00:00,  5.26s/it]\n",
      "                 Class     Images  Instances      Box(P          R      mAP50  mAP50-95): 100%|██████████| 1/1 [00:04<00:00,  4.26s/it]"
     ]
    },
    {
     "name": "stdout",
     "output_type": "stream",
     "text": [
      "                   all         24         47      0.733      0.532      0.619      0.324\n",
      "\n",
      "      Epoch    GPU_mem   box_loss   cls_loss   dfl_loss  Instances       Size\n"
     ]
    },
    {
     "name": "stderr",
     "output_type": "stream",
     "text": [
      "\n",
      "     37/300         0G      1.403      1.227      1.165         39        640: 100%|██████████| 5/5 [00:26<00:00,  5.23s/it]\n",
      "                 Class     Images  Instances      Box(P          R      mAP50  mAP50-95): 100%|██████████| 1/1 [00:04<00:00,  4.33s/it]"
     ]
    },
    {
     "name": "stdout",
     "output_type": "stream",
     "text": [
      "                   all         24         47      0.876      0.468      0.603      0.339\n",
      "\n",
      "      Epoch    GPU_mem   box_loss   cls_loss   dfl_loss  Instances       Size\n"
     ]
    },
    {
     "name": "stderr",
     "output_type": "stream",
     "text": [
      "\n",
      "     38/300         0G      1.231      1.159      1.125         35        640: 100%|██████████| 5/5 [00:26<00:00,  5.25s/it]\n",
      "                 Class     Images  Instances      Box(P          R      mAP50  mAP50-95): 100%|██████████| 1/1 [00:04<00:00,  4.29s/it]"
     ]
    },
    {
     "name": "stdout",
     "output_type": "stream",
     "text": [
      "                   all         24         47      0.883      0.482      0.559      0.332\n",
      "\n",
      "      Epoch    GPU_mem   box_loss   cls_loss   dfl_loss  Instances       Size\n"
     ]
    },
    {
     "name": "stderr",
     "output_type": "stream",
     "text": [
      "\n",
      "     39/300         0G      1.398      1.211      1.232         28        640: 100%|██████████| 5/5 [00:26<00:00,  5.22s/it]\n",
      "                 Class     Images  Instances      Box(P          R      mAP50  mAP50-95): 100%|██████████| 1/1 [00:04<00:00,  4.20s/it]"
     ]
    },
    {
     "name": "stdout",
     "output_type": "stream",
     "text": [
      "                   all         24         47      0.878      0.468       0.52      0.292\n",
      "\n",
      "      Epoch    GPU_mem   box_loss   cls_loss   dfl_loss  Instances       Size\n"
     ]
    },
    {
     "name": "stderr",
     "output_type": "stream",
     "text": [
      "\n",
      "     40/300         0G       1.47      1.267      1.232         35        640: 100%|██████████| 5/5 [00:25<00:00,  5.19s/it]\n",
      "                 Class     Images  Instances      Box(P          R      mAP50  mAP50-95): 100%|██████████| 1/1 [00:04<00:00,  4.29s/it]"
     ]
    },
    {
     "name": "stdout",
     "output_type": "stream",
     "text": [
      "                   all         24         47      0.849      0.479      0.535      0.304\n",
      "\n",
      "      Epoch    GPU_mem   box_loss   cls_loss   dfl_loss  Instances       Size\n"
     ]
    },
    {
     "name": "stderr",
     "output_type": "stream",
     "text": [
      "\n",
      "     41/300         0G      1.435        1.3       1.24         39        640: 100%|██████████| 5/5 [00:26<00:00,  5.27s/it]\n",
      "                 Class     Images  Instances      Box(P          R      mAP50  mAP50-95): 100%|██████████| 1/1 [00:04<00:00,  4.28s/it]"
     ]
    },
    {
     "name": "stdout",
     "output_type": "stream",
     "text": [
      "                   all         24         47      0.746      0.532      0.581      0.321\n",
      "\n",
      "      Epoch    GPU_mem   box_loss   cls_loss   dfl_loss  Instances       Size\n"
     ]
    },
    {
     "name": "stderr",
     "output_type": "stream",
     "text": [
      "\n",
      "     42/300         0G      1.308      1.207      1.122         36        640: 100%|██████████| 5/5 [00:26<00:00,  5.25s/it]\n",
      "                 Class     Images  Instances      Box(P          R      mAP50  mAP50-95): 100%|██████████| 1/1 [00:04<00:00,  4.20s/it]"
     ]
    },
    {
     "name": "stdout",
     "output_type": "stream",
     "text": [
      "                   all         24         47       0.81      0.553      0.605      0.365\n",
      "\n",
      "      Epoch    GPU_mem   box_loss   cls_loss   dfl_loss  Instances       Size\n"
     ]
    },
    {
     "name": "stderr",
     "output_type": "stream",
     "text": [
      "\n",
      "     43/300         0G      1.406      1.243      1.141         25        640: 100%|██████████| 5/5 [00:25<00:00,  5.18s/it]\n",
      "                 Class     Images  Instances      Box(P          R      mAP50  mAP50-95): 100%|██████████| 1/1 [00:04<00:00,  4.26s/it]"
     ]
    },
    {
     "name": "stdout",
     "output_type": "stream",
     "text": [
      "                   all         24         47      0.728      0.574      0.609      0.371\n",
      "\n",
      "      Epoch    GPU_mem   box_loss   cls_loss   dfl_loss  Instances       Size\n"
     ]
    },
    {
     "name": "stderr",
     "output_type": "stream",
     "text": [
      "\n",
      "     44/300         0G      1.402      1.156      1.148         25        640: 100%|██████████| 5/5 [00:25<00:00,  5.19s/it]\n",
      "                 Class     Images  Instances      Box(P          R      mAP50  mAP50-95): 100%|██████████| 1/1 [00:04<00:00,  4.25s/it]"
     ]
    },
    {
     "name": "stdout",
     "output_type": "stream",
     "text": [
      "                   all         24         47      0.774      0.509       0.59      0.352\n",
      "\n",
      "      Epoch    GPU_mem   box_loss   cls_loss   dfl_loss  Instances       Size\n"
     ]
    },
    {
     "name": "stderr",
     "output_type": "stream",
     "text": [
      "\n",
      "     45/300         0G      1.391      1.176      1.171         30        640: 100%|██████████| 5/5 [00:25<00:00,  5.19s/it]\n",
      "                 Class     Images  Instances      Box(P          R      mAP50  mAP50-95): 100%|██████████| 1/1 [00:04<00:00,  4.34s/it]"
     ]
    },
    {
     "name": "stdout",
     "output_type": "stream",
     "text": [
      "                   all         24         47      0.911      0.468      0.576      0.345\n",
      "\n",
      "      Epoch    GPU_mem   box_loss   cls_loss   dfl_loss  Instances       Size\n"
     ]
    },
    {
     "name": "stderr",
     "output_type": "stream",
     "text": [
      "\n",
      "     46/300         0G      1.251      1.149      1.123         36        640: 100%|██████████| 5/5 [00:26<00:00,  5.28s/it]\n",
      "                 Class     Images  Instances      Box(P          R      mAP50  mAP50-95): 100%|██████████| 1/1 [00:04<00:00,  4.31s/it]"
     ]
    },
    {
     "name": "stdout",
     "output_type": "stream",
     "text": [
      "                   all         24         47      0.733      0.511      0.576      0.332\n",
      "\n",
      "      Epoch    GPU_mem   box_loss   cls_loss   dfl_loss  Instances       Size\n"
     ]
    },
    {
     "name": "stderr",
     "output_type": "stream",
     "text": [
      "\n",
      "     47/300         0G       1.27       1.14      1.144         25        640: 100%|██████████| 5/5 [00:26<00:00,  5.23s/it]\n",
      "                 Class     Images  Instances      Box(P          R      mAP50  mAP50-95): 100%|██████████| 1/1 [00:04<00:00,  4.23s/it]"
     ]
    },
    {
     "name": "stdout",
     "output_type": "stream",
     "text": [
      "                   all         24         47      0.696      0.511      0.534      0.305\n",
      "\n",
      "      Epoch    GPU_mem   box_loss   cls_loss   dfl_loss  Instances       Size\n"
     ]
    },
    {
     "name": "stderr",
     "output_type": "stream",
     "text": [
      "\n",
      "     48/300         0G      1.307      1.086      1.177         24        640: 100%|██████████| 5/5 [00:26<00:00,  5.21s/it]\n",
      "                 Class     Images  Instances      Box(P          R      mAP50  mAP50-95): 100%|██████████| 1/1 [00:04<00:00,  4.25s/it]"
     ]
    },
    {
     "name": "stdout",
     "output_type": "stream",
     "text": [
      "                   all         24         47      0.536      0.617      0.581      0.338\n",
      "\n",
      "      Epoch    GPU_mem   box_loss   cls_loss   dfl_loss  Instances       Size\n"
     ]
    },
    {
     "name": "stderr",
     "output_type": "stream",
     "text": [
      "\n",
      "     49/300         0G      1.292      1.037      1.155         20        640: 100%|██████████| 5/5 [00:26<00:00,  5.21s/it]\n",
      "                 Class     Images  Instances      Box(P          R      mAP50  mAP50-95): 100%|██████████| 1/1 [00:04<00:00,  4.30s/it]"
     ]
    },
    {
     "name": "stdout",
     "output_type": "stream",
     "text": [
      "                   all         24         47       0.65      0.632      0.634      0.355\n",
      "\n",
      "      Epoch    GPU_mem   box_loss   cls_loss   dfl_loss  Instances       Size\n"
     ]
    },
    {
     "name": "stderr",
     "output_type": "stream",
     "text": [
      "\n",
      "     50/300         0G      1.306      1.065      1.142         23        640: 100%|██████████| 5/5 [00:26<00:00,  5.31s/it]\n",
      "                 Class     Images  Instances      Box(P          R      mAP50  mAP50-95): 100%|██████████| 1/1 [00:04<00:00,  4.36s/it]"
     ]
    },
    {
     "name": "stdout",
     "output_type": "stream",
     "text": [
      "                   all         24         47       0.67      0.681      0.663      0.374\n",
      "\n",
      "      Epoch    GPU_mem   box_loss   cls_loss   dfl_loss  Instances       Size\n"
     ]
    },
    {
     "name": "stderr",
     "output_type": "stream",
     "text": [
      "\n",
      "     51/300         0G      1.359      1.084      1.144         23        640: 100%|██████████| 5/5 [00:26<00:00,  5.29s/it]\n",
      "                 Class     Images  Instances      Box(P          R      mAP50  mAP50-95): 100%|██████████| 1/1 [00:04<00:00,  4.21s/it]"
     ]
    },
    {
     "name": "stdout",
     "output_type": "stream",
     "text": [
      "                   all         24         47      0.654       0.66      0.667      0.409\n",
      "\n",
      "      Epoch    GPU_mem   box_loss   cls_loss   dfl_loss  Instances       Size\n"
     ]
    },
    {
     "name": "stderr",
     "output_type": "stream",
     "text": [
      "\n",
      "     52/300         0G      1.403      1.063      1.243         39        640: 100%|██████████| 5/5 [00:25<00:00,  5.19s/it]\n",
      "                 Class     Images  Instances      Box(P          R      mAP50  mAP50-95): 100%|██████████| 1/1 [00:04<00:00,  4.32s/it]"
     ]
    },
    {
     "name": "stdout",
     "output_type": "stream",
     "text": [
      "                   all         24         47      0.796       0.58      0.697      0.407\n",
      "\n",
      "      Epoch    GPU_mem   box_loss   cls_loss   dfl_loss  Instances       Size\n"
     ]
    },
    {
     "name": "stderr",
     "output_type": "stream",
     "text": [
      "\n",
      "     53/300         0G       1.32       1.07      1.179         34        640: 100%|██████████| 5/5 [00:26<00:00,  5.29s/it]\n",
      "                 Class     Images  Instances      Box(P          R      mAP50  mAP50-95): 100%|██████████| 1/1 [00:04<00:00,  4.30s/it]"
     ]
    },
    {
     "name": "stdout",
     "output_type": "stream",
     "text": [
      "                   all         24         47       0.78      0.603      0.701      0.419\n",
      "\n",
      "      Epoch    GPU_mem   box_loss   cls_loss   dfl_loss  Instances       Size\n"
     ]
    },
    {
     "name": "stderr",
     "output_type": "stream",
     "text": [
      "\n",
      "     54/300         0G      1.365       1.04      1.177         32        640: 100%|██████████| 5/5 [00:26<00:00,  5.30s/it]\n",
      "                 Class     Images  Instances      Box(P          R      mAP50  mAP50-95): 100%|██████████| 1/1 [00:04<00:00,  4.23s/it]"
     ]
    },
    {
     "name": "stdout",
     "output_type": "stream",
     "text": [
      "                   all         24         47      0.796      0.582      0.687      0.401\n",
      "\n",
      "      Epoch    GPU_mem   box_loss   cls_loss   dfl_loss  Instances       Size\n"
     ]
    },
    {
     "name": "stderr",
     "output_type": "stream",
     "text": [
      "\n",
      "     55/300         0G       1.41      1.042      1.189         27        640: 100%|██████████| 5/5 [00:25<00:00,  5.19s/it]\n",
      "                 Class     Images  Instances      Box(P          R      mAP50  mAP50-95): 100%|██████████| 1/1 [00:04<00:00,  4.21s/it]"
     ]
    },
    {
     "name": "stdout",
     "output_type": "stream",
     "text": [
      "                   all         24         47      0.826      0.574      0.708      0.429\n",
      "\n",
      "      Epoch    GPU_mem   box_loss   cls_loss   dfl_loss  Instances       Size\n"
     ]
    },
    {
     "name": "stderr",
     "output_type": "stream",
     "text": [
      "\n",
      "     56/300         0G      1.324     0.9999      1.159         48        640: 100%|██████████| 5/5 [00:26<00:00,  5.21s/it]\n",
      "                 Class     Images  Instances      Box(P          R      mAP50  mAP50-95): 100%|██████████| 1/1 [00:04<00:00,  4.26s/it]"
     ]
    },
    {
     "name": "stdout",
     "output_type": "stream",
     "text": [
      "                   all         24         47      0.905      0.608      0.742      0.442\n",
      "\n",
      "      Epoch    GPU_mem   box_loss   cls_loss   dfl_loss  Instances       Size\n"
     ]
    },
    {
     "name": "stderr",
     "output_type": "stream",
     "text": [
      "\n",
      "     57/300         0G      1.224     0.9953        1.1         26        640: 100%|██████████| 5/5 [00:26<00:00,  5.25s/it]\n",
      "                 Class     Images  Instances      Box(P          R      mAP50  mAP50-95): 100%|██████████| 1/1 [00:04<00:00,  4.32s/it]"
     ]
    },
    {
     "name": "stdout",
     "output_type": "stream",
     "text": [
      "                   all         24         47      0.988      0.574      0.745      0.423\n",
      "\n",
      "      Epoch    GPU_mem   box_loss   cls_loss   dfl_loss  Instances       Size\n"
     ]
    },
    {
     "name": "stderr",
     "output_type": "stream",
     "text": [
      "\n",
      "     58/300         0G      1.232     0.9907       1.13         24        640: 100%|██████████| 5/5 [00:26<00:00,  5.29s/it]\n",
      "                 Class     Images  Instances      Box(P          R      mAP50  mAP50-95): 100%|██████████| 1/1 [00:04<00:00,  4.22s/it]"
     ]
    },
    {
     "name": "stdout",
     "output_type": "stream",
     "text": [
      "                   all         24         47       0.89      0.638       0.73      0.407\n",
      "\n",
      "      Epoch    GPU_mem   box_loss   cls_loss   dfl_loss  Instances       Size\n"
     ]
    },
    {
     "name": "stderr",
     "output_type": "stream",
     "text": [
      "\n",
      "     59/300         0G      1.194     0.9335      1.117         26        640: 100%|██████████| 5/5 [00:25<00:00,  5.20s/it]\n",
      "                 Class     Images  Instances      Box(P          R      mAP50  mAP50-95): 100%|██████████| 1/1 [00:04<00:00,  4.19s/it]"
     ]
    },
    {
     "name": "stdout",
     "output_type": "stream",
     "text": [
      "                   all         24         47       0.95      0.596      0.703      0.388\n",
      "\n",
      "      Epoch    GPU_mem   box_loss   cls_loss   dfl_loss  Instances       Size\n"
     ]
    },
    {
     "name": "stderr",
     "output_type": "stream",
     "text": [
      "\n",
      "     60/300         0G      1.292     0.9941      1.122         29        640: 100%|██████████| 5/5 [00:25<00:00,  5.19s/it]\n",
      "                 Class     Images  Instances      Box(P          R      mAP50  mAP50-95): 100%|██████████| 1/1 [00:04<00:00,  4.30s/it]"
     ]
    },
    {
     "name": "stdout",
     "output_type": "stream",
     "text": [
      "                   all         24         47       0.84      0.681      0.753      0.417\n",
      "\n",
      "      Epoch    GPU_mem   box_loss   cls_loss   dfl_loss  Instances       Size\n"
     ]
    },
    {
     "name": "stderr",
     "output_type": "stream",
     "text": [
      "\n",
      "     61/300         0G      1.216     0.9604      1.103         26        640: 100%|██████████| 5/5 [00:26<00:00,  5.27s/it]\n",
      "                 Class     Images  Instances      Box(P          R      mAP50  mAP50-95): 100%|██████████| 1/1 [00:04<00:00,  4.23s/it]"
     ]
    },
    {
     "name": "stdout",
     "output_type": "stream",
     "text": [
      "                   all         24         47       0.82      0.745      0.768      0.418\n",
      "\n",
      "      Epoch    GPU_mem   box_loss   cls_loss   dfl_loss  Instances       Size\n"
     ]
    },
    {
     "name": "stderr",
     "output_type": "stream",
     "text": [
      "\n",
      "     62/300         0G      1.199     0.9098      1.113         26        640: 100%|██████████| 5/5 [00:25<00:00,  5.20s/it]\n",
      "                 Class     Images  Instances      Box(P          R      mAP50  mAP50-95): 100%|██████████| 1/1 [00:04<00:00,  4.25s/it]"
     ]
    },
    {
     "name": "stdout",
     "output_type": "stream",
     "text": [
      "                   all         24         47      0.829      0.723      0.757      0.401\n",
      "\n",
      "      Epoch    GPU_mem   box_loss   cls_loss   dfl_loss  Instances       Size\n"
     ]
    },
    {
     "name": "stderr",
     "output_type": "stream",
     "text": [
      "\n",
      "     63/300         0G      1.192     0.9287      1.095         29        640: 100%|██████████| 5/5 [00:26<00:00,  5.29s/it]\n",
      "                 Class     Images  Instances      Box(P          R      mAP50  mAP50-95): 100%|██████████| 1/1 [00:04<00:00,  4.33s/it]"
     ]
    },
    {
     "name": "stdout",
     "output_type": "stream",
     "text": [
      "                   all         24         47      0.885      0.655      0.737      0.391\n",
      "\n",
      "      Epoch    GPU_mem   box_loss   cls_loss   dfl_loss  Instances       Size\n"
     ]
    },
    {
     "name": "stderr",
     "output_type": "stream",
     "text": [
      "\n",
      "     64/300         0G      1.252      1.002      1.147         32        640: 100%|██████████| 5/5 [00:26<00:00,  5.22s/it]\n",
      "                 Class     Images  Instances      Box(P          R      mAP50  mAP50-95): 100%|██████████| 1/1 [00:04<00:00,  4.17s/it]"
     ]
    },
    {
     "name": "stdout",
     "output_type": "stream",
     "text": [
      "                   all         24         47      0.908      0.632       0.75      0.426\n",
      "\n",
      "      Epoch    GPU_mem   box_loss   cls_loss   dfl_loss  Instances       Size\n"
     ]
    },
    {
     "name": "stderr",
     "output_type": "stream",
     "text": [
      "\n",
      "     65/300         0G       1.26       0.88      1.092         36        640: 100%|██████████| 5/5 [00:26<00:00,  5.22s/it]\n",
      "                 Class     Images  Instances      Box(P          R      mAP50  mAP50-95): 100%|██████████| 1/1 [00:04<00:00,  4.29s/it]"
     ]
    },
    {
     "name": "stdout",
     "output_type": "stream",
     "text": [
      "                   all         24         47      0.875      0.723      0.746      0.449\n",
      "\n",
      "      Epoch    GPU_mem   box_loss   cls_loss   dfl_loss  Instances       Size\n"
     ]
    },
    {
     "name": "stderr",
     "output_type": "stream",
     "text": [
      "\n",
      "     66/300         0G      1.257     0.9324        1.1         41        640: 100%|██████████| 5/5 [00:26<00:00,  5.22s/it]\n",
      "                 Class     Images  Instances      Box(P          R      mAP50  mAP50-95): 100%|██████████| 1/1 [00:04<00:00,  4.25s/it]"
     ]
    },
    {
     "name": "stdout",
     "output_type": "stream",
     "text": [
      "                   all         24         47      0.924      0.638       0.72      0.407\n",
      "\n",
      "      Epoch    GPU_mem   box_loss   cls_loss   dfl_loss  Instances       Size\n"
     ]
    },
    {
     "name": "stderr",
     "output_type": "stream",
     "text": [
      "\n",
      "     67/300         0G      1.199     0.8899      1.112         32        640: 100%|██████████| 5/5 [00:26<00:00,  5.28s/it]\n",
      "                 Class     Images  Instances      Box(P          R      mAP50  mAP50-95): 100%|██████████| 1/1 [00:04<00:00,  4.29s/it]"
     ]
    },
    {
     "name": "stdout",
     "output_type": "stream",
     "text": [
      "                   all         24         47      0.924      0.617      0.691      0.395\n",
      "\n",
      "      Epoch    GPU_mem   box_loss   cls_loss   dfl_loss  Instances       Size\n"
     ]
    },
    {
     "name": "stderr",
     "output_type": "stream",
     "text": [
      "\n",
      "     68/300         0G      1.223     0.8489      1.106         28        640: 100%|██████████| 5/5 [00:26<00:00,  5.31s/it]\n",
      "                 Class     Images  Instances      Box(P          R      mAP50  mAP50-95): 100%|██████████| 1/1 [00:04<00:00,  4.22s/it]"
     ]
    },
    {
     "name": "stdout",
     "output_type": "stream",
     "text": [
      "                   all         24         47      0.789      0.636      0.683       0.35\n",
      "\n",
      "      Epoch    GPU_mem   box_loss   cls_loss   dfl_loss  Instances       Size\n"
     ]
    },
    {
     "name": "stderr",
     "output_type": "stream",
     "text": [
      "\n",
      "     69/300         0G      1.222     0.9062      1.139         26        640: 100%|██████████| 5/5 [00:25<00:00,  5.19s/it]\n",
      "                 Class     Images  Instances      Box(P          R      mAP50  mAP50-95): 100%|██████████| 1/1 [00:04<00:00,  4.18s/it]"
     ]
    },
    {
     "name": "stdout",
     "output_type": "stream",
     "text": [
      "                   all         24         47      0.736      0.593      0.674      0.359\n",
      "\n",
      "      Epoch    GPU_mem   box_loss   cls_loss   dfl_loss  Instances       Size\n"
     ]
    },
    {
     "name": "stderr",
     "output_type": "stream",
     "text": [
      "\n",
      "     70/300         0G      1.134     0.8155      1.061         33        640: 100%|██████████| 5/5 [00:26<00:00,  5.21s/it]\n",
      "                 Class     Images  Instances      Box(P          R      mAP50  mAP50-95): 100%|██████████| 1/1 [00:04<00:00,  4.23s/it]"
     ]
    },
    {
     "name": "stdout",
     "output_type": "stream",
     "text": [
      "                   all         24         47      0.842      0.553      0.696      0.393\n",
      "\n",
      "      Epoch    GPU_mem   box_loss   cls_loss   dfl_loss  Instances       Size\n"
     ]
    },
    {
     "name": "stderr",
     "output_type": "stream",
     "text": [
      "\n",
      "     71/300         0G      1.195     0.8522      1.125         32        640: 100%|██████████| 5/5 [00:25<00:00,  5.18s/it]\n",
      "                 Class     Images  Instances      Box(P          R      mAP50  mAP50-95): 100%|██████████| 1/1 [00:04<00:00,  4.28s/it]"
     ]
    },
    {
     "name": "stdout",
     "output_type": "stream",
     "text": [
      "                   all         24         47      0.807      0.624      0.747      0.435\n",
      "\n",
      "      Epoch    GPU_mem   box_loss   cls_loss   dfl_loss  Instances       Size\n"
     ]
    },
    {
     "name": "stderr",
     "output_type": "stream",
     "text": [
      "\n",
      "     72/300         0G      1.173     0.8419      1.115         31        640: 100%|██████████| 5/5 [00:26<00:00,  5.26s/it]\n",
      "                 Class     Images  Instances      Box(P          R      mAP50  mAP50-95): 100%|██████████| 1/1 [00:04<00:00,  4.33s/it]"
     ]
    },
    {
     "name": "stdout",
     "output_type": "stream",
     "text": [
      "                   all         24         47      0.792      0.702      0.743      0.458\n",
      "\n",
      "      Epoch    GPU_mem   box_loss   cls_loss   dfl_loss  Instances       Size\n"
     ]
    },
    {
     "name": "stderr",
     "output_type": "stream",
     "text": [
      "\n",
      "     73/300         0G      1.156     0.8704      1.107         25        640: 100%|██████████| 5/5 [00:26<00:00,  5.25s/it]\n",
      "                 Class     Images  Instances      Box(P          R      mAP50  mAP50-95): 100%|██████████| 1/1 [00:04<00:00,  4.27s/it]"
     ]
    },
    {
     "name": "stdout",
     "output_type": "stream",
     "text": [
      "                   all         24         47      0.966      0.614       0.74      0.463\n",
      "\n",
      "      Epoch    GPU_mem   box_loss   cls_loss   dfl_loss  Instances       Size\n"
     ]
    },
    {
     "name": "stderr",
     "output_type": "stream",
     "text": [
      "\n",
      "     74/300         0G      1.117     0.8662      1.073         23        640: 100%|██████████| 5/5 [00:26<00:00,  5.25s/it]\n",
      "                 Class     Images  Instances      Box(P          R      mAP50  mAP50-95): 100%|██████████| 1/1 [00:04<00:00,  4.16s/it]"
     ]
    },
    {
     "name": "stdout",
     "output_type": "stream",
     "text": [
      "                   all         24         47          1      0.592       0.75       0.46\n",
      "\n",
      "      Epoch    GPU_mem   box_loss   cls_loss   dfl_loss  Instances       Size\n"
     ]
    },
    {
     "name": "stderr",
     "output_type": "stream",
     "text": [
      "\n",
      "     75/300         0G      1.113     0.8031       1.05         35        640: 100%|██████████| 5/5 [00:25<00:00,  5.17s/it]\n",
      "                 Class     Images  Instances      Box(P          R      mAP50  mAP50-95): 100%|██████████| 1/1 [00:04<00:00,  4.28s/it]"
     ]
    },
    {
     "name": "stdout",
     "output_type": "stream",
     "text": [
      "                   all         24         47      0.784      0.681      0.742       0.45\n",
      "\n",
      "      Epoch    GPU_mem   box_loss   cls_loss   dfl_loss  Instances       Size\n"
     ]
    },
    {
     "name": "stderr",
     "output_type": "stream",
     "text": [
      "\n",
      "     76/300         0G      1.151      0.908      1.113         27        640: 100%|██████████| 5/5 [00:26<00:00,  5.27s/it]\n",
      "                 Class     Images  Instances      Box(P          R      mAP50  mAP50-95): 100%|██████████| 1/1 [00:04<00:00,  4.29s/it]"
     ]
    },
    {
     "name": "stdout",
     "output_type": "stream",
     "text": [
      "                   all         24         47      0.816      0.681      0.733      0.424\n",
      "\n",
      "      Epoch    GPU_mem   box_loss   cls_loss   dfl_loss  Instances       Size\n"
     ]
    },
    {
     "name": "stderr",
     "output_type": "stream",
     "text": [
      "\n",
      "     77/300         0G      1.173      0.859      1.078         23        640: 100%|██████████| 5/5 [00:26<00:00,  5.28s/it]\n",
      "                 Class     Images  Instances      Box(P          R      mAP50  mAP50-95): 100%|██████████| 1/1 [00:04<00:00,  4.22s/it]"
     ]
    },
    {
     "name": "stdout",
     "output_type": "stream",
     "text": [
      "                   all         24         47       0.87      0.638      0.727      0.435\n",
      "\n",
      "      Epoch    GPU_mem   box_loss   cls_loss   dfl_loss  Instances       Size\n"
     ]
    },
    {
     "name": "stderr",
     "output_type": "stream",
     "text": [
      "\n",
      "     78/300         0G       1.17     0.8582      1.108         34        640: 100%|██████████| 5/5 [00:25<00:00,  5.19s/it]\n",
      "                 Class     Images  Instances      Box(P          R      mAP50  mAP50-95): 100%|██████████| 1/1 [00:04<00:00,  4.38s/it]"
     ]
    },
    {
     "name": "stdout",
     "output_type": "stream",
     "text": [
      "                   all         24         47      0.924      0.596       0.71      0.409\n",
      "\n",
      "      Epoch    GPU_mem   box_loss   cls_loss   dfl_loss  Instances       Size\n"
     ]
    },
    {
     "name": "stderr",
     "output_type": "stream",
     "text": [
      "\n",
      "     79/300         0G      1.126     0.7856      1.078         29        640: 100%|██████████| 5/5 [00:26<00:00,  5.27s/it]\n",
      "                 Class     Images  Instances      Box(P          R      mAP50  mAP50-95): 100%|██████████| 1/1 [00:04<00:00,  4.32s/it]"
     ]
    },
    {
     "name": "stdout",
     "output_type": "stream",
     "text": [
      "                   all         24         47      0.945      0.596      0.674      0.389\n",
      "\n",
      "      Epoch    GPU_mem   box_loss   cls_loss   dfl_loss  Instances       Size\n"
     ]
    },
    {
     "name": "stderr",
     "output_type": "stream",
     "text": [
      "\n",
      "     80/300         0G      1.112     0.7772      1.073         31        640: 100%|██████████| 5/5 [00:26<00:00,  5.27s/it]\n",
      "                 Class     Images  Instances      Box(P          R      mAP50  mAP50-95): 100%|██████████| 1/1 [00:04<00:00,  4.32s/it]"
     ]
    },
    {
     "name": "stdout",
     "output_type": "stream",
     "text": [
      "                   all         24         47      0.782      0.574      0.596      0.353\n",
      "\n",
      "      Epoch    GPU_mem   box_loss   cls_loss   dfl_loss  Instances       Size\n"
     ]
    },
    {
     "name": "stderr",
     "output_type": "stream",
     "text": [
      "\n",
      "     81/300         0G      1.195     0.8227      1.127         22        640: 100%|██████████| 5/5 [00:26<00:00,  5.25s/it]\n",
      "                 Class     Images  Instances      Box(P          R      mAP50  mAP50-95): 100%|██████████| 1/1 [00:04<00:00,  4.31s/it]"
     ]
    },
    {
     "name": "stdout",
     "output_type": "stream",
     "text": [
      "                   all         24         47      0.828      0.613      0.593      0.353\n",
      "\n",
      "      Epoch    GPU_mem   box_loss   cls_loss   dfl_loss  Instances       Size\n"
     ]
    },
    {
     "name": "stderr",
     "output_type": "stream",
     "text": [
      "\n",
      "     82/300         0G      1.098     0.7999      1.077         31        640: 100%|██████████| 5/5 [00:26<00:00,  5.28s/it]\n",
      "                 Class     Images  Instances      Box(P          R      mAP50  mAP50-95): 100%|██████████| 1/1 [00:04<00:00,  4.28s/it]"
     ]
    },
    {
     "name": "stdout",
     "output_type": "stream",
     "text": [
      "                   all         24         47      0.813      0.596      0.623      0.373\n",
      "\n",
      "      Epoch    GPU_mem   box_loss   cls_loss   dfl_loss  Instances       Size\n"
     ]
    },
    {
     "name": "stderr",
     "output_type": "stream",
     "text": [
      "\n",
      "     83/300         0G      1.123     0.8036      1.071         25        640: 100%|██████████| 5/5 [00:26<00:00,  5.23s/it]\n",
      "                 Class     Images  Instances      Box(P          R      mAP50  mAP50-95): 100%|██████████| 1/1 [00:04<00:00,  4.33s/it]"
     ]
    },
    {
     "name": "stdout",
     "output_type": "stream",
     "text": [
      "                   all         24         47      0.801      0.617      0.662      0.393\n",
      "\n",
      "      Epoch    GPU_mem   box_loss   cls_loss   dfl_loss  Instances       Size\n"
     ]
    },
    {
     "name": "stderr",
     "output_type": "stream",
     "text": [
      "\n",
      "     84/300         0G      1.097     0.7908      1.063         31        640: 100%|██████████| 5/5 [00:26<00:00,  5.21s/it]\n",
      "                 Class     Images  Instances      Box(P          R      mAP50  mAP50-95): 100%|██████████| 1/1 [00:04<00:00,  4.29s/it]"
     ]
    },
    {
     "name": "stdout",
     "output_type": "stream",
     "text": [
      "                   all         24         47      0.729      0.687      0.742      0.439\n",
      "\n",
      "      Epoch    GPU_mem   box_loss   cls_loss   dfl_loss  Instances       Size\n"
     ]
    },
    {
     "name": "stderr",
     "output_type": "stream",
     "text": [
      "\n",
      "     85/300         0G        1.2     0.8126      1.096         34        640: 100%|██████████| 5/5 [00:25<00:00,  5.19s/it]\n",
      "                 Class     Images  Instances      Box(P          R      mAP50  mAP50-95): 100%|██████████| 1/1 [00:04<00:00,  4.31s/it]"
     ]
    },
    {
     "name": "stdout",
     "output_type": "stream",
     "text": [
      "                   all         24         47      0.931      0.572      0.741        0.4\n",
      "\n",
      "      Epoch    GPU_mem   box_loss   cls_loss   dfl_loss  Instances       Size\n"
     ]
    },
    {
     "name": "stderr",
     "output_type": "stream",
     "text": [
      "\n",
      "     86/300         0G      1.147     0.7772      1.079         35        640: 100%|██████████| 5/5 [00:25<00:00,  5.19s/it]\n",
      "                 Class     Images  Instances      Box(P          R      mAP50  mAP50-95): 100%|██████████| 1/1 [00:04<00:00,  4.29s/it]"
     ]
    },
    {
     "name": "stdout",
     "output_type": "stream",
     "text": [
      "                   all         24         47      0.921      0.553      0.723      0.386\n",
      "\n",
      "      Epoch    GPU_mem   box_loss   cls_loss   dfl_loss  Instances       Size\n"
     ]
    },
    {
     "name": "stderr",
     "output_type": "stream",
     "text": [
      "\n",
      "     87/300         0G      1.141     0.8369      1.075         23        640: 100%|██████████| 5/5 [00:25<00:00,  5.18s/it]\n",
      "                 Class     Images  Instances      Box(P          R      mAP50  mAP50-95): 100%|██████████| 1/1 [00:04<00:00,  4.25s/it]"
     ]
    },
    {
     "name": "stdout",
     "output_type": "stream",
     "text": [
      "                   all         24         47      0.861      0.532      0.688      0.381\n",
      "\n",
      "      Epoch    GPU_mem   box_loss   cls_loss   dfl_loss  Instances       Size\n"
     ]
    },
    {
     "name": "stderr",
     "output_type": "stream",
     "text": [
      "\n",
      "     88/300         0G      1.127     0.7815      1.055         30        640: 100%|██████████| 5/5 [00:26<00:00,  5.21s/it]\n",
      "                 Class     Images  Instances      Box(P          R      mAP50  mAP50-95): 100%|██████████| 1/1 [00:04<00:00,  4.11s/it]"
     ]
    },
    {
     "name": "stdout",
     "output_type": "stream",
     "text": [
      "                   all         24         47      0.827       0.61      0.719      0.444\n",
      "\n",
      "      Epoch    GPU_mem   box_loss   cls_loss   dfl_loss  Instances       Size\n"
     ]
    },
    {
     "name": "stderr",
     "output_type": "stream",
     "text": [
      "\n",
      "     89/300         0G      1.098     0.7644      1.044         29        640: 100%|██████████| 5/5 [00:25<00:00,  5.13s/it]\n",
      "                 Class     Images  Instances      Box(P          R      mAP50  mAP50-95): 100%|██████████| 1/1 [00:04<00:00,  4.13s/it]"
     ]
    },
    {
     "name": "stdout",
     "output_type": "stream",
     "text": [
      "                   all         24         47      0.839      0.617      0.728       0.43\n",
      "\n",
      "      Epoch    GPU_mem   box_loss   cls_loss   dfl_loss  Instances       Size\n"
     ]
    },
    {
     "name": "stderr",
     "output_type": "stream",
     "text": [
      "\n",
      "     90/300         0G      1.143     0.7455      1.087         37        640: 100%|██████████| 5/5 [00:25<00:00,  5.17s/it]\n",
      "                 Class     Images  Instances      Box(P          R      mAP50  mAP50-95): 100%|██████████| 1/1 [00:04<00:00,  4.29s/it]"
     ]
    },
    {
     "name": "stdout",
     "output_type": "stream",
     "text": [
      "                   all         24         47      0.877      0.596      0.709      0.415\n",
      "\n",
      "      Epoch    GPU_mem   box_loss   cls_loss   dfl_loss  Instances       Size\n"
     ]
    },
    {
     "name": "stderr",
     "output_type": "stream",
     "text": [
      "\n",
      "     91/300         0G      1.153     0.7722      1.048         24        640: 100%|██████████| 5/5 [00:26<00:00,  5.27s/it]\n",
      "                 Class     Images  Instances      Box(P          R      mAP50  mAP50-95): 100%|██████████| 1/1 [00:04<00:00,  4.29s/it]"
     ]
    },
    {
     "name": "stdout",
     "output_type": "stream",
     "text": [
      "                   all         24         47      0.797      0.638      0.705      0.407\n",
      "\n",
      "      Epoch    GPU_mem   box_loss   cls_loss   dfl_loss  Instances       Size\n"
     ]
    },
    {
     "name": "stderr",
     "output_type": "stream",
     "text": [
      "\n",
      "     92/300         0G      1.066     0.7704      1.069         18        640: 100%|██████████| 5/5 [00:26<00:00,  5.22s/it]\n",
      "                 Class     Images  Instances      Box(P          R      mAP50  mAP50-95): 100%|██████████| 1/1 [00:04<00:00,  4.16s/it]"
     ]
    },
    {
     "name": "stdout",
     "output_type": "stream",
     "text": [
      "                   all         24         47      0.893       0.66      0.714      0.419\n",
      "\n",
      "      Epoch    GPU_mem   box_loss   cls_loss   dfl_loss  Instances       Size\n"
     ]
    },
    {
     "name": "stderr",
     "output_type": "stream",
     "text": [
      "\n",
      "     93/300         0G      1.049     0.7167      1.054         27        640: 100%|██████████| 5/5 [00:25<00:00,  5.18s/it]\n",
      "                 Class     Images  Instances      Box(P          R      mAP50  mAP50-95): 100%|██████████| 1/1 [00:04<00:00,  4.17s/it]"
     ]
    },
    {
     "name": "stdout",
     "output_type": "stream",
     "text": [
      "                   all         24         47      0.805       0.66       0.71      0.421\n",
      "\n",
      "      Epoch    GPU_mem   box_loss   cls_loss   dfl_loss  Instances       Size\n"
     ]
    },
    {
     "name": "stderr",
     "output_type": "stream",
     "text": [
      "\n",
      "     94/300         0G      1.007     0.7148     0.9797         36        640: 100%|██████████| 5/5 [00:25<00:00,  5.19s/it]\n",
      "                 Class     Images  Instances      Box(P          R      mAP50  mAP50-95): 100%|██████████| 1/1 [00:04<00:00,  4.27s/it]"
     ]
    },
    {
     "name": "stdout",
     "output_type": "stream",
     "text": [
      "                   all         24         47      0.801      0.596      0.704      0.413\n",
      "\n",
      "      Epoch    GPU_mem   box_loss   cls_loss   dfl_loss  Instances       Size\n"
     ]
    },
    {
     "name": "stderr",
     "output_type": "stream",
     "text": [
      "\n",
      "     95/300         0G      1.085     0.7804      1.059         26        640: 100%|██████████| 5/5 [00:25<00:00,  5.19s/it]\n",
      "                 Class     Images  Instances      Box(P          R      mAP50  mAP50-95): 100%|██████████| 1/1 [00:04<00:00,  4.20s/it]"
     ]
    },
    {
     "name": "stdout",
     "output_type": "stream",
     "text": [
      "                   all         24         47      0.823      0.638      0.719      0.399\n",
      "\n",
      "      Epoch    GPU_mem   box_loss   cls_loss   dfl_loss  Instances       Size\n"
     ]
    },
    {
     "name": "stderr",
     "output_type": "stream",
     "text": [
      "\n",
      "     96/300         0G      1.042     0.7821      1.041         24        640: 100%|██████████| 5/5 [00:25<00:00,  5.19s/it]\n",
      "                 Class     Images  Instances      Box(P          R      mAP50  mAP50-95): 100%|██████████| 1/1 [00:04<00:00,  4.22s/it]"
     ]
    },
    {
     "name": "stdout",
     "output_type": "stream",
     "text": [
      "                   all         24         47      0.773      0.766      0.772      0.432\n",
      "\n",
      "      Epoch    GPU_mem   box_loss   cls_loss   dfl_loss  Instances       Size\n"
     ]
    },
    {
     "name": "stderr",
     "output_type": "stream",
     "text": [
      "\n",
      "     97/300         0G      1.089     0.7669      1.046         27        640: 100%|██████████| 5/5 [00:26<00:00,  5.31s/it]\n",
      "                 Class     Images  Instances      Box(P          R      mAP50  mAP50-95): 100%|██████████| 1/1 [00:04<00:00,  4.32s/it]"
     ]
    },
    {
     "name": "stdout",
     "output_type": "stream",
     "text": [
      "                   all         24         47      0.797      0.766      0.776      0.447\n",
      "\n",
      "      Epoch    GPU_mem   box_loss   cls_loss   dfl_loss  Instances       Size\n"
     ]
    },
    {
     "name": "stderr",
     "output_type": "stream",
     "text": [
      "\n",
      "     98/300         0G      1.016     0.7254      1.038         32        640: 100%|██████████| 5/5 [00:26<00:00,  5.30s/it]\n",
      "                 Class     Images  Instances      Box(P          R      mAP50  mAP50-95): 100%|██████████| 1/1 [00:04<00:00,  4.25s/it]"
     ]
    },
    {
     "name": "stdout",
     "output_type": "stream",
     "text": [
      "                   all         24         47      0.779      0.745      0.775      0.449\n",
      "\n",
      "      Epoch    GPU_mem   box_loss   cls_loss   dfl_loss  Instances       Size\n"
     ]
    },
    {
     "name": "stderr",
     "output_type": "stream",
     "text": [
      "\n",
      "     99/300         0G      1.033     0.7386      1.051         30        640: 100%|██████████| 5/5 [00:26<00:00,  5.27s/it]\n",
      "                 Class     Images  Instances      Box(P          R      mAP50  mAP50-95): 100%|██████████| 1/1 [00:04<00:00,  4.27s/it]"
     ]
    },
    {
     "name": "stdout",
     "output_type": "stream",
     "text": [
      "                   all         24         47      0.732      0.766      0.769       0.44\n",
      "\n",
      "      Epoch    GPU_mem   box_loss   cls_loss   dfl_loss  Instances       Size\n"
     ]
    },
    {
     "name": "stderr",
     "output_type": "stream",
     "text": [
      "\n",
      "    100/300         0G      1.034     0.7083       1.01         22        640: 100%|██████████| 5/5 [00:26<00:00,  5.28s/it]\n",
      "                 Class     Images  Instances      Box(P          R      mAP50  mAP50-95): 100%|██████████| 1/1 [00:04<00:00,  4.20s/it]"
     ]
    },
    {
     "name": "stdout",
     "output_type": "stream",
     "text": [
      "                   all         24         47      0.699      0.766      0.756      0.427\n",
      "\n",
      "      Epoch    GPU_mem   box_loss   cls_loss   dfl_loss  Instances       Size\n"
     ]
    },
    {
     "name": "stderr",
     "output_type": "stream",
     "text": [
      "\n",
      "    101/300         0G      1.043     0.7098      1.008         30        640: 100%|██████████| 5/5 [00:25<00:00,  5.19s/it]\n",
      "                 Class     Images  Instances      Box(P          R      mAP50  mAP50-95): 100%|██████████| 1/1 [00:04<00:00,  4.19s/it]"
     ]
    },
    {
     "name": "stdout",
     "output_type": "stream",
     "text": [
      "                   all         24         47      0.747       0.69      0.755      0.452\n",
      "\n",
      "      Epoch    GPU_mem   box_loss   cls_loss   dfl_loss  Instances       Size\n"
     ]
    },
    {
     "name": "stderr",
     "output_type": "stream",
     "text": [
      "\n",
      "    102/300         0G      1.074      0.688      1.071         26        640: 100%|██████████| 5/5 [00:25<00:00,  5.17s/it]\n",
      "                 Class     Images  Instances      Box(P          R      mAP50  mAP50-95): 100%|██████████| 1/1 [00:04<00:00,  4.28s/it]"
     ]
    },
    {
     "name": "stdout",
     "output_type": "stream",
     "text": [
      "                   all         24         47      0.756      0.659      0.719      0.421\n",
      "\n",
      "      Epoch    GPU_mem   box_loss   cls_loss   dfl_loss  Instances       Size\n"
     ]
    },
    {
     "name": "stderr",
     "output_type": "stream",
     "text": [
      "\n",
      "    103/300         0G      1.171     0.7299      1.075         35        640: 100%|██████████| 5/5 [00:26<00:00,  5.25s/it]\n",
      "                 Class     Images  Instances      Box(P          R      mAP50  mAP50-95): 100%|██████████| 1/1 [00:04<00:00,  4.16s/it]"
     ]
    },
    {
     "name": "stdout",
     "output_type": "stream",
     "text": [
      "                   all         24         47      0.762       0.66       0.71      0.401\n",
      "\n",
      "      Epoch    GPU_mem   box_loss   cls_loss   dfl_loss  Instances       Size\n"
     ]
    },
    {
     "name": "stderr",
     "output_type": "stream",
     "text": [
      "\n",
      "    104/300         0G       1.13     0.7341       1.06         26        640: 100%|██████████| 5/5 [00:26<00:00,  5.23s/it]\n",
      "                 Class     Images  Instances      Box(P          R      mAP50  mAP50-95): 100%|██████████| 1/1 [00:04<00:00,  4.21s/it]"
     ]
    },
    {
     "name": "stdout",
     "output_type": "stream",
     "text": [
      "                   all         24         47      0.756      0.617      0.677      0.409\n",
      "\n",
      "      Epoch    GPU_mem   box_loss   cls_loss   dfl_loss  Instances       Size\n"
     ]
    },
    {
     "name": "stderr",
     "output_type": "stream",
     "text": [
      "\n",
      "    105/300         0G      1.069     0.6895      1.007         34        640: 100%|██████████| 5/5 [00:25<00:00,  5.18s/it]\n",
      "                 Class     Images  Instances      Box(P          R      mAP50  mAP50-95): 100%|██████████| 1/1 [00:04<00:00,  4.34s/it]"
     ]
    },
    {
     "name": "stdout",
     "output_type": "stream",
     "text": [
      "                   all         24         47      0.792      0.574      0.671      0.411\n",
      "\n",
      "      Epoch    GPU_mem   box_loss   cls_loss   dfl_loss  Instances       Size\n"
     ]
    },
    {
     "name": "stderr",
     "output_type": "stream",
     "text": [
      "\n",
      "    106/300         0G      1.041     0.6882      1.022         34        640: 100%|██████████| 5/5 [00:26<00:00,  5.28s/it]\n",
      "                 Class     Images  Instances      Box(P          R      mAP50  mAP50-95): 100%|██████████| 1/1 [00:04<00:00,  4.26s/it]"
     ]
    },
    {
     "name": "stdout",
     "output_type": "stream",
     "text": [
      "                   all         24         47       0.77      0.574       0.67      0.404\n",
      "\n",
      "      Epoch    GPU_mem   box_loss   cls_loss   dfl_loss  Instances       Size\n"
     ]
    },
    {
     "name": "stderr",
     "output_type": "stream",
     "text": [
      "\n",
      "    107/300         0G      1.022     0.7124      1.035         38        640: 100%|██████████| 5/5 [00:26<00:00,  5.29s/it]\n",
      "                 Class     Images  Instances      Box(P          R      mAP50  mAP50-95): 100%|██████████| 1/1 [00:04<00:00,  4.31s/it]"
     ]
    },
    {
     "name": "stdout",
     "output_type": "stream",
     "text": [
      "                   all         24         47        0.8      0.595      0.695       0.41\n",
      "\n",
      "      Epoch    GPU_mem   box_loss   cls_loss   dfl_loss  Instances       Size\n"
     ]
    },
    {
     "name": "stderr",
     "output_type": "stream",
     "text": [
      "\n",
      "    108/300         0G      1.048     0.7096      1.036         32        640: 100%|██████████| 5/5 [00:26<00:00,  5.26s/it]\n",
      "                 Class     Images  Instances      Box(P          R      mAP50  mAP50-95): 100%|██████████| 1/1 [00:04<00:00,  4.32s/it]"
     ]
    },
    {
     "name": "stdout",
     "output_type": "stream",
     "text": [
      "                   all         24         47      0.914      0.553      0.708      0.383\n",
      "\n",
      "      Epoch    GPU_mem   box_loss   cls_loss   dfl_loss  Instances       Size\n"
     ]
    },
    {
     "name": "stderr",
     "output_type": "stream",
     "text": [
      "\n",
      "    109/300         0G          1     0.6615      1.021         33        640: 100%|██████████| 5/5 [00:26<00:00,  5.31s/it]\n",
      "                 Class     Images  Instances      Box(P          R      mAP50  mAP50-95): 100%|██████████| 1/1 [00:04<00:00,  4.28s/it]"
     ]
    },
    {
     "name": "stdout",
     "output_type": "stream",
     "text": [
      "                   all         24         47      0.914      0.553      0.711      0.401\n",
      "\n",
      "      Epoch    GPU_mem   box_loss   cls_loss   dfl_loss  Instances       Size\n"
     ]
    },
    {
     "name": "stderr",
     "output_type": "stream",
     "text": [
      "\n",
      "    110/300         0G     0.9665     0.6561      1.004         31        640: 100%|██████████| 5/5 [00:26<00:00,  5.30s/it]\n",
      "                 Class     Images  Instances      Box(P          R      mAP50  mAP50-95): 100%|██████████| 1/1 [00:04<00:00,  4.26s/it]"
     ]
    },
    {
     "name": "stdout",
     "output_type": "stream",
     "text": [
      "                   all         24         47      0.922      0.553      0.717      0.404\n",
      "\n",
      "      Epoch    GPU_mem   box_loss   cls_loss   dfl_loss  Instances       Size\n"
     ]
    },
    {
     "name": "stderr",
     "output_type": "stream",
     "text": [
      "\n",
      "    111/300         0G     0.9755     0.6657      1.028         23        640: 100%|██████████| 5/5 [00:26<00:00,  5.27s/it]\n",
      "                 Class     Images  Instances      Box(P          R      mAP50  mAP50-95): 100%|██████████| 1/1 [00:04<00:00,  4.25s/it]"
     ]
    },
    {
     "name": "stdout",
     "output_type": "stream",
     "text": [
      "                   all         24         47       0.93      0.553      0.713        0.4\n",
      "\n",
      "      Epoch    GPU_mem   box_loss   cls_loss   dfl_loss  Instances       Size\n"
     ]
    },
    {
     "name": "stderr",
     "output_type": "stream",
     "text": [
      "\n",
      "    112/300         0G      1.063     0.6923      1.035         23        640: 100%|██████████| 5/5 [00:26<00:00,  5.25s/it]\n",
      "                 Class     Images  Instances      Box(P          R      mAP50  mAP50-95): 100%|██████████| 1/1 [00:04<00:00,  4.13s/it]"
     ]
    },
    {
     "name": "stdout",
     "output_type": "stream",
     "text": [
      "                   all         24         47      0.887      0.617      0.752      0.423\n",
      "\n",
      "      Epoch    GPU_mem   box_loss   cls_loss   dfl_loss  Instances       Size\n"
     ]
    },
    {
     "name": "stderr",
     "output_type": "stream",
     "text": [
      "\n",
      "    113/300         0G     0.9827     0.6628     0.9956         30        640: 100%|██████████| 5/5 [00:25<00:00,  5.15s/it]\n",
      "                 Class     Images  Instances      Box(P          R      mAP50  mAP50-95): 100%|██████████| 1/1 [00:04<00:00,  4.29s/it]"
     ]
    },
    {
     "name": "stdout",
     "output_type": "stream",
     "text": [
      "                   all         24         47       0.87       0.66      0.765      0.443\n",
      "\n",
      "      Epoch    GPU_mem   box_loss   cls_loss   dfl_loss  Instances       Size\n"
     ]
    },
    {
     "name": "stderr",
     "output_type": "stream",
     "text": [
      "\n",
      "    114/300         0G     0.9416     0.6667     0.9882         30        640: 100%|██████████| 5/5 [00:26<00:00,  5.21s/it]\n",
      "                 Class     Images  Instances      Box(P          R      mAP50  mAP50-95): 100%|██████████| 1/1 [00:04<00:00,  4.34s/it]"
     ]
    },
    {
     "name": "stdout",
     "output_type": "stream",
     "text": [
      "                   all         24         47      0.825      0.701       0.77      0.449\n",
      "\n",
      "      Epoch    GPU_mem   box_loss   cls_loss   dfl_loss  Instances       Size\n"
     ]
    },
    {
     "name": "stderr",
     "output_type": "stream",
     "text": [
      "\n",
      "    115/300         0G     0.9569     0.6641     0.9909         33        640: 100%|██████████| 5/5 [00:26<00:00,  5.21s/it]\n",
      "                 Class     Images  Instances      Box(P          R      mAP50  mAP50-95): 100%|██████████| 1/1 [00:04<00:00,  4.31s/it]"
     ]
    },
    {
     "name": "stdout",
     "output_type": "stream",
     "text": [
      "                   all         24         47      0.861      0.681      0.772      0.423\n",
      "\n",
      "      Epoch    GPU_mem   box_loss   cls_loss   dfl_loss  Instances       Size\n"
     ]
    },
    {
     "name": "stderr",
     "output_type": "stream",
     "text": [
      "\n",
      "    116/300         0G      1.077     0.6902       1.04         35        640: 100%|██████████| 5/5 [00:26<00:00,  5.29s/it]\n",
      "                 Class     Images  Instances      Box(P          R      mAP50  mAP50-95): 100%|██████████| 1/1 [00:04<00:00,  4.31s/it]"
     ]
    },
    {
     "name": "stdout",
     "output_type": "stream",
     "text": [
      "                   all         24         47      0.939      0.653      0.781      0.423\n",
      "\n",
      "      Epoch    GPU_mem   box_loss   cls_loss   dfl_loss  Instances       Size\n"
     ]
    },
    {
     "name": "stderr",
     "output_type": "stream",
     "text": [
      "\n",
      "    117/300         0G      1.008     0.7711      1.023         25        640: 100%|██████████| 5/5 [00:26<00:00,  5.29s/it]\n",
      "                 Class     Images  Instances      Box(P          R      mAP50  mAP50-95): 100%|██████████| 1/1 [00:04<00:00,  4.30s/it]"
     ]
    },
    {
     "name": "stdout",
     "output_type": "stream",
     "text": [
      "                   all         24         47      0.911      0.653      0.775      0.425\n",
      "\n",
      "      Epoch    GPU_mem   box_loss   cls_loss   dfl_loss  Instances       Size\n"
     ]
    },
    {
     "name": "stderr",
     "output_type": "stream",
     "text": [
      "\n",
      "    118/300         0G       1.04      0.723      1.028         31        640: 100%|██████████| 5/5 [00:26<00:00,  5.27s/it]\n",
      "                 Class     Images  Instances      Box(P          R      mAP50  mAP50-95): 100%|██████████| 1/1 [00:04<00:00,  4.29s/it]"
     ]
    },
    {
     "name": "stdout",
     "output_type": "stream",
     "text": [
      "                   all         24         47      0.935      0.617      0.767      0.418\n",
      "\n",
      "      Epoch    GPU_mem   box_loss   cls_loss   dfl_loss  Instances       Size\n"
     ]
    },
    {
     "name": "stderr",
     "output_type": "stream",
     "text": [
      "\n",
      "    119/300         0G      1.006     0.6973      1.015         31        640: 100%|██████████| 5/5 [00:26<00:00,  5.27s/it]\n",
      "                 Class     Images  Instances      Box(P          R      mAP50  mAP50-95): 100%|██████████| 1/1 [00:04<00:00,  4.27s/it]"
     ]
    },
    {
     "name": "stdout",
     "output_type": "stream",
     "text": [
      "                   all         24         47      0.898      0.638      0.766      0.422\n",
      "\n",
      "      Epoch    GPU_mem   box_loss   cls_loss   dfl_loss  Instances       Size\n"
     ]
    },
    {
     "name": "stderr",
     "output_type": "stream",
     "text": [
      "\n",
      "    120/300         0G      1.023      0.706      1.019         29        640: 100%|██████████| 5/5 [00:26<00:00,  5.27s/it]\n",
      "                 Class     Images  Instances      Box(P          R      mAP50  mAP50-95): 100%|██████████| 1/1 [00:04<00:00,  4.21s/it]"
     ]
    },
    {
     "name": "stdout",
     "output_type": "stream",
     "text": [
      "                   all         24         47      0.887       0.66      0.743      0.425\n",
      "\n",
      "      Epoch    GPU_mem   box_loss   cls_loss   dfl_loss  Instances       Size\n"
     ]
    },
    {
     "name": "stderr",
     "output_type": "stream",
     "text": [
      "\n",
      "    121/300         0G     0.9373     0.6335     0.9969         34        640: 100%|██████████| 5/5 [00:26<00:00,  5.21s/it]\n",
      "                 Class     Images  Instances      Box(P          R      mAP50  mAP50-95): 100%|██████████| 1/1 [00:04<00:00,  4.29s/it]"
     ]
    },
    {
     "name": "stdout",
     "output_type": "stream",
     "text": [
      "                   all         24         47      0.964      0.617      0.746      0.426\n",
      "\n",
      "      Epoch    GPU_mem   box_loss   cls_loss   dfl_loss  Instances       Size\n"
     ]
    },
    {
     "name": "stderr",
     "output_type": "stream",
     "text": [
      "\n",
      "    122/300         0G     0.9365     0.6438     0.9932         32        640: 100%|██████████| 5/5 [00:26<00:00,  5.33s/it]\n",
      "                 Class     Images  Instances      Box(P          R      mAP50  mAP50-95): 100%|██████████| 1/1 [00:04<00:00,  4.35s/it]"
     ]
    },
    {
     "name": "stdout",
     "output_type": "stream",
     "text": [
      "                   all         24         47      0.938       0.64      0.733      0.414\n",
      "\n",
      "      Epoch    GPU_mem   box_loss   cls_loss   dfl_loss  Instances       Size\n"
     ]
    },
    {
     "name": "stderr",
     "output_type": "stream",
     "text": [
      "\n",
      "    123/300         0G     0.9466     0.6505      1.011         28        640: 100%|██████████| 5/5 [00:26<00:00,  5.30s/it]\n",
      "                 Class     Images  Instances      Box(P          R      mAP50  mAP50-95): 100%|██████████| 1/1 [00:04<00:00,  4.31s/it]"
     ]
    },
    {
     "name": "stdout",
     "output_type": "stream",
     "text": [
      "                   all         24         47       0.91      0.638      0.754      0.428\n",
      "Stopping training early as no improvement observed in last 50 epochs. Best results observed at epoch 73, best model saved as best.pt.\n",
      "To update EarlyStopping(patience=50) pass a new patience value, i.e. `patience=300` or use `patience=0` to disable EarlyStopping.\n",
      "\n",
      "123 epochs completed in 1.643 hours.\n",
      "Optimizer stripped from runs/detect/train4/weights/last.pt, 6.3MB\n"
     ]
    },
    {
     "name": "stderr",
     "output_type": "stream",
     "text": [
      "\n"
     ]
    },
    {
     "name": "stdout",
     "output_type": "stream",
     "text": [
      "Optimizer stripped from runs/detect/train4/weights/best.pt, 6.2MB\n",
      "\n",
      "Validating runs/detect/train4/weights/best.pt...\n",
      "Ultralytics YOLOv8.0.222 🚀 Python-3.10.5 torch-2.1.1 CPU (Apple M1 Pro)\n",
      "Model summary (fused): 168 layers, 3005843 parameters, 0 gradients, 8.1 GFLOPs\n"
     ]
    },
    {
     "name": "stderr",
     "output_type": "stream",
     "text": [
      "                 Class     Images  Instances      Box(P          R      mAP50  mAP50-95): 100%|██████████| 1/1 [00:04<00:00,  4.10s/it]\n"
     ]
    },
    {
     "name": "stdout",
     "output_type": "stream",
     "text": [
      "                   all         24         47      0.966      0.614       0.74      0.464\n",
      "Speed: 0.9ms preprocess, 156.2ms inference, 0.0ms loss, 0.5ms postprocess per image\n",
      "Results saved to \u001b[1mruns/detect/train4\u001b[0m\n"
     ]
    },
    {
     "data": {
      "text/plain": [
       "ultralytics.utils.metrics.DetMetrics object with attributes:\n",
       "\n",
       "ap_class_index: array([0])\n",
       "box: ultralytics.utils.metrics.Metric object\n",
       "confusion_matrix: <ultralytics.utils.metrics.ConfusionMatrix object at 0x289669000>\n",
       "curves: ['Precision-Recall(B)', 'F1-Confidence(B)', 'Precision-Confidence(B)', 'Recall-Confidence(B)']\n",
       "curves_results: [[array([          0,    0.001001,    0.002002,    0.003003,    0.004004,    0.005005,    0.006006,    0.007007,    0.008008,    0.009009,     0.01001,    0.011011,    0.012012,    0.013013,    0.014014,    0.015015,    0.016016,    0.017017,    0.018018,    0.019019,     0.02002,    0.021021,    0.022022,    0.023023,\n",
       "          0.024024,    0.025025,    0.026026,    0.027027,    0.028028,    0.029029,     0.03003,    0.031031,    0.032032,    0.033033,    0.034034,    0.035035,    0.036036,    0.037037,    0.038038,    0.039039,     0.04004,    0.041041,    0.042042,    0.043043,    0.044044,    0.045045,    0.046046,    0.047047,\n",
       "          0.048048,    0.049049,     0.05005,    0.051051,    0.052052,    0.053053,    0.054054,    0.055055,    0.056056,    0.057057,    0.058058,    0.059059,     0.06006,    0.061061,    0.062062,    0.063063,    0.064064,    0.065065,    0.066066,    0.067067,    0.068068,    0.069069,     0.07007,    0.071071,\n",
       "          0.072072,    0.073073,    0.074074,    0.075075,    0.076076,    0.077077,    0.078078,    0.079079,     0.08008,    0.081081,    0.082082,    0.083083,    0.084084,    0.085085,    0.086086,    0.087087,    0.088088,    0.089089,     0.09009,    0.091091,    0.092092,    0.093093,    0.094094,    0.095095,\n",
       "          0.096096,    0.097097,    0.098098,    0.099099,      0.1001,      0.1011,      0.1021,      0.1031,      0.1041,     0.10511,     0.10611,     0.10711,     0.10811,     0.10911,     0.11011,     0.11111,     0.11211,     0.11311,     0.11411,     0.11512,     0.11612,     0.11712,     0.11812,     0.11912,\n",
       "           0.12012,     0.12112,     0.12212,     0.12312,     0.12412,     0.12513,     0.12613,     0.12713,     0.12813,     0.12913,     0.13013,     0.13113,     0.13213,     0.13313,     0.13413,     0.13514,     0.13614,     0.13714,     0.13814,     0.13914,     0.14014,     0.14114,     0.14214,     0.14314,\n",
       "           0.14414,     0.14515,     0.14615,     0.14715,     0.14815,     0.14915,     0.15015,     0.15115,     0.15215,     0.15315,     0.15415,     0.15516,     0.15616,     0.15716,     0.15816,     0.15916,     0.16016,     0.16116,     0.16216,     0.16316,     0.16416,     0.16517,     0.16617,     0.16717,\n",
       "           0.16817,     0.16917,     0.17017,     0.17117,     0.17217,     0.17317,     0.17417,     0.17518,     0.17618,     0.17718,     0.17818,     0.17918,     0.18018,     0.18118,     0.18218,     0.18318,     0.18418,     0.18519,     0.18619,     0.18719,     0.18819,     0.18919,     0.19019,     0.19119,\n",
       "           0.19219,     0.19319,     0.19419,      0.1952,      0.1962,      0.1972,      0.1982,      0.1992,      0.2002,      0.2012,      0.2022,      0.2032,      0.2042,     0.20521,     0.20621,     0.20721,     0.20821,     0.20921,     0.21021,     0.21121,     0.21221,     0.21321,     0.21421,     0.21522,\n",
       "           0.21622,     0.21722,     0.21822,     0.21922,     0.22022,     0.22122,     0.22222,     0.22322,     0.22422,     0.22523,     0.22623,     0.22723,     0.22823,     0.22923,     0.23023,     0.23123,     0.23223,     0.23323,     0.23423,     0.23524,     0.23624,     0.23724,     0.23824,     0.23924,\n",
       "           0.24024,     0.24124,     0.24224,     0.24324,     0.24424,     0.24525,     0.24625,     0.24725,     0.24825,     0.24925,     0.25025,     0.25125,     0.25225,     0.25325,     0.25425,     0.25526,     0.25626,     0.25726,     0.25826,     0.25926,     0.26026,     0.26126,     0.26226,     0.26326,\n",
       "           0.26426,     0.26527,     0.26627,     0.26727,     0.26827,     0.26927,     0.27027,     0.27127,     0.27227,     0.27327,     0.27427,     0.27528,     0.27628,     0.27728,     0.27828,     0.27928,     0.28028,     0.28128,     0.28228,     0.28328,     0.28428,     0.28529,     0.28629,     0.28729,\n",
       "           0.28829,     0.28929,     0.29029,     0.29129,     0.29229,     0.29329,     0.29429,      0.2953,      0.2963,      0.2973,      0.2983,      0.2993,      0.3003,      0.3013,      0.3023,      0.3033,      0.3043,     0.30531,     0.30631,     0.30731,     0.30831,     0.30931,     0.31031,     0.31131,\n",
       "           0.31231,     0.31331,     0.31431,     0.31532,     0.31632,     0.31732,     0.31832,     0.31932,     0.32032,     0.32132,     0.32232,     0.32332,     0.32432,     0.32533,     0.32633,     0.32733,     0.32833,     0.32933,     0.33033,     0.33133,     0.33233,     0.33333,     0.33433,     0.33534,\n",
       "           0.33634,     0.33734,     0.33834,     0.33934,     0.34034,     0.34134,     0.34234,     0.34334,     0.34434,     0.34535,     0.34635,     0.34735,     0.34835,     0.34935,     0.35035,     0.35135,     0.35235,     0.35335,     0.35435,     0.35536,     0.35636,     0.35736,     0.35836,     0.35936,\n",
       "           0.36036,     0.36136,     0.36236,     0.36336,     0.36436,     0.36537,     0.36637,     0.36737,     0.36837,     0.36937,     0.37037,     0.37137,     0.37237,     0.37337,     0.37437,     0.37538,     0.37638,     0.37738,     0.37838,     0.37938,     0.38038,     0.38138,     0.38238,     0.38338,\n",
       "           0.38438,     0.38539,     0.38639,     0.38739,     0.38839,     0.38939,     0.39039,     0.39139,     0.39239,     0.39339,     0.39439,      0.3954,      0.3964,      0.3974,      0.3984,      0.3994,      0.4004,      0.4014,      0.4024,      0.4034,      0.4044,     0.40541,     0.40641,     0.40741,\n",
       "           0.40841,     0.40941,     0.41041,     0.41141,     0.41241,     0.41341,     0.41441,     0.41542,     0.41642,     0.41742,     0.41842,     0.41942,     0.42042,     0.42142,     0.42242,     0.42342,     0.42442,     0.42543,     0.42643,     0.42743,     0.42843,     0.42943,     0.43043,     0.43143,\n",
       "           0.43243,     0.43343,     0.43443,     0.43544,     0.43644,     0.43744,     0.43844,     0.43944,     0.44044,     0.44144,     0.44244,     0.44344,     0.44444,     0.44545,     0.44645,     0.44745,     0.44845,     0.44945,     0.45045,     0.45145,     0.45245,     0.45345,     0.45445,     0.45546,\n",
       "           0.45646,     0.45746,     0.45846,     0.45946,     0.46046,     0.46146,     0.46246,     0.46346,     0.46446,     0.46547,     0.46647,     0.46747,     0.46847,     0.46947,     0.47047,     0.47147,     0.47247,     0.47347,     0.47447,     0.47548,     0.47648,     0.47748,     0.47848,     0.47948,\n",
       "           0.48048,     0.48148,     0.48248,     0.48348,     0.48448,     0.48549,     0.48649,     0.48749,     0.48849,     0.48949,     0.49049,     0.49149,     0.49249,     0.49349,     0.49449,      0.4955,      0.4965,      0.4975,      0.4985,      0.4995,      0.5005,      0.5015,      0.5025,      0.5035,\n",
       "            0.5045,     0.50551,     0.50651,     0.50751,     0.50851,     0.50951,     0.51051,     0.51151,     0.51251,     0.51351,     0.51451,     0.51552,     0.51652,     0.51752,     0.51852,     0.51952,     0.52052,     0.52152,     0.52252,     0.52352,     0.52452,     0.52553,     0.52653,     0.52753,\n",
       "           0.52853,     0.52953,     0.53053,     0.53153,     0.53253,     0.53353,     0.53453,     0.53554,     0.53654,     0.53754,     0.53854,     0.53954,     0.54054,     0.54154,     0.54254,     0.54354,     0.54454,     0.54555,     0.54655,     0.54755,     0.54855,     0.54955,     0.55055,     0.55155,\n",
       "           0.55255,     0.55355,     0.55455,     0.55556,     0.55656,     0.55756,     0.55856,     0.55956,     0.56056,     0.56156,     0.56256,     0.56356,     0.56456,     0.56557,     0.56657,     0.56757,     0.56857,     0.56957,     0.57057,     0.57157,     0.57257,     0.57357,     0.57457,     0.57558,\n",
       "           0.57658,     0.57758,     0.57858,     0.57958,     0.58058,     0.58158,     0.58258,     0.58358,     0.58458,     0.58559,     0.58659,     0.58759,     0.58859,     0.58959,     0.59059,     0.59159,     0.59259,     0.59359,     0.59459,      0.5956,      0.5966,      0.5976,      0.5986,      0.5996,\n",
       "            0.6006,      0.6016,      0.6026,      0.6036,      0.6046,     0.60561,     0.60661,     0.60761,     0.60861,     0.60961,     0.61061,     0.61161,     0.61261,     0.61361,     0.61461,     0.61562,     0.61662,     0.61762,     0.61862,     0.61962,     0.62062,     0.62162,     0.62262,     0.62362,\n",
       "           0.62462,     0.62563,     0.62663,     0.62763,     0.62863,     0.62963,     0.63063,     0.63163,     0.63263,     0.63363,     0.63463,     0.63564,     0.63664,     0.63764,     0.63864,     0.63964,     0.64064,     0.64164,     0.64264,     0.64364,     0.64464,     0.64565,     0.64665,     0.64765,\n",
       "           0.64865,     0.64965,     0.65065,     0.65165,     0.65265,     0.65365,     0.65465,     0.65566,     0.65666,     0.65766,     0.65866,     0.65966,     0.66066,     0.66166,     0.66266,     0.66366,     0.66466,     0.66567,     0.66667,     0.66767,     0.66867,     0.66967,     0.67067,     0.67167,\n",
       "           0.67267,     0.67367,     0.67467,     0.67568,     0.67668,     0.67768,     0.67868,     0.67968,     0.68068,     0.68168,     0.68268,     0.68368,     0.68468,     0.68569,     0.68669,     0.68769,     0.68869,     0.68969,     0.69069,     0.69169,     0.69269,     0.69369,     0.69469,      0.6957,\n",
       "            0.6967,      0.6977,      0.6987,      0.6997,      0.7007,      0.7017,      0.7027,      0.7037,      0.7047,     0.70571,     0.70671,     0.70771,     0.70871,     0.70971,     0.71071,     0.71171,     0.71271,     0.71371,     0.71471,     0.71572,     0.71672,     0.71772,     0.71872,     0.71972,\n",
       "           0.72072,     0.72172,     0.72272,     0.72372,     0.72472,     0.72573,     0.72673,     0.72773,     0.72873,     0.72973,     0.73073,     0.73173,     0.73273,     0.73373,     0.73473,     0.73574,     0.73674,     0.73774,     0.73874,     0.73974,     0.74074,     0.74174,     0.74274,     0.74374,\n",
       "           0.74474,     0.74575,     0.74675,     0.74775,     0.74875,     0.74975,     0.75075,     0.75175,     0.75275,     0.75375,     0.75475,     0.75576,     0.75676,     0.75776,     0.75876,     0.75976,     0.76076,     0.76176,     0.76276,     0.76376,     0.76476,     0.76577,     0.76677,     0.76777,\n",
       "           0.76877,     0.76977,     0.77077,     0.77177,     0.77277,     0.77377,     0.77477,     0.77578,     0.77678,     0.77778,     0.77878,     0.77978,     0.78078,     0.78178,     0.78278,     0.78378,     0.78478,     0.78579,     0.78679,     0.78779,     0.78879,     0.78979,     0.79079,     0.79179,\n",
       "           0.79279,     0.79379,     0.79479,      0.7958,      0.7968,      0.7978,      0.7988,      0.7998,      0.8008,      0.8018,      0.8028,      0.8038,      0.8048,     0.80581,     0.80681,     0.80781,     0.80881,     0.80981,     0.81081,     0.81181,     0.81281,     0.81381,     0.81481,     0.81582,\n",
       "           0.81682,     0.81782,     0.81882,     0.81982,     0.82082,     0.82182,     0.82282,     0.82382,     0.82482,     0.82583,     0.82683,     0.82783,     0.82883,     0.82983,     0.83083,     0.83183,     0.83283,     0.83383,     0.83483,     0.83584,     0.83684,     0.83784,     0.83884,     0.83984,\n",
       "           0.84084,     0.84184,     0.84284,     0.84384,     0.84484,     0.84585,     0.84685,     0.84785,     0.84885,     0.84985,     0.85085,     0.85185,     0.85285,     0.85385,     0.85485,     0.85586,     0.85686,     0.85786,     0.85886,     0.85986,     0.86086,     0.86186,     0.86286,     0.86386,\n",
       "           0.86486,     0.86587,     0.86687,     0.86787,     0.86887,     0.86987,     0.87087,     0.87187,     0.87287,     0.87387,     0.87487,     0.87588,     0.87688,     0.87788,     0.87888,     0.87988,     0.88088,     0.88188,     0.88288,     0.88388,     0.88488,     0.88589,     0.88689,     0.88789,\n",
       "           0.88889,     0.88989,     0.89089,     0.89189,     0.89289,     0.89389,     0.89489,      0.8959,      0.8969,      0.8979,      0.8989,      0.8999,      0.9009,      0.9019,      0.9029,      0.9039,      0.9049,     0.90591,     0.90691,     0.90791,     0.90891,     0.90991,     0.91091,     0.91191,\n",
       "           0.91291,     0.91391,     0.91491,     0.91592,     0.91692,     0.91792,     0.91892,     0.91992,     0.92092,     0.92192,     0.92292,     0.92392,     0.92492,     0.92593,     0.92693,     0.92793,     0.92893,     0.92993,     0.93093,     0.93193,     0.93293,     0.93393,     0.93493,     0.93594,\n",
       "           0.93694,     0.93794,     0.93894,     0.93994,     0.94094,     0.94194,     0.94294,     0.94394,     0.94494,     0.94595,     0.94695,     0.94795,     0.94895,     0.94995,     0.95095,     0.95195,     0.95295,     0.95395,     0.95495,     0.95596,     0.95696,     0.95796,     0.95896,     0.95996,\n",
       "           0.96096,     0.96196,     0.96296,     0.96396,     0.96496,     0.96597,     0.96697,     0.96797,     0.96897,     0.96997,     0.97097,     0.97197,     0.97297,     0.97397,     0.97497,     0.97598,     0.97698,     0.97798,     0.97898,     0.97998,     0.98098,     0.98198,     0.98298,     0.98398,\n",
       "           0.98498,     0.98599,     0.98699,     0.98799,     0.98899,     0.98999,     0.99099,     0.99199,     0.99299,     0.99399,     0.99499,       0.996,       0.997,       0.998,       0.999,           1]), array([[          1,           1,           1,           1,           1,           1,           1,           1,           1,           1,           1,           1,           1,           1,           1,           1,           1,           1,           1,           1,           1,           1,           1,\n",
       "                  1,           1,           1,           1,           1,           1,           1,           1,           1,           1,           1,           1,           1,           1,           1,           1,           1,           1,           1,           1,           1,           1,           1,\n",
       "                  1,           1,           1,           1,           1,           1,           1,           1,           1,           1,           1,           1,           1,           1,           1,           1,           1,           1,           1,           1,           1,           1,           1,\n",
       "                  1,           1,           1,           1,           1,           1,           1,           1,           1,           1,           1,           1,           1,           1,           1,           1,           1,           1,           1,           1,           1,           1,           1,\n",
       "                  1,           1,           1,           1,           1,           1,           1,           1,           1,           1,           1,           1,           1,           1,           1,           1,           1,           1,           1,           1,           1,           1,           1,\n",
       "                  1,           1,           1,           1,           1,           1,           1,           1,           1,           1,           1,           1,           1,           1,           1,           1,           1,           1,           1,           1,           1,           1,           1,\n",
       "                  1,           1,           1,           1,           1,           1,           1,           1,           1,           1,           1,           1,           1,           1,           1,           1,           1,           1,           1,           1,           1,           1,           1,\n",
       "                  1,           1,           1,           1,           1,           1,           1,           1,           1,           1,           1,           1,           1,           1,           1,           1,           1,           1,           1,           1,           1,           1,           1,\n",
       "                  1,           1,           1,           1,           1,           1,           1,           1,           1,           1,           1,           1,           1,           1,           1,           1,           1,           1,           1,           1,           1,           1,           1,\n",
       "                  1,           1,           1,           1,           1,           1,           1,           1,           1,           1,           1,           1,           1,           1,           1,           1,           1,           1,           1,           1,           1,           1,           1,\n",
       "                  1,           1,           1,           1,           1,           1,           1,           1,           1,           1,           1,           1,           1,           1,           1,           1,           1,           1,           1,           1,           1,           1,           1,\n",
       "                  1,           1,           1,           1,           1,           1,           1,           1,           1,           1,           1,           1,           1,           1,           1,           1,           1,           1,           1,           1,           1,           1,           1,\n",
       "                  1,           1,           1,           1,           1,           1,           1,           1,           1,           1,           1,           1,           1,           1,           1,           1,           1,           1,           1,           1,           1,           1,           1,\n",
       "                  1,           1,           1,           1,           1,           1,           1,           1,           1,           1,           1,           1,           1,           1,           1,           1,           1,           1,           1,           1,           1,           1,           1,\n",
       "                  1,           1,           1,           1,           1,           1,           1,           1,           1,           1,           1,           1,           1,           1,           1,           1,           1,           1,           1,           1,           1,           1,           1,\n",
       "                  1,           1,           1,           1,           1,           1,           1,           1,           1,           1,           1,           1,           1,           1,           1,           1,           1,           1,           1,           1,           1,           1,           1,\n",
       "                  1,           1,           1,           1,           1,           1,           1,           1,           1,           1,           1,           1,           1,           1,           1,           1,           1,           1,           1,           1,           1,           1,           1,\n",
       "                  1,           1,           1,           1,           1,           1,           1,           1,           1,           1,           1,           1,           1,           1,           1,           1,           1,           1,           1,           1,           1,           1,           1,\n",
       "                  1,           1,           1,           1,           1,           1,           1,           1,           1,           1,           1,           1,           1,           1,           1,           1,           1,           1,           1,           1,           1,           1,           1,\n",
       "                  1,           1,           1,           1,           1,           1,           1,           1,           1,           1,           1,           1,           1,           1,           1,           1,           1,           1,           1,           1,           1,           1,           1,\n",
       "                  1,           1,           1,           1,           1,           1,           1,           1,           1,           1,           1,           1,           1,           1,           1,           1,           1,           1,           1,           1,           1,           1,           1,\n",
       "                  1,           1,           1,           1,           1,           1,           1,           1,           1,           1,           1,           1,           1,           1,           1,           1,           1,           1,           1,           1,           1,           1,           1,\n",
       "                  1,           1,           1,           1,           1,           1,           1,           1,           1,           1,           1,           1,           1,           1,           1,           1,           1,           1,           1,           1,           1,           1,           1,\n",
       "                  1,           1,           1,           1,           1,           1,           1,           1,           1,           1,           1,           1,           1,           1,           1,           1,           1,           1,           1,           1,           1,           1,           1,\n",
       "                  1,     0.96667,     0.96667,     0.96667,     0.96667,     0.96667,     0.96667,     0.96667,     0.96667,     0.96667,     0.96667,     0.96667,     0.96667,     0.96667,     0.96667,     0.96667,     0.96667,     0.96667,     0.96667,     0.96667,     0.96667,     0.96667,     0.96667,\n",
       "            0.96667,     0.96667,     0.96667,     0.96667,     0.96667,     0.96667,     0.96667,     0.96667,     0.96667,     0.96667,     0.96667,     0.96667,     0.96667,     0.96667,     0.96667,     0.96667,     0.96667,     0.96667,     0.96667,     0.96667,     0.96667,     0.96667,     0.96667,\n",
       "            0.96667,     0.96667,     0.96667,     0.96667,     0.96667,     0.96667,     0.96667,     0.96667,     0.96667,     0.96667,     0.96667,     0.96667,     0.96667,     0.96667,     0.96667,     0.96667,     0.96667,     0.96667,     0.96667,     0.85714,     0.85714,     0.85714,     0.85714,\n",
       "            0.85714,     0.85714,     0.85714,     0.85714,     0.85714,     0.85714,     0.85714,     0.85714,     0.85714,     0.85714,     0.85714,     0.85714,     0.85714,     0.85714,     0.85714,     0.85714,     0.85714,       0.825,       0.825,       0.825,       0.825,       0.825,       0.825,\n",
       "              0.825,       0.825,       0.825,       0.825,       0.825,       0.825,       0.825,       0.825,       0.825,       0.825,       0.825,       0.825,       0.825,       0.825,       0.825,       0.825,       0.825,       0.825,       0.825,       0.825,       0.825,       0.825,       0.825,\n",
       "              0.825,       0.825,       0.825,       0.825,       0.825,       0.825,       0.825,       0.825,       0.825,       0.825,       0.825,       0.825,       0.825,       0.825,       0.825,       0.825,       0.825,       0.825,       0.825,       0.825,       0.825,       0.825,       0.825,\n",
       "              0.825,       0.825,       0.825,       0.825,       0.825,       0.825,       0.825,       0.825,       0.825,       0.825,       0.825,       0.825,     0.80952,     0.80952,     0.80952,     0.80952,     0.80952,     0.80952,     0.80952,     0.80952,     0.80952,     0.80952,     0.80952,\n",
       "            0.80952,     0.80952,     0.80952,     0.80952,     0.80952,     0.80952,     0.80952,     0.80952,     0.80952,     0.80952,     0.76087,     0.76087,     0.76087,     0.76087,     0.76087,     0.76087,     0.76087,     0.76087,     0.76087,     0.76087,     0.76087,     0.76087,     0.76087,\n",
       "            0.76087,     0.76087,     0.76087,     0.76087,     0.76087,     0.76087,     0.76087,     0.76087,     0.53731,     0.53731,     0.53731,     0.53731,     0.53731,     0.53731,     0.53731,     0.53731,     0.53731,     0.53731,     0.53731,     0.53731,     0.53731,     0.53731,     0.53731,\n",
       "            0.53731,     0.53731,     0.53731,     0.53731,     0.53731,     0.53731,     0.53731,     0.28462,     0.28462,     0.28462,     0.28462,     0.28462,     0.28462,     0.28462,     0.28462,     0.28462,     0.28462,     0.28462,     0.28462,     0.28462,     0.28462,     0.28462,     0.28462,\n",
       "            0.28462,     0.28462,     0.28462,     0.28462,     0.28462,     0.11111,     0.11111,     0.11111,     0.11111,     0.11111,     0.11111,     0.11111,     0.11111,     0.11111,     0.11111,     0.11111,     0.11111,     0.11111,     0.11111,     0.11111,     0.11111,     0.11111,     0.11111,\n",
       "            0.11111,     0.11111,     0.11111,    0.052419,    0.052419,    0.052419,    0.052419,    0.052419,    0.052419,    0.052419,    0.052419,    0.052419,    0.052419,    0.052419,    0.052419,    0.052419,    0.052419,    0.052419,    0.052419,    0.052419,    0.052419,    0.052419,    0.052419,\n",
       "           0.052419,    0.015686,    0.015686,    0.015686,    0.015686,    0.015686,    0.015686,    0.015686,    0.015686,    0.015686,    0.015686,    0.015686,    0.015686,    0.015686,    0.015686,    0.015686,    0.015686,    0.015686,    0.015686,    0.015686,    0.015686,    0.015686,    0.015686,\n",
       "           0.011287,    0.011211,    0.011135,    0.011059,    0.010982,    0.010906,     0.01083,    0.010754,    0.010677,    0.010601,    0.010525,    0.010449,    0.010372,    0.010296,     0.01022,    0.010143,    0.010067,   0.0099909,   0.0099147,   0.0098384,   0.0097621,   0.0096859,   0.0096096,\n",
       "          0.0095333,   0.0094571,   0.0093808,   0.0093045,   0.0092283,    0.009152,   0.0090757,   0.0089995,   0.0089232,   0.0088469,   0.0087707,   0.0086944,   0.0086181,   0.0085419,   0.0084656,   0.0083893,   0.0083131,   0.0082368,   0.0081605,   0.0080843,    0.008008,   0.0079317,   0.0078555,\n",
       "          0.0077792,   0.0077029,   0.0076267,   0.0075504,   0.0074741,   0.0073979,   0.0073216,   0.0072453,   0.0071691,   0.0070928,   0.0070165,   0.0069403,    0.006864,   0.0067877,   0.0067115,   0.0066352,   0.0065589,   0.0064827,   0.0064064,   0.0063301,   0.0062539,   0.0061776,   0.0061013,\n",
       "          0.0060251,   0.0059488,   0.0058725,   0.0057963,     0.00572,   0.0056437,   0.0055675,   0.0054912,   0.0054149,   0.0053387,   0.0052624,   0.0051861,   0.0051099,   0.0050336,   0.0049573,   0.0048811,   0.0048048,   0.0047285,   0.0046523,    0.004576,   0.0044997,   0.0044235,   0.0043472,\n",
       "          0.0042709,   0.0041947,   0.0041184,   0.0040421,   0.0039659,   0.0038896,   0.0038133,   0.0037371,   0.0036608,   0.0035845,   0.0035083,    0.003432,   0.0033557,   0.0032795,   0.0032032,   0.0031269,   0.0030507,   0.0029744,   0.0028981,   0.0028219,   0.0027456,   0.0026693,   0.0025931,\n",
       "          0.0025168,   0.0024405,   0.0023643,    0.002288,   0.0022117,   0.0021355,   0.0020592,   0.0019829,   0.0019067,   0.0018304,   0.0017541,   0.0016779,   0.0016016,   0.0015253,   0.0014491,   0.0013728,   0.0012965,   0.0012203,    0.001144,   0.0010677,  0.00099147,   0.0009152,  0.00083893,\n",
       "         0.00076267,   0.0006864,  0.00061013,  0.00053387,   0.0004576,  0.00038133,  0.00030507,   0.0002288,  0.00015253,  7.6267e-05,           0]]), 'Recall', 'Precision'], [array([          0,    0.001001,    0.002002,    0.003003,    0.004004,    0.005005,    0.006006,    0.007007,    0.008008,    0.009009,     0.01001,    0.011011,    0.012012,    0.013013,    0.014014,    0.015015,    0.016016,    0.017017,    0.018018,    0.019019,     0.02002,    0.021021,    0.022022,    0.023023,\n",
       "          0.024024,    0.025025,    0.026026,    0.027027,    0.028028,    0.029029,     0.03003,    0.031031,    0.032032,    0.033033,    0.034034,    0.035035,    0.036036,    0.037037,    0.038038,    0.039039,     0.04004,    0.041041,    0.042042,    0.043043,    0.044044,    0.045045,    0.046046,    0.047047,\n",
       "          0.048048,    0.049049,     0.05005,    0.051051,    0.052052,    0.053053,    0.054054,    0.055055,    0.056056,    0.057057,    0.058058,    0.059059,     0.06006,    0.061061,    0.062062,    0.063063,    0.064064,    0.065065,    0.066066,    0.067067,    0.068068,    0.069069,     0.07007,    0.071071,\n",
       "          0.072072,    0.073073,    0.074074,    0.075075,    0.076076,    0.077077,    0.078078,    0.079079,     0.08008,    0.081081,    0.082082,    0.083083,    0.084084,    0.085085,    0.086086,    0.087087,    0.088088,    0.089089,     0.09009,    0.091091,    0.092092,    0.093093,    0.094094,    0.095095,\n",
       "          0.096096,    0.097097,    0.098098,    0.099099,      0.1001,      0.1011,      0.1021,      0.1031,      0.1041,     0.10511,     0.10611,     0.10711,     0.10811,     0.10911,     0.11011,     0.11111,     0.11211,     0.11311,     0.11411,     0.11512,     0.11612,     0.11712,     0.11812,     0.11912,\n",
       "           0.12012,     0.12112,     0.12212,     0.12312,     0.12412,     0.12513,     0.12613,     0.12713,     0.12813,     0.12913,     0.13013,     0.13113,     0.13213,     0.13313,     0.13413,     0.13514,     0.13614,     0.13714,     0.13814,     0.13914,     0.14014,     0.14114,     0.14214,     0.14314,\n",
       "           0.14414,     0.14515,     0.14615,     0.14715,     0.14815,     0.14915,     0.15015,     0.15115,     0.15215,     0.15315,     0.15415,     0.15516,     0.15616,     0.15716,     0.15816,     0.15916,     0.16016,     0.16116,     0.16216,     0.16316,     0.16416,     0.16517,     0.16617,     0.16717,\n",
       "           0.16817,     0.16917,     0.17017,     0.17117,     0.17217,     0.17317,     0.17417,     0.17518,     0.17618,     0.17718,     0.17818,     0.17918,     0.18018,     0.18118,     0.18218,     0.18318,     0.18418,     0.18519,     0.18619,     0.18719,     0.18819,     0.18919,     0.19019,     0.19119,\n",
       "           0.19219,     0.19319,     0.19419,      0.1952,      0.1962,      0.1972,      0.1982,      0.1992,      0.2002,      0.2012,      0.2022,      0.2032,      0.2042,     0.20521,     0.20621,     0.20721,     0.20821,     0.20921,     0.21021,     0.21121,     0.21221,     0.21321,     0.21421,     0.21522,\n",
       "           0.21622,     0.21722,     0.21822,     0.21922,     0.22022,     0.22122,     0.22222,     0.22322,     0.22422,     0.22523,     0.22623,     0.22723,     0.22823,     0.22923,     0.23023,     0.23123,     0.23223,     0.23323,     0.23423,     0.23524,     0.23624,     0.23724,     0.23824,     0.23924,\n",
       "           0.24024,     0.24124,     0.24224,     0.24324,     0.24424,     0.24525,     0.24625,     0.24725,     0.24825,     0.24925,     0.25025,     0.25125,     0.25225,     0.25325,     0.25425,     0.25526,     0.25626,     0.25726,     0.25826,     0.25926,     0.26026,     0.26126,     0.26226,     0.26326,\n",
       "           0.26426,     0.26527,     0.26627,     0.26727,     0.26827,     0.26927,     0.27027,     0.27127,     0.27227,     0.27327,     0.27427,     0.27528,     0.27628,     0.27728,     0.27828,     0.27928,     0.28028,     0.28128,     0.28228,     0.28328,     0.28428,     0.28529,     0.28629,     0.28729,\n",
       "           0.28829,     0.28929,     0.29029,     0.29129,     0.29229,     0.29329,     0.29429,      0.2953,      0.2963,      0.2973,      0.2983,      0.2993,      0.3003,      0.3013,      0.3023,      0.3033,      0.3043,     0.30531,     0.30631,     0.30731,     0.30831,     0.30931,     0.31031,     0.31131,\n",
       "           0.31231,     0.31331,     0.31431,     0.31532,     0.31632,     0.31732,     0.31832,     0.31932,     0.32032,     0.32132,     0.32232,     0.32332,     0.32432,     0.32533,     0.32633,     0.32733,     0.32833,     0.32933,     0.33033,     0.33133,     0.33233,     0.33333,     0.33433,     0.33534,\n",
       "           0.33634,     0.33734,     0.33834,     0.33934,     0.34034,     0.34134,     0.34234,     0.34334,     0.34434,     0.34535,     0.34635,     0.34735,     0.34835,     0.34935,     0.35035,     0.35135,     0.35235,     0.35335,     0.35435,     0.35536,     0.35636,     0.35736,     0.35836,     0.35936,\n",
       "           0.36036,     0.36136,     0.36236,     0.36336,     0.36436,     0.36537,     0.36637,     0.36737,     0.36837,     0.36937,     0.37037,     0.37137,     0.37237,     0.37337,     0.37437,     0.37538,     0.37638,     0.37738,     0.37838,     0.37938,     0.38038,     0.38138,     0.38238,     0.38338,\n",
       "           0.38438,     0.38539,     0.38639,     0.38739,     0.38839,     0.38939,     0.39039,     0.39139,     0.39239,     0.39339,     0.39439,      0.3954,      0.3964,      0.3974,      0.3984,      0.3994,      0.4004,      0.4014,      0.4024,      0.4034,      0.4044,     0.40541,     0.40641,     0.40741,\n",
       "           0.40841,     0.40941,     0.41041,     0.41141,     0.41241,     0.41341,     0.41441,     0.41542,     0.41642,     0.41742,     0.41842,     0.41942,     0.42042,     0.42142,     0.42242,     0.42342,     0.42442,     0.42543,     0.42643,     0.42743,     0.42843,     0.42943,     0.43043,     0.43143,\n",
       "           0.43243,     0.43343,     0.43443,     0.43544,     0.43644,     0.43744,     0.43844,     0.43944,     0.44044,     0.44144,     0.44244,     0.44344,     0.44444,     0.44545,     0.44645,     0.44745,     0.44845,     0.44945,     0.45045,     0.45145,     0.45245,     0.45345,     0.45445,     0.45546,\n",
       "           0.45646,     0.45746,     0.45846,     0.45946,     0.46046,     0.46146,     0.46246,     0.46346,     0.46446,     0.46547,     0.46647,     0.46747,     0.46847,     0.46947,     0.47047,     0.47147,     0.47247,     0.47347,     0.47447,     0.47548,     0.47648,     0.47748,     0.47848,     0.47948,\n",
       "           0.48048,     0.48148,     0.48248,     0.48348,     0.48448,     0.48549,     0.48649,     0.48749,     0.48849,     0.48949,     0.49049,     0.49149,     0.49249,     0.49349,     0.49449,      0.4955,      0.4965,      0.4975,      0.4985,      0.4995,      0.5005,      0.5015,      0.5025,      0.5035,\n",
       "            0.5045,     0.50551,     0.50651,     0.50751,     0.50851,     0.50951,     0.51051,     0.51151,     0.51251,     0.51351,     0.51451,     0.51552,     0.51652,     0.51752,     0.51852,     0.51952,     0.52052,     0.52152,     0.52252,     0.52352,     0.52452,     0.52553,     0.52653,     0.52753,\n",
       "           0.52853,     0.52953,     0.53053,     0.53153,     0.53253,     0.53353,     0.53453,     0.53554,     0.53654,     0.53754,     0.53854,     0.53954,     0.54054,     0.54154,     0.54254,     0.54354,     0.54454,     0.54555,     0.54655,     0.54755,     0.54855,     0.54955,     0.55055,     0.55155,\n",
       "           0.55255,     0.55355,     0.55455,     0.55556,     0.55656,     0.55756,     0.55856,     0.55956,     0.56056,     0.56156,     0.56256,     0.56356,     0.56456,     0.56557,     0.56657,     0.56757,     0.56857,     0.56957,     0.57057,     0.57157,     0.57257,     0.57357,     0.57457,     0.57558,\n",
       "           0.57658,     0.57758,     0.57858,     0.57958,     0.58058,     0.58158,     0.58258,     0.58358,     0.58458,     0.58559,     0.58659,     0.58759,     0.58859,     0.58959,     0.59059,     0.59159,     0.59259,     0.59359,     0.59459,      0.5956,      0.5966,      0.5976,      0.5986,      0.5996,\n",
       "            0.6006,      0.6016,      0.6026,      0.6036,      0.6046,     0.60561,     0.60661,     0.60761,     0.60861,     0.60961,     0.61061,     0.61161,     0.61261,     0.61361,     0.61461,     0.61562,     0.61662,     0.61762,     0.61862,     0.61962,     0.62062,     0.62162,     0.62262,     0.62362,\n",
       "           0.62462,     0.62563,     0.62663,     0.62763,     0.62863,     0.62963,     0.63063,     0.63163,     0.63263,     0.63363,     0.63463,     0.63564,     0.63664,     0.63764,     0.63864,     0.63964,     0.64064,     0.64164,     0.64264,     0.64364,     0.64464,     0.64565,     0.64665,     0.64765,\n",
       "           0.64865,     0.64965,     0.65065,     0.65165,     0.65265,     0.65365,     0.65465,     0.65566,     0.65666,     0.65766,     0.65866,     0.65966,     0.66066,     0.66166,     0.66266,     0.66366,     0.66466,     0.66567,     0.66667,     0.66767,     0.66867,     0.66967,     0.67067,     0.67167,\n",
       "           0.67267,     0.67367,     0.67467,     0.67568,     0.67668,     0.67768,     0.67868,     0.67968,     0.68068,     0.68168,     0.68268,     0.68368,     0.68468,     0.68569,     0.68669,     0.68769,     0.68869,     0.68969,     0.69069,     0.69169,     0.69269,     0.69369,     0.69469,      0.6957,\n",
       "            0.6967,      0.6977,      0.6987,      0.6997,      0.7007,      0.7017,      0.7027,      0.7037,      0.7047,     0.70571,     0.70671,     0.70771,     0.70871,     0.70971,     0.71071,     0.71171,     0.71271,     0.71371,     0.71471,     0.71572,     0.71672,     0.71772,     0.71872,     0.71972,\n",
       "           0.72072,     0.72172,     0.72272,     0.72372,     0.72472,     0.72573,     0.72673,     0.72773,     0.72873,     0.72973,     0.73073,     0.73173,     0.73273,     0.73373,     0.73473,     0.73574,     0.73674,     0.73774,     0.73874,     0.73974,     0.74074,     0.74174,     0.74274,     0.74374,\n",
       "           0.74474,     0.74575,     0.74675,     0.74775,     0.74875,     0.74975,     0.75075,     0.75175,     0.75275,     0.75375,     0.75475,     0.75576,     0.75676,     0.75776,     0.75876,     0.75976,     0.76076,     0.76176,     0.76276,     0.76376,     0.76476,     0.76577,     0.76677,     0.76777,\n",
       "           0.76877,     0.76977,     0.77077,     0.77177,     0.77277,     0.77377,     0.77477,     0.77578,     0.77678,     0.77778,     0.77878,     0.77978,     0.78078,     0.78178,     0.78278,     0.78378,     0.78478,     0.78579,     0.78679,     0.78779,     0.78879,     0.78979,     0.79079,     0.79179,\n",
       "           0.79279,     0.79379,     0.79479,      0.7958,      0.7968,      0.7978,      0.7988,      0.7998,      0.8008,      0.8018,      0.8028,      0.8038,      0.8048,     0.80581,     0.80681,     0.80781,     0.80881,     0.80981,     0.81081,     0.81181,     0.81281,     0.81381,     0.81481,     0.81582,\n",
       "           0.81682,     0.81782,     0.81882,     0.81982,     0.82082,     0.82182,     0.82282,     0.82382,     0.82482,     0.82583,     0.82683,     0.82783,     0.82883,     0.82983,     0.83083,     0.83183,     0.83283,     0.83383,     0.83483,     0.83584,     0.83684,     0.83784,     0.83884,     0.83984,\n",
       "           0.84084,     0.84184,     0.84284,     0.84384,     0.84484,     0.84585,     0.84685,     0.84785,     0.84885,     0.84985,     0.85085,     0.85185,     0.85285,     0.85385,     0.85485,     0.85586,     0.85686,     0.85786,     0.85886,     0.85986,     0.86086,     0.86186,     0.86286,     0.86386,\n",
       "           0.86486,     0.86587,     0.86687,     0.86787,     0.86887,     0.86987,     0.87087,     0.87187,     0.87287,     0.87387,     0.87487,     0.87588,     0.87688,     0.87788,     0.87888,     0.87988,     0.88088,     0.88188,     0.88288,     0.88388,     0.88488,     0.88589,     0.88689,     0.88789,\n",
       "           0.88889,     0.88989,     0.89089,     0.89189,     0.89289,     0.89389,     0.89489,      0.8959,      0.8969,      0.8979,      0.8989,      0.8999,      0.9009,      0.9019,      0.9029,      0.9039,      0.9049,     0.90591,     0.90691,     0.90791,     0.90891,     0.90991,     0.91091,     0.91191,\n",
       "           0.91291,     0.91391,     0.91491,     0.91592,     0.91692,     0.91792,     0.91892,     0.91992,     0.92092,     0.92192,     0.92292,     0.92392,     0.92492,     0.92593,     0.92693,     0.92793,     0.92893,     0.92993,     0.93093,     0.93193,     0.93293,     0.93393,     0.93493,     0.93594,\n",
       "           0.93694,     0.93794,     0.93894,     0.93994,     0.94094,     0.94194,     0.94294,     0.94394,     0.94494,     0.94595,     0.94695,     0.94795,     0.94895,     0.94995,     0.95095,     0.95195,     0.95295,     0.95395,     0.95495,     0.95596,     0.95696,     0.95796,     0.95896,     0.95996,\n",
       "           0.96096,     0.96196,     0.96296,     0.96396,     0.96496,     0.96597,     0.96697,     0.96797,     0.96897,     0.96997,     0.97097,     0.97197,     0.97297,     0.97397,     0.97497,     0.97598,     0.97698,     0.97798,     0.97898,     0.97998,     0.98098,     0.98198,     0.98298,     0.98398,\n",
       "           0.98498,     0.98599,     0.98699,     0.98799,     0.98899,     0.98999,     0.99099,     0.99199,     0.99299,     0.99399,     0.99499,       0.996,       0.997,       0.998,       0.999,           1]), array([[   0.022396,    0.022436,    0.080674,     0.11241,     0.13611,     0.15752,     0.16824,     0.18163,     0.19942,     0.22471,     0.26363,     0.30077,     0.33855,     0.38705,     0.41644,     0.43841,     0.46879,     0.48245,     0.49163,      0.4997,     0.50746,     0.51339,     0.52566,\n",
       "            0.53089,     0.55229,     0.56591,     0.58891,     0.60156,      0.6073,     0.61071,     0.61363,     0.61608,     0.61785,     0.61962,     0.62651,     0.62846,     0.62477,     0.62106,     0.62136,     0.62464,     0.63083,     0.63262,     0.63441,     0.63619,     0.65134,     0.65442,\n",
       "            0.65517,     0.65593,     0.65668,     0.65743,     0.65818,     0.65893,     0.65967,     0.66096,     0.66744,     0.66906,     0.67068,     0.67229,     0.67679,     0.68288,     0.68704,     0.68913,     0.69121,     0.69322,     0.69464,     0.69605,     0.69746,     0.69887,     0.70023,\n",
       "            0.70141,     0.70259,     0.70376,     0.70493,      0.7061,      0.7072,     0.70794,     0.70867,     0.70941,     0.71014,     0.71088,     0.71161,     0.71234,     0.71307,      0.7138,     0.71619,     0.72205,     0.72941,     0.73067,     0.73192,     0.73317,     0.73441,     0.73565,\n",
       "            0.73688,     0.73787,     0.73887,     0.73986,     0.74085,     0.74184,     0.74282,     0.74381,     0.74476,     0.74546,     0.74617,     0.74687,     0.74757,     0.74827,     0.74897,     0.74966,     0.75036,     0.75105,     0.75175,     0.75244,     0.75211,     0.75121,      0.7503,\n",
       "             0.7494,     0.74849,     0.74758,     0.74668,     0.74577,     0.74486,     0.74395,     0.74304,     0.74213,     0.74121,      0.7403,     0.73938,     0.73958,     0.74019,     0.74081,     0.74142,     0.74203,     0.74264,     0.74325,     0.74386,     0.74447,     0.74508,     0.74568,\n",
       "            0.74629,     0.74689,     0.74968,     0.75557,     0.75709,      0.7586,     0.76011,     0.76161,     0.76311,     0.76135,       0.754,     0.75018,     0.75058,     0.75097,     0.75137,     0.75176,     0.75216,     0.75255,     0.75294,     0.75333,     0.75373,     0.75412,     0.75451,\n",
       "             0.7549,     0.75529,     0.75568,     0.75607,     0.75646,     0.75685,     0.75723,     0.75762,     0.75801,     0.75839,     0.74417,     0.74363,     0.74308,     0.74253,     0.74199,     0.74144,     0.74089,     0.74035,      0.7398,     0.73925,      0.7387,     0.73815,      0.7376,\n",
       "            0.73705,      0.7365,     0.73595,      0.7354,     0.73485,      0.7343,     0.73375,      0.7332,     0.73265,     0.73209,     0.73154,     0.73099,     0.73043,     0.72988,     0.72881,     0.72494,     0.72106,     0.71716,     0.71447,     0.71515,     0.71584,     0.71652,      0.7172,\n",
       "            0.71788,     0.71856,     0.71924,     0.71991,     0.72058,     0.72125,     0.72192,     0.72259,     0.72412,     0.72634,     0.72854,     0.73073,     0.72962,     0.72582,       0.722,     0.71816,     0.71625,      0.7167,     0.71714,     0.71759,     0.71803,     0.71848,     0.71892,\n",
       "            0.71936,      0.7198,     0.72024,     0.72068,     0.72112,     0.72156,       0.722,     0.72244,     0.72287,     0.72331,     0.72374,     0.72418,     0.72461,      0.7255,     0.73066,     0.73428,     0.73462,     0.73496,      0.7353,     0.73564,     0.73598,     0.73632,     0.73666,\n",
       "              0.737,     0.73733,     0.73767,     0.73801,     0.73834,     0.73868,     0.73901,     0.73935,     0.73968,     0.74001,     0.74035,     0.74068,     0.74101,     0.74134,     0.74167,     0.74201,     0.74234,     0.74267,     0.74299,     0.74332,     0.74365,     0.74396,     0.74427,\n",
       "            0.74458,     0.74489,      0.7452,     0.74551,     0.74581,     0.74612,     0.74643,     0.74674,     0.74704,     0.74735,     0.74766,     0.74796,     0.74827,     0.74857,     0.74888,     0.74918,     0.74948,     0.74979,     0.75009,     0.75039,     0.75069,       0.751,      0.7513,\n",
       "             0.7516,      0.7519,      0.7522,      0.7525,      0.7528,      0.7531,     0.75316,       0.753,     0.75284,     0.75267,     0.75251,     0.75235,     0.75218,     0.75202,     0.75185,     0.75169,     0.75152,     0.75136,      0.7512,     0.75103,     0.75087,      0.7507,     0.75054,\n",
       "            0.75037,     0.75021,     0.75005,     0.74988,     0.74972,     0.74955,     0.74939,     0.74922,     0.74906,     0.74889,     0.74873,     0.74856,      0.7484,     0.74823,     0.74807,      0.7479,     0.74774,     0.74757,     0.74741,     0.74724,     0.74708,     0.74691,     0.74675,\n",
       "            0.74658,     0.74642,     0.74625,     0.74608,     0.74592,     0.74575,     0.74559,     0.74542,     0.74526,     0.74509,     0.74493,     0.74476,     0.74459,     0.74443,     0.74426,      0.7441,     0.74393,     0.74376,      0.7436,     0.74343,     0.74326,      0.7431,     0.74293,\n",
       "            0.74277,      0.7426,     0.74243,     0.74227,      0.7421,     0.74193,     0.74177,      0.7416,     0.74143,     0.74127,      0.7411,     0.74093,     0.74077,      0.7406,     0.74043,     0.74027,      0.7401,     0.73993,     0.73976,      0.7396,     0.73943,     0.73926,      0.7391,\n",
       "            0.73893,     0.73876,     0.73859,     0.73843,     0.73826,     0.73809,     0.73792,     0.73776,     0.73759,     0.73742,     0.73725,     0.73709,     0.73692,     0.73611,     0.73476,     0.73342,     0.73207,     0.73072,     0.72936,       0.728,     0.72664,     0.72528,     0.72391,\n",
       "            0.72255,     0.72117,     0.71943,     0.71545,     0.71145,     0.70743,     0.70339,     0.70278,     0.70287,     0.70296,     0.70305,     0.70314,     0.70323,     0.70332,     0.70341,      0.7035,     0.70359,     0.70368,     0.70377,     0.70386,     0.70395,     0.70404,     0.70414,\n",
       "            0.70423,     0.70432,     0.70441,      0.7045,     0.70459,     0.70468,     0.70477,     0.70485,     0.70494,     0.70503,     0.70512,     0.70521,      0.7053,     0.70539,     0.70548,     0.70557,     0.70566,     0.70575,     0.70584,     0.70593,     0.70602,     0.70611,      0.7062,\n",
       "            0.70629,     0.70638,     0.70647,     0.70655,     0.70664,     0.70673,     0.70682,     0.70691,       0.707,     0.70709,     0.70718,     0.70727,     0.70735,     0.70744,     0.70753,     0.70762,     0.70771,      0.7078,     0.70789,     0.70797,     0.70806,     0.70815,     0.70824,\n",
       "            0.70833,     0.70842,      0.7085,     0.70859,     0.70868,     0.70877,     0.70886,     0.70894,     0.70903,     0.70912,     0.70921,      0.7093,     0.70938,     0.70947,     0.70956,     0.70965,     0.70974,     0.70982,     0.70991,        0.71,     0.71009,     0.71017,     0.71026,\n",
       "            0.71035,     0.71044,     0.71052,     0.71061,      0.7107,     0.71078,     0.71087,     0.71096,     0.71105,     0.71113,     0.71122,     0.71131,     0.71139,     0.71148,     0.71157,     0.71165,     0.71174,     0.71183,     0.71191,       0.712,     0.71209,     0.71217,     0.71226,\n",
       "            0.71223,     0.71179,     0.71135,      0.7109,     0.71046,     0.71002,     0.70957,     0.70913,     0.70868,     0.70824,     0.70779,     0.70735,      0.7069,     0.70645,     0.70601,     0.70556,     0.70511,     0.70467,     0.70422,     0.70377,     0.70332,     0.70287,     0.70242,\n",
       "            0.70197,     0.70152,     0.70107,     0.70062,     0.70017,     0.69972,     0.69927,     0.69882,     0.69837,     0.69792,     0.69746,     0.69701,     0.69656,      0.6961,     0.69565,      0.6952,     0.69474,      0.6943,     0.69388,     0.69347,     0.69305,     0.69263,     0.69221,\n",
       "            0.69179,     0.69138,     0.69096,     0.69054,     0.69012,      0.6897,     0.68928,     0.68886,     0.68844,     0.68802,      0.6876,     0.68718,     0.68675,     0.68633,     0.68591,     0.68549,     0.68506,     0.68464,     0.68422,      0.6838,     0.68337,     0.68295,     0.68252,\n",
       "             0.6821,     0.68167,     0.68125,     0.68082,      0.6804,     0.67997,     0.67955,     0.67912,     0.67869,     0.67827,     0.67784,     0.67741,     0.67698,     0.67655,     0.67613,     0.67569,     0.67524,      0.6748,     0.67436,     0.67392,     0.67347,     0.67303,     0.67258,\n",
       "            0.67214,      0.6717,     0.67125,      0.6708,     0.67036,     0.66991,     0.66947,     0.66902,     0.66857,     0.66813,     0.66768,     0.66723,     0.66678,     0.66634,     0.66589,     0.66544,     0.66499,     0.66454,     0.66409,     0.66364,     0.66319,     0.66274,     0.66229,\n",
       "            0.66184,     0.66138,     0.66093,     0.66048,     0.66003,     0.65957,     0.65912,     0.65867,     0.65821,     0.65776,     0.65731,     0.65586,     0.65385,     0.65184,     0.64982,     0.64779,     0.64576,     0.64372,     0.64167,     0.63962,     0.63748,     0.63389,     0.63028,\n",
       "            0.62665,       0.623,     0.61933,     0.61636,     0.61399,      0.6116,     0.60921,     0.60681,      0.6044,     0.60199,     0.59956,     0.59713,     0.59597,     0.59488,     0.59378,     0.59268,     0.59158,     0.59048,     0.58937,     0.58827,     0.58716,     0.58605,     0.58494,\n",
       "            0.58383,     0.58271,      0.5816,     0.58048,     0.57936,     0.57824,     0.57712,     0.57599,     0.57466,     0.57326,     0.57187,     0.57047,     0.56907,     0.56767,     0.56627,     0.56486,     0.56345,     0.56203,     0.56062,      0.5592,     0.55777,     0.55635,     0.55492,\n",
       "            0.55025,     0.53555,      0.5285,     0.52462,     0.52073,     0.51681,     0.51287,      0.5089,     0.50514,     0.50142,     0.49768,     0.49393,     0.49015,     0.48636,       0.483,      0.4805,     0.47798,     0.47546,     0.47292,     0.47038,     0.46783,     0.46528,     0.46271,\n",
       "            0.46013,     0.45806,     0.45636,     0.45467,     0.45297,     0.45126,     0.44955,     0.44784,     0.44612,      0.4444,     0.44268,     0.44095,     0.43922,     0.43749,     0.43575,       0.434,     0.43226,      0.4305,     0.42874,     0.42698,     0.42522,     0.42345,     0.42167,\n",
       "             0.4199,     0.41812,     0.41633,     0.41454,     0.41275,     0.41095,     0.40915,     0.40734,     0.40556,     0.40379,     0.40202,     0.40024,     0.39846,     0.39668,     0.39489,      0.3931,      0.3913,      0.3895,     0.38769,     0.38589,     0.38407,     0.38226,     0.38043,\n",
       "            0.37672,     0.36993,     0.36308,     0.35617,     0.34655,      0.3282,     0.31967,      0.3169,     0.31412,     0.31133,     0.30853,     0.30572,      0.3029,     0.30008,     0.29724,     0.29439,     0.29154,     0.28994,     0.28869,     0.28744,     0.28619,     0.28494,     0.28369,\n",
       "            0.28243,     0.28118,     0.27992,     0.27866,     0.27739,     0.27613,     0.27486,      0.2736,     0.27233,     0.27105,     0.26978,      0.2685,     0.26723,     0.26595,     0.26467,     0.26338,      0.2621,     0.26081,     0.25952,     0.24124,      0.2257,      0.2237,      0.2217,\n",
       "            0.21969,     0.21768,     0.21566,     0.21364,     0.21161,     0.20958,     0.20754,      0.2055,     0.20346,     0.20141,     0.19935,      0.1973,     0.19523,     0.19316,      0.1899,      0.1858,     0.18168,     0.17754,     0.17337,     0.16919,       0.165,     0.16078,     0.15652,\n",
       "            0.15196,     0.14737,     0.14276,     0.13813,     0.13348,     0.12881,     0.12411,     0.11988,     0.11897,     0.11806,     0.11714,     0.11623,     0.11531,      0.1144,     0.11348,     0.11256,     0.11164,     0.11072,      0.1098,     0.10888,     0.10796,     0.10704,     0.10611,\n",
       "            0.10519,     0.10426,     0.10333,     0.10241,     0.10148,     0.10055,    0.099616,    0.098684,    0.097752,    0.096819,    0.095884,    0.094949,    0.094013,    0.093076,    0.092138,    0.091199,    0.090259,    0.089319,    0.088377,    0.087434,    0.086491,    0.085547,    0.084601,\n",
       "           0.083655,    0.082708,    0.081759,     0.07776,     0.07327,    0.068759,    0.064227,    0.059673,    0.055098,    0.050502,    0.045883,           0,           0,           0,           0,           0,           0,           0,           0,           0,           0,           0,           0,\n",
       "                  0,           0,           0,           0,           0,           0,           0,           0,           0,           0,           0,           0,           0,           0,           0,           0,           0,           0,           0,           0,           0,           0,           0,\n",
       "                  0,           0,           0,           0,           0,           0,           0,           0,           0,           0,           0,           0,           0,           0,           0,           0,           0,           0,           0,           0,           0,           0,           0,\n",
       "                  0,           0,           0,           0,           0,           0,           0,           0,           0,           0,           0,           0,           0,           0,           0,           0,           0,           0,           0,           0,           0,           0,           0,\n",
       "                  0,           0,           0,           0,           0,           0,           0,           0,           0,           0,           0]]), 'Confidence', 'F1'], [array([          0,    0.001001,    0.002002,    0.003003,    0.004004,    0.005005,    0.006006,    0.007007,    0.008008,    0.009009,     0.01001,    0.011011,    0.012012,    0.013013,    0.014014,    0.015015,    0.016016,    0.017017,    0.018018,    0.019019,     0.02002,    0.021021,    0.022022,    0.023023,\n",
       "          0.024024,    0.025025,    0.026026,    0.027027,    0.028028,    0.029029,     0.03003,    0.031031,    0.032032,    0.033033,    0.034034,    0.035035,    0.036036,    0.037037,    0.038038,    0.039039,     0.04004,    0.041041,    0.042042,    0.043043,    0.044044,    0.045045,    0.046046,    0.047047,\n",
       "          0.048048,    0.049049,     0.05005,    0.051051,    0.052052,    0.053053,    0.054054,    0.055055,    0.056056,    0.057057,    0.058058,    0.059059,     0.06006,    0.061061,    0.062062,    0.063063,    0.064064,    0.065065,    0.066066,    0.067067,    0.068068,    0.069069,     0.07007,    0.071071,\n",
       "          0.072072,    0.073073,    0.074074,    0.075075,    0.076076,    0.077077,    0.078078,    0.079079,     0.08008,    0.081081,    0.082082,    0.083083,    0.084084,    0.085085,    0.086086,    0.087087,    0.088088,    0.089089,     0.09009,    0.091091,    0.092092,    0.093093,    0.094094,    0.095095,\n",
       "          0.096096,    0.097097,    0.098098,    0.099099,      0.1001,      0.1011,      0.1021,      0.1031,      0.1041,     0.10511,     0.10611,     0.10711,     0.10811,     0.10911,     0.11011,     0.11111,     0.11211,     0.11311,     0.11411,     0.11512,     0.11612,     0.11712,     0.11812,     0.11912,\n",
       "           0.12012,     0.12112,     0.12212,     0.12312,     0.12412,     0.12513,     0.12613,     0.12713,     0.12813,     0.12913,     0.13013,     0.13113,     0.13213,     0.13313,     0.13413,     0.13514,     0.13614,     0.13714,     0.13814,     0.13914,     0.14014,     0.14114,     0.14214,     0.14314,\n",
       "           0.14414,     0.14515,     0.14615,     0.14715,     0.14815,     0.14915,     0.15015,     0.15115,     0.15215,     0.15315,     0.15415,     0.15516,     0.15616,     0.15716,     0.15816,     0.15916,     0.16016,     0.16116,     0.16216,     0.16316,     0.16416,     0.16517,     0.16617,     0.16717,\n",
       "           0.16817,     0.16917,     0.17017,     0.17117,     0.17217,     0.17317,     0.17417,     0.17518,     0.17618,     0.17718,     0.17818,     0.17918,     0.18018,     0.18118,     0.18218,     0.18318,     0.18418,     0.18519,     0.18619,     0.18719,     0.18819,     0.18919,     0.19019,     0.19119,\n",
       "           0.19219,     0.19319,     0.19419,      0.1952,      0.1962,      0.1972,      0.1982,      0.1992,      0.2002,      0.2012,      0.2022,      0.2032,      0.2042,     0.20521,     0.20621,     0.20721,     0.20821,     0.20921,     0.21021,     0.21121,     0.21221,     0.21321,     0.21421,     0.21522,\n",
       "           0.21622,     0.21722,     0.21822,     0.21922,     0.22022,     0.22122,     0.22222,     0.22322,     0.22422,     0.22523,     0.22623,     0.22723,     0.22823,     0.22923,     0.23023,     0.23123,     0.23223,     0.23323,     0.23423,     0.23524,     0.23624,     0.23724,     0.23824,     0.23924,\n",
       "           0.24024,     0.24124,     0.24224,     0.24324,     0.24424,     0.24525,     0.24625,     0.24725,     0.24825,     0.24925,     0.25025,     0.25125,     0.25225,     0.25325,     0.25425,     0.25526,     0.25626,     0.25726,     0.25826,     0.25926,     0.26026,     0.26126,     0.26226,     0.26326,\n",
       "           0.26426,     0.26527,     0.26627,     0.26727,     0.26827,     0.26927,     0.27027,     0.27127,     0.27227,     0.27327,     0.27427,     0.27528,     0.27628,     0.27728,     0.27828,     0.27928,     0.28028,     0.28128,     0.28228,     0.28328,     0.28428,     0.28529,     0.28629,     0.28729,\n",
       "           0.28829,     0.28929,     0.29029,     0.29129,     0.29229,     0.29329,     0.29429,      0.2953,      0.2963,      0.2973,      0.2983,      0.2993,      0.3003,      0.3013,      0.3023,      0.3033,      0.3043,     0.30531,     0.30631,     0.30731,     0.30831,     0.30931,     0.31031,     0.31131,\n",
       "           0.31231,     0.31331,     0.31431,     0.31532,     0.31632,     0.31732,     0.31832,     0.31932,     0.32032,     0.32132,     0.32232,     0.32332,     0.32432,     0.32533,     0.32633,     0.32733,     0.32833,     0.32933,     0.33033,     0.33133,     0.33233,     0.33333,     0.33433,     0.33534,\n",
       "           0.33634,     0.33734,     0.33834,     0.33934,     0.34034,     0.34134,     0.34234,     0.34334,     0.34434,     0.34535,     0.34635,     0.34735,     0.34835,     0.34935,     0.35035,     0.35135,     0.35235,     0.35335,     0.35435,     0.35536,     0.35636,     0.35736,     0.35836,     0.35936,\n",
       "           0.36036,     0.36136,     0.36236,     0.36336,     0.36436,     0.36537,     0.36637,     0.36737,     0.36837,     0.36937,     0.37037,     0.37137,     0.37237,     0.37337,     0.37437,     0.37538,     0.37638,     0.37738,     0.37838,     0.37938,     0.38038,     0.38138,     0.38238,     0.38338,\n",
       "           0.38438,     0.38539,     0.38639,     0.38739,     0.38839,     0.38939,     0.39039,     0.39139,     0.39239,     0.39339,     0.39439,      0.3954,      0.3964,      0.3974,      0.3984,      0.3994,      0.4004,      0.4014,      0.4024,      0.4034,      0.4044,     0.40541,     0.40641,     0.40741,\n",
       "           0.40841,     0.40941,     0.41041,     0.41141,     0.41241,     0.41341,     0.41441,     0.41542,     0.41642,     0.41742,     0.41842,     0.41942,     0.42042,     0.42142,     0.42242,     0.42342,     0.42442,     0.42543,     0.42643,     0.42743,     0.42843,     0.42943,     0.43043,     0.43143,\n",
       "           0.43243,     0.43343,     0.43443,     0.43544,     0.43644,     0.43744,     0.43844,     0.43944,     0.44044,     0.44144,     0.44244,     0.44344,     0.44444,     0.44545,     0.44645,     0.44745,     0.44845,     0.44945,     0.45045,     0.45145,     0.45245,     0.45345,     0.45445,     0.45546,\n",
       "           0.45646,     0.45746,     0.45846,     0.45946,     0.46046,     0.46146,     0.46246,     0.46346,     0.46446,     0.46547,     0.46647,     0.46747,     0.46847,     0.46947,     0.47047,     0.47147,     0.47247,     0.47347,     0.47447,     0.47548,     0.47648,     0.47748,     0.47848,     0.47948,\n",
       "           0.48048,     0.48148,     0.48248,     0.48348,     0.48448,     0.48549,     0.48649,     0.48749,     0.48849,     0.48949,     0.49049,     0.49149,     0.49249,     0.49349,     0.49449,      0.4955,      0.4965,      0.4975,      0.4985,      0.4995,      0.5005,      0.5015,      0.5025,      0.5035,\n",
       "            0.5045,     0.50551,     0.50651,     0.50751,     0.50851,     0.50951,     0.51051,     0.51151,     0.51251,     0.51351,     0.51451,     0.51552,     0.51652,     0.51752,     0.51852,     0.51952,     0.52052,     0.52152,     0.52252,     0.52352,     0.52452,     0.52553,     0.52653,     0.52753,\n",
       "           0.52853,     0.52953,     0.53053,     0.53153,     0.53253,     0.53353,     0.53453,     0.53554,     0.53654,     0.53754,     0.53854,     0.53954,     0.54054,     0.54154,     0.54254,     0.54354,     0.54454,     0.54555,     0.54655,     0.54755,     0.54855,     0.54955,     0.55055,     0.55155,\n",
       "           0.55255,     0.55355,     0.55455,     0.55556,     0.55656,     0.55756,     0.55856,     0.55956,     0.56056,     0.56156,     0.56256,     0.56356,     0.56456,     0.56557,     0.56657,     0.56757,     0.56857,     0.56957,     0.57057,     0.57157,     0.57257,     0.57357,     0.57457,     0.57558,\n",
       "           0.57658,     0.57758,     0.57858,     0.57958,     0.58058,     0.58158,     0.58258,     0.58358,     0.58458,     0.58559,     0.58659,     0.58759,     0.58859,     0.58959,     0.59059,     0.59159,     0.59259,     0.59359,     0.59459,      0.5956,      0.5966,      0.5976,      0.5986,      0.5996,\n",
       "            0.6006,      0.6016,      0.6026,      0.6036,      0.6046,     0.60561,     0.60661,     0.60761,     0.60861,     0.60961,     0.61061,     0.61161,     0.61261,     0.61361,     0.61461,     0.61562,     0.61662,     0.61762,     0.61862,     0.61962,     0.62062,     0.62162,     0.62262,     0.62362,\n",
       "           0.62462,     0.62563,     0.62663,     0.62763,     0.62863,     0.62963,     0.63063,     0.63163,     0.63263,     0.63363,     0.63463,     0.63564,     0.63664,     0.63764,     0.63864,     0.63964,     0.64064,     0.64164,     0.64264,     0.64364,     0.64464,     0.64565,     0.64665,     0.64765,\n",
       "           0.64865,     0.64965,     0.65065,     0.65165,     0.65265,     0.65365,     0.65465,     0.65566,     0.65666,     0.65766,     0.65866,     0.65966,     0.66066,     0.66166,     0.66266,     0.66366,     0.66466,     0.66567,     0.66667,     0.66767,     0.66867,     0.66967,     0.67067,     0.67167,\n",
       "           0.67267,     0.67367,     0.67467,     0.67568,     0.67668,     0.67768,     0.67868,     0.67968,     0.68068,     0.68168,     0.68268,     0.68368,     0.68468,     0.68569,     0.68669,     0.68769,     0.68869,     0.68969,     0.69069,     0.69169,     0.69269,     0.69369,     0.69469,      0.6957,\n",
       "            0.6967,      0.6977,      0.6987,      0.6997,      0.7007,      0.7017,      0.7027,      0.7037,      0.7047,     0.70571,     0.70671,     0.70771,     0.70871,     0.70971,     0.71071,     0.71171,     0.71271,     0.71371,     0.71471,     0.71572,     0.71672,     0.71772,     0.71872,     0.71972,\n",
       "           0.72072,     0.72172,     0.72272,     0.72372,     0.72472,     0.72573,     0.72673,     0.72773,     0.72873,     0.72973,     0.73073,     0.73173,     0.73273,     0.73373,     0.73473,     0.73574,     0.73674,     0.73774,     0.73874,     0.73974,     0.74074,     0.74174,     0.74274,     0.74374,\n",
       "           0.74474,     0.74575,     0.74675,     0.74775,     0.74875,     0.74975,     0.75075,     0.75175,     0.75275,     0.75375,     0.75475,     0.75576,     0.75676,     0.75776,     0.75876,     0.75976,     0.76076,     0.76176,     0.76276,     0.76376,     0.76476,     0.76577,     0.76677,     0.76777,\n",
       "           0.76877,     0.76977,     0.77077,     0.77177,     0.77277,     0.77377,     0.77477,     0.77578,     0.77678,     0.77778,     0.77878,     0.77978,     0.78078,     0.78178,     0.78278,     0.78378,     0.78478,     0.78579,     0.78679,     0.78779,     0.78879,     0.78979,     0.79079,     0.79179,\n",
       "           0.79279,     0.79379,     0.79479,      0.7958,      0.7968,      0.7978,      0.7988,      0.7998,      0.8008,      0.8018,      0.8028,      0.8038,      0.8048,     0.80581,     0.80681,     0.80781,     0.80881,     0.80981,     0.81081,     0.81181,     0.81281,     0.81381,     0.81481,     0.81582,\n",
       "           0.81682,     0.81782,     0.81882,     0.81982,     0.82082,     0.82182,     0.82282,     0.82382,     0.82482,     0.82583,     0.82683,     0.82783,     0.82883,     0.82983,     0.83083,     0.83183,     0.83283,     0.83383,     0.83483,     0.83584,     0.83684,     0.83784,     0.83884,     0.83984,\n",
       "           0.84084,     0.84184,     0.84284,     0.84384,     0.84484,     0.84585,     0.84685,     0.84785,     0.84885,     0.84985,     0.85085,     0.85185,     0.85285,     0.85385,     0.85485,     0.85586,     0.85686,     0.85786,     0.85886,     0.85986,     0.86086,     0.86186,     0.86286,     0.86386,\n",
       "           0.86486,     0.86587,     0.86687,     0.86787,     0.86887,     0.86987,     0.87087,     0.87187,     0.87287,     0.87387,     0.87487,     0.87588,     0.87688,     0.87788,     0.87888,     0.87988,     0.88088,     0.88188,     0.88288,     0.88388,     0.88488,     0.88589,     0.88689,     0.88789,\n",
       "           0.88889,     0.88989,     0.89089,     0.89189,     0.89289,     0.89389,     0.89489,      0.8959,      0.8969,      0.8979,      0.8989,      0.8999,      0.9009,      0.9019,      0.9029,      0.9039,      0.9049,     0.90591,     0.90691,     0.90791,     0.90891,     0.90991,     0.91091,     0.91191,\n",
       "           0.91291,     0.91391,     0.91491,     0.91592,     0.91692,     0.91792,     0.91892,     0.91992,     0.92092,     0.92192,     0.92292,     0.92392,     0.92492,     0.92593,     0.92693,     0.92793,     0.92893,     0.92993,     0.93093,     0.93193,     0.93293,     0.93393,     0.93493,     0.93594,\n",
       "           0.93694,     0.93794,     0.93894,     0.93994,     0.94094,     0.94194,     0.94294,     0.94394,     0.94494,     0.94595,     0.94695,     0.94795,     0.94895,     0.94995,     0.95095,     0.95195,     0.95295,     0.95395,     0.95495,     0.95596,     0.95696,     0.95796,     0.95896,     0.95996,\n",
       "           0.96096,     0.96196,     0.96296,     0.96396,     0.96496,     0.96597,     0.96697,     0.96797,     0.96897,     0.96997,     0.97097,     0.97197,     0.97297,     0.97397,     0.97497,     0.97598,     0.97698,     0.97798,     0.97898,     0.97998,     0.98098,     0.98198,     0.98298,     0.98398,\n",
       "           0.98498,     0.98599,     0.98699,     0.98799,     0.98899,     0.98999,     0.99099,     0.99199,     0.99299,     0.99399,     0.99499,       0.996,       0.997,       0.998,       0.999,           1]), array([[   0.011348,    0.011368,    0.042398,    0.060405,    0.074312,    0.087258,    0.093886,     0.10231,     0.11417,     0.13106,     0.15832,      0.1859,     0.21565,      0.2566,     0.28595,     0.30709,     0.33775,     0.35212,     0.36198,      0.3708,     0.37941,     0.38608,     0.40013,\n",
       "            0.40622,     0.43183,     0.44872,     0.47834,     0.49527,     0.50309,     0.50779,     0.51183,     0.51526,     0.51774,     0.52022,     0.53002,     0.53551,     0.53336,     0.53122,     0.53307,     0.53793,     0.54717,     0.54988,     0.55259,      0.5553,     0.57879,     0.58367,\n",
       "            0.58487,     0.58608,     0.58728,     0.58848,     0.58968,     0.59088,     0.59208,     0.59416,     0.60471,     0.60738,     0.61005,     0.61273,     0.62025,     0.63056,     0.63768,     0.64129,     0.64491,     0.64841,      0.6509,     0.65339,     0.65587,     0.65836,     0.66078,\n",
       "            0.66289,       0.665,     0.66711,     0.66922,     0.67132,      0.6733,     0.67465,     0.67599,     0.67733,     0.67867,     0.68001,     0.68135,     0.68269,     0.68404,     0.68538,      0.6898,     0.70075,     0.71476,     0.71717,     0.71959,       0.722,     0.72442,     0.72684,\n",
       "            0.72923,     0.73119,     0.73315,     0.73511,     0.73706,     0.73902,     0.74098,     0.74293,     0.74483,     0.74624,     0.74766,     0.74907,     0.75048,     0.75189,      0.7533,     0.75471,     0.75613,     0.75754,     0.75895,     0.76036,     0.76064,     0.76029,     0.75993,\n",
       "            0.75957,     0.75922,     0.75886,      0.7585,     0.75815,     0.75779,     0.75744,     0.75708,     0.75672,     0.75637,     0.75601,     0.75565,     0.75649,     0.75778,     0.75907,     0.76035,     0.76164,     0.76293,     0.76422,     0.76551,      0.7668,     0.76809,     0.76938,\n",
       "            0.77067,     0.77196,     0.77794,     0.79073,     0.79407,     0.79741,     0.80074,     0.80408,     0.80742,     0.80863,     0.80619,      0.8053,     0.80621,     0.80712,     0.80803,     0.80895,     0.80986,     0.81077,     0.81169,      0.8126,     0.81351,     0.81442,     0.81534,\n",
       "            0.81625,     0.81716,     0.81808,     0.81899,      0.8199,     0.82081,     0.82173,     0.82264,     0.82355,     0.82446,     0.82051,     0.82033,     0.82016,     0.81998,      0.8198,     0.81963,     0.81945,     0.81928,      0.8191,     0.81893,     0.81875,     0.81857,      0.8184,\n",
       "            0.81822,     0.81805,     0.81787,      0.8177,     0.81752,     0.81734,     0.81717,     0.81699,     0.81682,     0.81664,     0.81647,     0.81629,     0.81611,     0.81594,     0.81559,     0.81431,     0.81303,     0.81175,     0.81128,     0.81305,     0.81482,      0.8166,     0.81837,\n",
       "            0.82014,     0.82191,     0.82368,     0.82545,     0.82722,     0.82899,     0.83076,     0.83253,      0.8366,     0.84255,     0.84851,     0.85446,     0.85658,     0.85555,     0.85453,      0.8535,     0.85351,     0.85478,     0.85605,     0.85732,     0.85859,     0.85986,     0.86113,\n",
       "             0.8624,     0.86367,     0.86494,     0.86621,     0.86748,     0.86875,     0.87002,     0.87129,     0.87256,     0.87383,      0.8751,     0.87637,     0.87764,     0.88025,     0.89562,     0.90657,     0.90761,     0.90865,     0.90969,     0.91073,     0.91177,     0.91281,     0.91385,\n",
       "            0.91489,     0.91593,     0.91697,     0.91801,     0.91905,     0.92009,     0.92113,     0.92217,     0.92321,     0.92425,     0.92529,     0.92632,     0.92736,      0.9284,     0.92944,     0.93048,     0.93152,     0.93256,      0.9336,     0.93464,     0.93567,     0.93666,     0.93764,\n",
       "            0.93862,     0.93961,     0.94059,     0.94158,     0.94256,     0.94354,     0.94453,     0.94551,      0.9465,     0.94748,     0.94846,     0.94945,     0.95043,     0.95142,      0.9524,     0.95338,     0.95437,     0.95535,     0.95634,     0.95732,      0.9583,     0.95929,     0.96027,\n",
       "            0.96126,     0.96224,     0.96322,     0.96421,     0.96519,     0.96618,     0.96666,     0.96665,     0.96664,     0.96663,     0.96661,      0.9666,     0.96659,     0.96658,     0.96657,     0.96656,     0.96654,     0.96653,     0.96652,     0.96651,      0.9665,     0.96649,     0.96647,\n",
       "            0.96646,     0.96645,     0.96644,     0.96643,     0.96642,     0.96641,     0.96639,     0.96638,     0.96637,     0.96636,     0.96635,     0.96634,     0.96632,     0.96631,      0.9663,     0.96629,     0.96628,     0.96627,     0.96625,     0.96624,     0.96623,     0.96622,     0.96621,\n",
       "             0.9662,     0.96618,     0.96617,     0.96616,     0.96615,     0.96614,     0.96613,     0.96611,      0.9661,     0.96609,     0.96608,     0.96607,     0.96606,     0.96605,     0.96603,     0.96602,     0.96601,       0.966,     0.96599,     0.96598,     0.96596,     0.96595,     0.96594,\n",
       "            0.96593,     0.96592,     0.96591,     0.96589,     0.96588,     0.96587,     0.96586,     0.96585,     0.96584,     0.96582,     0.96581,      0.9658,     0.96579,     0.96578,     0.96577,     0.96575,     0.96574,     0.96573,     0.96572,     0.96571,      0.9657,     0.96569,     0.96567,\n",
       "            0.96566,     0.96565,     0.96564,     0.96563,     0.96562,      0.9656,     0.96559,     0.96558,     0.96557,     0.96556,     0.96555,     0.96553,     0.96552,     0.96546,     0.96536,     0.96526,     0.96516,     0.96507,     0.96497,     0.96487,     0.96477,     0.96467,     0.96457,\n",
       "            0.96447,     0.96437,     0.96424,     0.96393,     0.96363,     0.96332,     0.96301,     0.96325,     0.96359,     0.96393,     0.96427,     0.96461,     0.96495,     0.96529,     0.96563,     0.96597,     0.96632,     0.96666,       0.967,     0.96734,     0.96768,     0.96802,     0.96836,\n",
       "             0.9687,     0.96904,     0.96938,     0.96973,     0.97007,     0.97041,     0.97075,     0.97109,     0.97143,     0.97177,     0.97211,     0.97245,     0.97279,     0.97314,     0.97348,     0.97382,     0.97416,      0.9745,     0.97484,     0.97518,     0.97552,     0.97586,      0.9762,\n",
       "            0.97655,     0.97689,     0.97723,     0.97757,     0.97791,     0.97825,     0.97859,     0.97893,     0.97927,     0.97961,     0.97996,      0.9803,     0.98064,     0.98098,     0.98132,     0.98166,       0.982,     0.98234,     0.98268,     0.98302,     0.98337,     0.98371,     0.98405,\n",
       "            0.98439,     0.98473,     0.98507,     0.98541,     0.98575,     0.98609,     0.98643,     0.98678,     0.98712,     0.98746,      0.9878,     0.98814,     0.98848,     0.98882,     0.98916,      0.9895,     0.98984,     0.99019,     0.99053,     0.99087,     0.99121,     0.99155,     0.99189,\n",
       "            0.99223,     0.99257,     0.99291,     0.99325,      0.9936,     0.99394,     0.99428,     0.99462,     0.99496,      0.9953,     0.99564,     0.99598,     0.99632,     0.99666,     0.99701,     0.99735,     0.99769,     0.99803,     0.99837,     0.99871,     0.99905,     0.99939,     0.99973,\n",
       "                  1,           1,           1,           1,           1,           1,           1,           1,           1,           1,           1,           1,           1,           1,           1,           1,           1,           1,           1,           1,           1,           1,           1,\n",
       "                  1,           1,           1,           1,           1,           1,           1,           1,           1,           1,           1,           1,           1,           1,           1,           1,           1,           1,           1,           1,           1,           1,           1,\n",
       "                  1,           1,           1,           1,           1,           1,           1,           1,           1,           1,           1,           1,           1,           1,           1,           1,           1,           1,           1,           1,           1,           1,           1,\n",
       "                  1,           1,           1,           1,           1,           1,           1,           1,           1,           1,           1,           1,           1,           1,           1,           1,           1,           1,           1,           1,           1,           1,           1,\n",
       "                  1,           1,           1,           1,           1,           1,           1,           1,           1,           1,           1,           1,           1,           1,           1,           1,           1,           1,           1,           1,           1,           1,           1,\n",
       "                  1,           1,           1,           1,           1,           1,           1,           1,           1,           1,           1,           1,           1,           1,           1,           1,           1,           1,           1,           1,           1,           1,           1,\n",
       "                  1,           1,           1,           1,           1,           1,           1,           1,           1,           1,           1,           1,           1,           1,           1,           1,           1,           1,           1,           1,           1,           1,           1,\n",
       "                  1,           1,           1,           1,           1,           1,           1,           1,           1,           1,           1,           1,           1,           1,           1,           1,           1,           1,           1,           1,           1,           1,           1,\n",
       "                  1,           1,           1,           1,           1,           1,           1,           1,           1,           1,           1,           1,           1,           1,           1,           1,           1,           1,           1,           1,           1,           1,           1,\n",
       "                  1,           1,           1,           1,           1,           1,           1,           1,           1,           1,           1,           1,           1,           1,           1,           1,           1,           1,           1,           1,           1,           1,           1,\n",
       "                  1,           1,           1,           1,           1,           1,           1,           1,           1,           1,           1,           1,           1,           1,           1,           1,           1,           1,           1,           1,           1,           1,           1,\n",
       "                  1,           1,           1,           1,           1,           1,           1,           1,           1,           1,           1,           1,           1,           1,           1,           1,           1,           1,           1,           1,           1,           1,           1,\n",
       "                  1,           1,           1,           1,           1,           1,           1,           1,           1,           1,           1,           1,           1,           1,           1,           1,           1,           1,           1,           1,           1,           1,           1,\n",
       "                  1,           1,           1,           1,           1,           1,           1,           1,           1,           1,           1,           1,           1,           1,           1,           1,           1,           1,           1,           1,           1,           1,           1,\n",
       "                  1,           1,           1,           1,           1,           1,           1,           1,           1,           1,           1,           1,           1,           1,           1,           1,           1,           1,           1,           1,           1,           1,           1,\n",
       "                  1,           1,           1,           1,           1,           1,           1,           1,           1,           1,           1,           1,           1,           1,           1,           1,           1,           1,           1,           1,           1,           1,           1,\n",
       "                  1,           1,           1,           1,           1,           1,           1,           1,           1,           1,           1,           1,           1,           1,           1,           1,           1,           1,           1,           1,           1,           1,           1,\n",
       "                  1,           1,           1,           1,           1,           1,           1,           1,           1,           1,           1,           1,           1,           1,           1,           1,           1,           1,           1,           1,           1,           1,           1,\n",
       "                  1,           1,           1,           1,           1,           1,           1,           1,           1,           1,           1,           1,           1,           1,           1,           1,           1,           1,           1,           1,           1,           1,           1,\n",
       "                  1,           1,           1,           1,           1,           1,           1,           1,           1,           1,           1,           1,           1,           1,           1,           1,           1,           1,           1,           1,           1,           1,           1,\n",
       "                  1,           1,           1,           1,           1,           1,           1,           1,           1,           1,           1]]), 'Confidence', 'Precision'], [array([          0,    0.001001,    0.002002,    0.003003,    0.004004,    0.005005,    0.006006,    0.007007,    0.008008,    0.009009,     0.01001,    0.011011,    0.012012,    0.013013,    0.014014,    0.015015,    0.016016,    0.017017,    0.018018,    0.019019,     0.02002,    0.021021,    0.022022,    0.023023,\n",
       "          0.024024,    0.025025,    0.026026,    0.027027,    0.028028,    0.029029,     0.03003,    0.031031,    0.032032,    0.033033,    0.034034,    0.035035,    0.036036,    0.037037,    0.038038,    0.039039,     0.04004,    0.041041,    0.042042,    0.043043,    0.044044,    0.045045,    0.046046,    0.047047,\n",
       "          0.048048,    0.049049,     0.05005,    0.051051,    0.052052,    0.053053,    0.054054,    0.055055,    0.056056,    0.057057,    0.058058,    0.059059,     0.06006,    0.061061,    0.062062,    0.063063,    0.064064,    0.065065,    0.066066,    0.067067,    0.068068,    0.069069,     0.07007,    0.071071,\n",
       "          0.072072,    0.073073,    0.074074,    0.075075,    0.076076,    0.077077,    0.078078,    0.079079,     0.08008,    0.081081,    0.082082,    0.083083,    0.084084,    0.085085,    0.086086,    0.087087,    0.088088,    0.089089,     0.09009,    0.091091,    0.092092,    0.093093,    0.094094,    0.095095,\n",
       "          0.096096,    0.097097,    0.098098,    0.099099,      0.1001,      0.1011,      0.1021,      0.1031,      0.1041,     0.10511,     0.10611,     0.10711,     0.10811,     0.10911,     0.11011,     0.11111,     0.11211,     0.11311,     0.11411,     0.11512,     0.11612,     0.11712,     0.11812,     0.11912,\n",
       "           0.12012,     0.12112,     0.12212,     0.12312,     0.12412,     0.12513,     0.12613,     0.12713,     0.12813,     0.12913,     0.13013,     0.13113,     0.13213,     0.13313,     0.13413,     0.13514,     0.13614,     0.13714,     0.13814,     0.13914,     0.14014,     0.14114,     0.14214,     0.14314,\n",
       "           0.14414,     0.14515,     0.14615,     0.14715,     0.14815,     0.14915,     0.15015,     0.15115,     0.15215,     0.15315,     0.15415,     0.15516,     0.15616,     0.15716,     0.15816,     0.15916,     0.16016,     0.16116,     0.16216,     0.16316,     0.16416,     0.16517,     0.16617,     0.16717,\n",
       "           0.16817,     0.16917,     0.17017,     0.17117,     0.17217,     0.17317,     0.17417,     0.17518,     0.17618,     0.17718,     0.17818,     0.17918,     0.18018,     0.18118,     0.18218,     0.18318,     0.18418,     0.18519,     0.18619,     0.18719,     0.18819,     0.18919,     0.19019,     0.19119,\n",
       "           0.19219,     0.19319,     0.19419,      0.1952,      0.1962,      0.1972,      0.1982,      0.1992,      0.2002,      0.2012,      0.2022,      0.2032,      0.2042,     0.20521,     0.20621,     0.20721,     0.20821,     0.20921,     0.21021,     0.21121,     0.21221,     0.21321,     0.21421,     0.21522,\n",
       "           0.21622,     0.21722,     0.21822,     0.21922,     0.22022,     0.22122,     0.22222,     0.22322,     0.22422,     0.22523,     0.22623,     0.22723,     0.22823,     0.22923,     0.23023,     0.23123,     0.23223,     0.23323,     0.23423,     0.23524,     0.23624,     0.23724,     0.23824,     0.23924,\n",
       "           0.24024,     0.24124,     0.24224,     0.24324,     0.24424,     0.24525,     0.24625,     0.24725,     0.24825,     0.24925,     0.25025,     0.25125,     0.25225,     0.25325,     0.25425,     0.25526,     0.25626,     0.25726,     0.25826,     0.25926,     0.26026,     0.26126,     0.26226,     0.26326,\n",
       "           0.26426,     0.26527,     0.26627,     0.26727,     0.26827,     0.26927,     0.27027,     0.27127,     0.27227,     0.27327,     0.27427,     0.27528,     0.27628,     0.27728,     0.27828,     0.27928,     0.28028,     0.28128,     0.28228,     0.28328,     0.28428,     0.28529,     0.28629,     0.28729,\n",
       "           0.28829,     0.28929,     0.29029,     0.29129,     0.29229,     0.29329,     0.29429,      0.2953,      0.2963,      0.2973,      0.2983,      0.2993,      0.3003,      0.3013,      0.3023,      0.3033,      0.3043,     0.30531,     0.30631,     0.30731,     0.30831,     0.30931,     0.31031,     0.31131,\n",
       "           0.31231,     0.31331,     0.31431,     0.31532,     0.31632,     0.31732,     0.31832,     0.31932,     0.32032,     0.32132,     0.32232,     0.32332,     0.32432,     0.32533,     0.32633,     0.32733,     0.32833,     0.32933,     0.33033,     0.33133,     0.33233,     0.33333,     0.33433,     0.33534,\n",
       "           0.33634,     0.33734,     0.33834,     0.33934,     0.34034,     0.34134,     0.34234,     0.34334,     0.34434,     0.34535,     0.34635,     0.34735,     0.34835,     0.34935,     0.35035,     0.35135,     0.35235,     0.35335,     0.35435,     0.35536,     0.35636,     0.35736,     0.35836,     0.35936,\n",
       "           0.36036,     0.36136,     0.36236,     0.36336,     0.36436,     0.36537,     0.36637,     0.36737,     0.36837,     0.36937,     0.37037,     0.37137,     0.37237,     0.37337,     0.37437,     0.37538,     0.37638,     0.37738,     0.37838,     0.37938,     0.38038,     0.38138,     0.38238,     0.38338,\n",
       "           0.38438,     0.38539,     0.38639,     0.38739,     0.38839,     0.38939,     0.39039,     0.39139,     0.39239,     0.39339,     0.39439,      0.3954,      0.3964,      0.3974,      0.3984,      0.3994,      0.4004,      0.4014,      0.4024,      0.4034,      0.4044,     0.40541,     0.40641,     0.40741,\n",
       "           0.40841,     0.40941,     0.41041,     0.41141,     0.41241,     0.41341,     0.41441,     0.41542,     0.41642,     0.41742,     0.41842,     0.41942,     0.42042,     0.42142,     0.42242,     0.42342,     0.42442,     0.42543,     0.42643,     0.42743,     0.42843,     0.42943,     0.43043,     0.43143,\n",
       "           0.43243,     0.43343,     0.43443,     0.43544,     0.43644,     0.43744,     0.43844,     0.43944,     0.44044,     0.44144,     0.44244,     0.44344,     0.44444,     0.44545,     0.44645,     0.44745,     0.44845,     0.44945,     0.45045,     0.45145,     0.45245,     0.45345,     0.45445,     0.45546,\n",
       "           0.45646,     0.45746,     0.45846,     0.45946,     0.46046,     0.46146,     0.46246,     0.46346,     0.46446,     0.46547,     0.46647,     0.46747,     0.46847,     0.46947,     0.47047,     0.47147,     0.47247,     0.47347,     0.47447,     0.47548,     0.47648,     0.47748,     0.47848,     0.47948,\n",
       "           0.48048,     0.48148,     0.48248,     0.48348,     0.48448,     0.48549,     0.48649,     0.48749,     0.48849,     0.48949,     0.49049,     0.49149,     0.49249,     0.49349,     0.49449,      0.4955,      0.4965,      0.4975,      0.4985,      0.4995,      0.5005,      0.5015,      0.5025,      0.5035,\n",
       "            0.5045,     0.50551,     0.50651,     0.50751,     0.50851,     0.50951,     0.51051,     0.51151,     0.51251,     0.51351,     0.51451,     0.51552,     0.51652,     0.51752,     0.51852,     0.51952,     0.52052,     0.52152,     0.52252,     0.52352,     0.52452,     0.52553,     0.52653,     0.52753,\n",
       "           0.52853,     0.52953,     0.53053,     0.53153,     0.53253,     0.53353,     0.53453,     0.53554,     0.53654,     0.53754,     0.53854,     0.53954,     0.54054,     0.54154,     0.54254,     0.54354,     0.54454,     0.54555,     0.54655,     0.54755,     0.54855,     0.54955,     0.55055,     0.55155,\n",
       "           0.55255,     0.55355,     0.55455,     0.55556,     0.55656,     0.55756,     0.55856,     0.55956,     0.56056,     0.56156,     0.56256,     0.56356,     0.56456,     0.56557,     0.56657,     0.56757,     0.56857,     0.56957,     0.57057,     0.57157,     0.57257,     0.57357,     0.57457,     0.57558,\n",
       "           0.57658,     0.57758,     0.57858,     0.57958,     0.58058,     0.58158,     0.58258,     0.58358,     0.58458,     0.58559,     0.58659,     0.58759,     0.58859,     0.58959,     0.59059,     0.59159,     0.59259,     0.59359,     0.59459,      0.5956,      0.5966,      0.5976,      0.5986,      0.5996,\n",
       "            0.6006,      0.6016,      0.6026,      0.6036,      0.6046,     0.60561,     0.60661,     0.60761,     0.60861,     0.60961,     0.61061,     0.61161,     0.61261,     0.61361,     0.61461,     0.61562,     0.61662,     0.61762,     0.61862,     0.61962,     0.62062,     0.62162,     0.62262,     0.62362,\n",
       "           0.62462,     0.62563,     0.62663,     0.62763,     0.62863,     0.62963,     0.63063,     0.63163,     0.63263,     0.63363,     0.63463,     0.63564,     0.63664,     0.63764,     0.63864,     0.63964,     0.64064,     0.64164,     0.64264,     0.64364,     0.64464,     0.64565,     0.64665,     0.64765,\n",
       "           0.64865,     0.64965,     0.65065,     0.65165,     0.65265,     0.65365,     0.65465,     0.65566,     0.65666,     0.65766,     0.65866,     0.65966,     0.66066,     0.66166,     0.66266,     0.66366,     0.66466,     0.66567,     0.66667,     0.66767,     0.66867,     0.66967,     0.67067,     0.67167,\n",
       "           0.67267,     0.67367,     0.67467,     0.67568,     0.67668,     0.67768,     0.67868,     0.67968,     0.68068,     0.68168,     0.68268,     0.68368,     0.68468,     0.68569,     0.68669,     0.68769,     0.68869,     0.68969,     0.69069,     0.69169,     0.69269,     0.69369,     0.69469,      0.6957,\n",
       "            0.6967,      0.6977,      0.6987,      0.6997,      0.7007,      0.7017,      0.7027,      0.7037,      0.7047,     0.70571,     0.70671,     0.70771,     0.70871,     0.70971,     0.71071,     0.71171,     0.71271,     0.71371,     0.71471,     0.71572,     0.71672,     0.71772,     0.71872,     0.71972,\n",
       "           0.72072,     0.72172,     0.72272,     0.72372,     0.72472,     0.72573,     0.72673,     0.72773,     0.72873,     0.72973,     0.73073,     0.73173,     0.73273,     0.73373,     0.73473,     0.73574,     0.73674,     0.73774,     0.73874,     0.73974,     0.74074,     0.74174,     0.74274,     0.74374,\n",
       "           0.74474,     0.74575,     0.74675,     0.74775,     0.74875,     0.74975,     0.75075,     0.75175,     0.75275,     0.75375,     0.75475,     0.75576,     0.75676,     0.75776,     0.75876,     0.75976,     0.76076,     0.76176,     0.76276,     0.76376,     0.76476,     0.76577,     0.76677,     0.76777,\n",
       "           0.76877,     0.76977,     0.77077,     0.77177,     0.77277,     0.77377,     0.77477,     0.77578,     0.77678,     0.77778,     0.77878,     0.77978,     0.78078,     0.78178,     0.78278,     0.78378,     0.78478,     0.78579,     0.78679,     0.78779,     0.78879,     0.78979,     0.79079,     0.79179,\n",
       "           0.79279,     0.79379,     0.79479,      0.7958,      0.7968,      0.7978,      0.7988,      0.7998,      0.8008,      0.8018,      0.8028,      0.8038,      0.8048,     0.80581,     0.80681,     0.80781,     0.80881,     0.80981,     0.81081,     0.81181,     0.81281,     0.81381,     0.81481,     0.81582,\n",
       "           0.81682,     0.81782,     0.81882,     0.81982,     0.82082,     0.82182,     0.82282,     0.82382,     0.82482,     0.82583,     0.82683,     0.82783,     0.82883,     0.82983,     0.83083,     0.83183,     0.83283,     0.83383,     0.83483,     0.83584,     0.83684,     0.83784,     0.83884,     0.83984,\n",
       "           0.84084,     0.84184,     0.84284,     0.84384,     0.84484,     0.84585,     0.84685,     0.84785,     0.84885,     0.84985,     0.85085,     0.85185,     0.85285,     0.85385,     0.85485,     0.85586,     0.85686,     0.85786,     0.85886,     0.85986,     0.86086,     0.86186,     0.86286,     0.86386,\n",
       "           0.86486,     0.86587,     0.86687,     0.86787,     0.86887,     0.86987,     0.87087,     0.87187,     0.87287,     0.87387,     0.87487,     0.87588,     0.87688,     0.87788,     0.87888,     0.87988,     0.88088,     0.88188,     0.88288,     0.88388,     0.88488,     0.88589,     0.88689,     0.88789,\n",
       "           0.88889,     0.88989,     0.89089,     0.89189,     0.89289,     0.89389,     0.89489,      0.8959,      0.8969,      0.8979,      0.8989,      0.8999,      0.9009,      0.9019,      0.9029,      0.9039,      0.9049,     0.90591,     0.90691,     0.90791,     0.90891,     0.90991,     0.91091,     0.91191,\n",
       "           0.91291,     0.91391,     0.91491,     0.91592,     0.91692,     0.91792,     0.91892,     0.91992,     0.92092,     0.92192,     0.92292,     0.92392,     0.92492,     0.92593,     0.92693,     0.92793,     0.92893,     0.92993,     0.93093,     0.93193,     0.93293,     0.93393,     0.93493,     0.93594,\n",
       "           0.93694,     0.93794,     0.93894,     0.93994,     0.94094,     0.94194,     0.94294,     0.94394,     0.94494,     0.94595,     0.94695,     0.94795,     0.94895,     0.94995,     0.95095,     0.95195,     0.95295,     0.95395,     0.95495,     0.95596,     0.95696,     0.95796,     0.95896,     0.95996,\n",
       "           0.96096,     0.96196,     0.96296,     0.96396,     0.96496,     0.96597,     0.96697,     0.96797,     0.96897,     0.96997,     0.97097,     0.97197,     0.97297,     0.97397,     0.97497,     0.97598,     0.97698,     0.97798,     0.97898,     0.97998,     0.98098,     0.98198,     0.98298,     0.98398,\n",
       "           0.98498,     0.98599,     0.98699,     0.98799,     0.98899,     0.98999,     0.99099,     0.99199,     0.99299,     0.99399,     0.99499,       0.996,       0.997,       0.998,       0.999,           1]), array([[    0.85106,     0.85106,     0.82979,     0.80851,     0.80851,     0.80851,     0.80851,     0.80851,     0.78723,     0.78723,     0.78723,     0.78723,     0.78723,     0.78723,     0.76596,     0.76596,     0.76596,     0.76596,     0.76596,     0.76596,     0.76596,     0.76596,     0.76596,\n",
       "            0.76596,     0.76596,     0.76596,     0.76596,     0.76596,     0.76596,     0.76596,     0.76596,     0.76596,     0.76596,     0.76596,     0.76596,     0.76047,     0.75397,     0.74747,     0.74468,     0.74468,     0.74468,     0.74468,     0.74468,     0.74468,     0.74468,     0.74468,\n",
       "            0.74468,     0.74468,     0.74468,     0.74468,     0.74468,     0.74468,     0.74468,     0.74468,     0.74468,     0.74468,     0.74468,     0.74468,     0.74468,     0.74468,     0.74468,     0.74468,     0.74468,     0.74468,     0.74468,     0.74468,     0.74468,     0.74468,     0.74468,\n",
       "            0.74468,     0.74468,     0.74468,     0.74468,     0.74468,     0.74468,     0.74468,     0.74468,     0.74468,     0.74468,     0.74468,     0.74468,     0.74468,     0.74468,     0.74468,     0.74468,     0.74468,     0.74468,     0.74468,     0.74468,     0.74468,     0.74468,     0.74468,\n",
       "            0.74468,     0.74468,     0.74468,     0.74468,     0.74468,     0.74468,     0.74468,     0.74468,     0.74468,     0.74468,     0.74468,     0.74468,     0.74468,     0.74468,     0.74468,     0.74468,     0.74468,     0.74468,     0.74468,     0.74468,     0.74377,     0.74234,     0.74092,\n",
       "            0.73949,     0.73806,     0.73664,     0.73521,     0.73378,     0.73236,     0.73093,     0.72951,     0.72808,     0.72665,     0.72523,      0.7238,      0.7234,      0.7234,      0.7234,      0.7234,      0.7234,      0.7234,      0.7234,      0.7234,      0.7234,      0.7234,      0.7234,\n",
       "             0.7234,      0.7234,      0.7234,      0.7234,      0.7234,      0.7234,      0.7234,      0.7234,      0.7234,     0.71929,     0.70816,     0.70213,     0.70213,     0.70213,     0.70213,     0.70213,     0.70213,     0.70213,     0.70213,     0.70213,     0.70213,     0.70213,     0.70213,\n",
       "            0.70213,     0.70213,     0.70213,     0.70213,     0.70213,     0.70213,     0.70213,     0.70213,     0.70213,     0.70213,     0.68083,     0.68004,     0.67925,     0.67845,     0.67766,     0.67687,     0.67608,     0.67529,      0.6745,      0.6737,     0.67291,     0.67212,     0.67133,\n",
       "            0.67054,     0.66974,     0.66895,     0.66816,     0.66737,     0.66658,     0.66579,     0.66499,      0.6642,     0.66341,     0.66262,     0.66183,     0.66103,     0.66024,     0.65872,     0.65325,     0.64778,     0.64231,      0.6383,      0.6383,      0.6383,      0.6383,      0.6383,\n",
       "             0.6383,      0.6383,      0.6383,      0.6383,      0.6383,      0.6383,      0.6383,      0.6383,      0.6383,      0.6383,      0.6383,      0.6383,     0.63544,     0.63025,     0.62506,     0.61987,     0.61702,     0.61702,     0.61702,     0.61702,     0.61702,     0.61702,     0.61702,\n",
       "            0.61702,     0.61702,     0.61702,     0.61702,     0.61702,     0.61702,     0.61702,     0.61702,     0.61702,     0.61702,     0.61702,     0.61702,     0.61702,     0.61702,     0.61702,     0.61702,     0.61702,     0.61702,     0.61702,     0.61702,     0.61702,     0.61702,     0.61702,\n",
       "            0.61702,     0.61702,     0.61702,     0.61702,     0.61702,     0.61702,     0.61702,     0.61702,     0.61702,     0.61702,     0.61702,     0.61702,     0.61702,     0.61702,     0.61702,     0.61702,     0.61702,     0.61702,     0.61702,     0.61702,     0.61702,     0.61702,     0.61702,\n",
       "            0.61702,     0.61702,     0.61702,     0.61702,     0.61702,     0.61702,     0.61702,     0.61702,     0.61702,     0.61702,     0.61702,     0.61702,     0.61702,     0.61702,     0.61702,     0.61702,     0.61702,     0.61702,     0.61702,     0.61702,     0.61702,     0.61702,     0.61702,\n",
       "            0.61702,     0.61702,     0.61702,     0.61702,     0.61702,     0.61702,     0.61691,      0.6167,     0.61648,     0.61627,     0.61605,     0.61584,     0.61562,     0.61541,     0.61519,     0.61498,     0.61476,     0.61455,     0.61433,     0.61412,      0.6139,     0.61369,     0.61347,\n",
       "            0.61326,     0.61304,     0.61283,     0.61261,      0.6124,     0.61218,     0.61197,     0.61175,     0.61154,     0.61132,     0.61111,     0.61089,     0.61068,     0.61046,     0.61025,     0.61003,     0.60982,      0.6096,     0.60939,     0.60917,     0.60896,     0.60874,     0.60853,\n",
       "            0.60831,      0.6081,     0.60788,     0.60767,     0.60745,     0.60724,     0.60702,     0.60681,     0.60659,     0.60638,     0.60616,     0.60595,     0.60573,     0.60552,      0.6053,     0.60509,     0.60487,     0.60466,     0.60444,     0.60423,     0.60401,      0.6038,     0.60358,\n",
       "            0.60337,     0.60315,     0.60294,     0.60272,     0.60251,     0.60229,     0.60208,     0.60186,     0.60165,     0.60143,     0.60122,       0.601,     0.60079,     0.60057,     0.60036,     0.60014,     0.59993,     0.59971,      0.5995,     0.59928,     0.59907,     0.59885,     0.59864,\n",
       "            0.59842,     0.59821,     0.59799,     0.59778,     0.59756,     0.59735,     0.59713,     0.59692,      0.5967,     0.59649,     0.59627,     0.59606,     0.59584,      0.5948,     0.59309,     0.59137,     0.58966,     0.58794,     0.58623,     0.58451,      0.5828,     0.58108,     0.57937,\n",
       "            0.57765,     0.57593,     0.57375,     0.56882,     0.56389,     0.55895,     0.55402,     0.55319,     0.55319,     0.55319,     0.55319,     0.55319,     0.55319,     0.55319,     0.55319,     0.55319,     0.55319,     0.55319,     0.55319,     0.55319,     0.55319,     0.55319,     0.55319,\n",
       "            0.55319,     0.55319,     0.55319,     0.55319,     0.55319,     0.55319,     0.55319,     0.55319,     0.55319,     0.55319,     0.55319,     0.55319,     0.55319,     0.55319,     0.55319,     0.55319,     0.55319,     0.55319,     0.55319,     0.55319,     0.55319,     0.55319,     0.55319,\n",
       "            0.55319,     0.55319,     0.55319,     0.55319,     0.55319,     0.55319,     0.55319,     0.55319,     0.55319,     0.55319,     0.55319,     0.55319,     0.55319,     0.55319,     0.55319,     0.55319,     0.55319,     0.55319,     0.55319,     0.55319,     0.55319,     0.55319,     0.55319,\n",
       "            0.55319,     0.55319,     0.55319,     0.55319,     0.55319,     0.55319,     0.55319,     0.55319,     0.55319,     0.55319,     0.55319,     0.55319,     0.55319,     0.55319,     0.55319,     0.55319,     0.55319,     0.55319,     0.55319,     0.55319,     0.55319,     0.55319,     0.55319,\n",
       "            0.55319,     0.55319,     0.55319,     0.55319,     0.55319,     0.55319,     0.55319,     0.55319,     0.55319,     0.55319,     0.55319,     0.55319,     0.55319,     0.55319,     0.55319,     0.55319,     0.55319,     0.55319,     0.55319,     0.55319,     0.55319,     0.55319,     0.55319,\n",
       "            0.55308,     0.55254,     0.55201,     0.55147,     0.55094,     0.55041,     0.54987,     0.54934,     0.54881,     0.54827,     0.54774,     0.54721,     0.54667,     0.54614,      0.5456,     0.54507,     0.54454,       0.544,     0.54347,     0.54294,      0.5424,     0.54187,     0.54134,\n",
       "             0.5408,     0.54027,     0.53973,      0.5392,     0.53867,     0.53813,      0.5376,     0.53707,     0.53653,       0.536,     0.53547,     0.53493,      0.5344,     0.53386,     0.53333,      0.5328,     0.53226,     0.53175,     0.53126,     0.53077,     0.53028,     0.52979,      0.5293,\n",
       "            0.52881,     0.52832,     0.52783,     0.52734,     0.52686,     0.52637,     0.52588,     0.52539,      0.5249,     0.52441,     0.52392,     0.52343,     0.52294,     0.52245,     0.52197,     0.52148,     0.52099,      0.5205,     0.52001,     0.51952,     0.51903,     0.51854,     0.51805,\n",
       "            0.51756,     0.51708,     0.51659,      0.5161,     0.51561,     0.51512,     0.51463,     0.51414,     0.51365,     0.51316,     0.51267,     0.51219,      0.5117,     0.51121,     0.51072,     0.51022,     0.50971,     0.50921,      0.5087,      0.5082,      0.5077,     0.50719,     0.50669,\n",
       "            0.50618,     0.50568,     0.50517,     0.50467,     0.50417,     0.50366,     0.50316,     0.50265,     0.50215,     0.50164,     0.50114,     0.50064,     0.50013,     0.49963,     0.49912,     0.49862,     0.49811,     0.49761,     0.49711,      0.4966,      0.4961,     0.49559,     0.49509,\n",
       "            0.49459,     0.49408,     0.49358,     0.49307,     0.49257,     0.49206,     0.49156,     0.49106,     0.49055,     0.49005,     0.48954,     0.48794,     0.48572,      0.4835,     0.48128,     0.47906,     0.47684,     0.47462,      0.4724,     0.47018,     0.46787,     0.46401,     0.46015,\n",
       "            0.45629,     0.45243,     0.44857,     0.44546,     0.44299,     0.44051,     0.43803,     0.43556,     0.43308,      0.4306,     0.42813,     0.42565,     0.42447,     0.42336,     0.42225,     0.42114,     0.42003,     0.41892,     0.41781,      0.4167,     0.41559,     0.41448,     0.41337,\n",
       "            0.41226,     0.41115,     0.41004,     0.40893,     0.40782,     0.40671,      0.4056,     0.40449,     0.40317,      0.4018,     0.40043,     0.39906,      0.3977,     0.39633,     0.39496,     0.39359,     0.39222,     0.39085,     0.38948,     0.38811,     0.38675,     0.38538,     0.38401,\n",
       "            0.37955,      0.3657,     0.35916,     0.35559,     0.35201,     0.34844,     0.34487,      0.3413,     0.33791,     0.33459,     0.33128,     0.32796,     0.32464,     0.32132,     0.31839,     0.31622,     0.31404,     0.31187,     0.30969,     0.30752,     0.30534,     0.30317,     0.30099,\n",
       "            0.29882,     0.29707,     0.29564,     0.29422,      0.2928,     0.29137,     0.28995,     0.28853,      0.2871,     0.28568,     0.28426,     0.28284,     0.28141,     0.27999,     0.27857,     0.27714,     0.27572,     0.27429,     0.27287,     0.27144,     0.27002,     0.26859,     0.26717,\n",
       "            0.26574,     0.26431,     0.26289,     0.26146,     0.26004,     0.25861,     0.25719,     0.25576,     0.25436,     0.25297,     0.25158,     0.25019,      0.2488,     0.24741,     0.24602,     0.24463,     0.24324,     0.24185,     0.24046,     0.23907,     0.23768,     0.23629,      0.2349,\n",
       "            0.23207,     0.22694,     0.22181,     0.21667,     0.20959,     0.19631,     0.19024,     0.18828,     0.18632,     0.18436,      0.1824,     0.18044,     0.17848,     0.17652,     0.17456,      0.1726,     0.17064,     0.16955,      0.1687,     0.16784,     0.16699,     0.16614,     0.16529,\n",
       "            0.16444,     0.16359,     0.16274,     0.16188,     0.16103,     0.16018,     0.15933,     0.15848,     0.15763,     0.15677,     0.15592,     0.15507,     0.15422,     0.15337,     0.15252,     0.15166,     0.15081,     0.14996,     0.14911,     0.13716,     0.12721,     0.12594,     0.12467,\n",
       "             0.1234,     0.12213,     0.12086,     0.11959,     0.11833,     0.11706,     0.11579,     0.11452,     0.11325,     0.11198,     0.11071,     0.10944,     0.10818,     0.10691,     0.10491,     0.10241,    0.099915,    0.097415,    0.094915,    0.092415,    0.089916,    0.087416,    0.084903,\n",
       "           0.082225,    0.079547,    0.076869,    0.074191,    0.071514,    0.068836,    0.066158,    0.063762,    0.063247,    0.062731,    0.062216,      0.0617,    0.061184,    0.060669,    0.060153,    0.059638,    0.059122,    0.058606,    0.058091,    0.057575,    0.057059,    0.056544,    0.056028,\n",
       "           0.055513,    0.054997,    0.054481,    0.053966,     0.05345,    0.052934,    0.052419,    0.051903,    0.051388,    0.050872,    0.050356,    0.049841,    0.049325,     0.04881,    0.048294,    0.047778,    0.047263,    0.046747,    0.046231,    0.045716,      0.0452,    0.044685,    0.044169,\n",
       "           0.043653,    0.043138,    0.042622,    0.040453,    0.038028,    0.035603,    0.033179,    0.030754,     0.02833,    0.025905,     0.02348,           0,           0,           0,           0,           0,           0,           0,           0,           0,           0,           0,           0,\n",
       "                  0,           0,           0,           0,           0,           0,           0,           0,           0,           0,           0,           0,           0,           0,           0,           0,           0,           0,           0,           0,           0,           0,           0,\n",
       "                  0,           0,           0,           0,           0,           0,           0,           0,           0,           0,           0,           0,           0,           0,           0,           0,           0,           0,           0,           0,           0,           0,           0,\n",
       "                  0,           0,           0,           0,           0,           0,           0,           0,           0,           0,           0,           0,           0,           0,           0,           0,           0,           0,           0,           0,           0,           0,           0,\n",
       "                  0,           0,           0,           0,           0,           0,           0,           0,           0,           0,           0]]), 'Confidence', 'Recall']]\n",
       "fitness: 0.4912298172776781\n",
       "keys: ['metrics/precision(B)', 'metrics/recall(B)', 'metrics/mAP50(B)', 'metrics/mAP50-95(B)']\n",
       "maps: array([    0.46356])\n",
       "names: {0: 'durham-college'}\n",
       "plot: True\n",
       "results_dict: {'metrics/precision(B)': 0.9664866006554345, 'metrics/recall(B)': 0.6136881397920844, 'metrics/mAP50(B)': 0.7402804985409956, 'metrics/mAP50-95(B)': 0.4635575193595317, 'fitness': 0.4912298172776781}\n",
       "save_dir: PosixPath('runs/detect/train4')\n",
       "speed: {'preprocess': 0.9162425994873047, 'inference': 156.24640385309854, 'loss': 4.967053731282552e-05, 'postprocess': 0.45569737752278644}\n",
       "task: 'detect'"
      ]
     },
     "execution_count": 1,
     "metadata": {},
     "output_type": "execute_result"
    }
   ],
   "source": [
    "from ultralytics import YOLO\n",
    "model=YOLO(\"yolov8n.pt\")\n",
    "model.train(data=\"data.yaml\", epochs=300)"
   ]
  },
  {
   "cell_type": "code",
   "execution_count": 2,
   "metadata": {},
   "outputs": [
    {
     "name": "stdout",
     "output_type": "stream",
     "text": [
      "Ultralytics YOLOv8.0.222 🚀 Python-3.10.5 torch-2.1.1 CPU (Apple M1 Pro)\n",
      "Model summary (fused): 168 layers, 3005843 parameters, 0 gradients, 8.1 GFLOPs\n",
      "\u001b[34m\u001b[1mval: \u001b[0mScanning /Users/ozairrahman/Desktop/YOLO/durhamlogopics/valid/labels.cache.\u001b[0m\n",
      "                 Class     Images  Instances      Box(P          R      mAP50  m\n",
      "                   all         24         47      0.966      0.613      0.746      0.465\n",
      "Speed: 0.8ms preprocess, 100.3ms inference, 0.0ms loss, 0.4ms postprocess per image\n",
      "Results saved to \u001b[1mruns/detect/val\u001b[0m\n",
      "💡 Learn more at https://docs.ultralytics.com/modes/val\n"
     ]
    }
   ],
   "source": [
    "!yolo task=detect mode=val model=\"./runs/detect/train4/weights/best.pt\" data=\"data.yaml\""
   ]
  },
  {
   "cell_type": "code",
   "execution_count": 3,
   "metadata": {},
   "outputs": [
    {
     "name": "stdout",
     "output_type": "stream",
     "text": [
      "Ultralytics YOLOv8.0.222 🚀 Python-3.10.5 torch-2.1.1 CPU (Apple M1 Pro)\n",
      "Model summary (fused): 168 layers, 3005843 parameters, 0 gradients, 8.1 GFLOPs\n",
      "\n",
      "image 1/50 /Users/ozairrahman/Desktop/YOLO/durhamlogopics/test/0301130612.jpg: 640x512 2 durham-colleges, 59.0ms\n",
      "image 2/50 /Users/ozairrahman/Desktop/YOLO/durhamlogopics/test/0301130613.jpg: 640x480 1 durham-college, 67.0ms\n",
      "image 3/50 /Users/ozairrahman/Desktop/YOLO/durhamlogopics/test/0301130615.jpg: 640x480 1 durham-college, 65.3ms\n",
      "image 4/50 /Users/ozairrahman/Desktop/YOLO/durhamlogopics/test/0301130701.jpg: 640x448 (no detections), 64.7ms\n",
      "image 5/50 /Users/ozairrahman/Desktop/YOLO/durhamlogopics/test/0301130702.png: 640x608 (no detections), 68.8ms\n",
      "image 6/50 /Users/ozairrahman/Desktop/YOLO/durhamlogopics/test/0301130703.jpg: 640x576 1 durham-college, 66.8ms\n",
      "image 7/50 /Users/ozairrahman/Desktop/YOLO/durhamlogopics/test/0301130704.jpg: 640x640 1 durham-college, 70.1ms\n",
      "image 8/50 /Users/ozairrahman/Desktop/YOLO/durhamlogopics/test/0301130709.jpg: 640x512 (no detections), 70.5ms\n",
      "image 9/50 /Users/ozairrahman/Desktop/YOLO/durhamlogopics/test/0301130711.jpg: 640x640 (no detections), 84.1ms\n",
      "image 10/50 /Users/ozairrahman/Desktop/YOLO/durhamlogopics/test/0301130718.png: 640x480 1 durham-college, 66.6ms\n",
      "image 11/50 /Users/ozairrahman/Desktop/YOLO/durhamlogopics/test/0301130719.png: 640x480 1 durham-college, 60.3ms\n",
      "image 12/50 /Users/ozairrahman/Desktop/YOLO/durhamlogopics/test/0301130720.png: 640x480 1 durham-college, 66.1ms\n",
      "image 13/50 /Users/ozairrahman/Desktop/YOLO/durhamlogopics/test/0301130724.jpg: 512x640 1 durham-college, 60.5ms\n",
      "image 14/50 /Users/ozairrahman/Desktop/YOLO/durhamlogopics/test/0301130728.png: 640x480 2 durham-colleges, 63.3ms\n",
      "image 15/50 /Users/ozairrahman/Desktop/YOLO/durhamlogopics/test/0301130733.png: 640x608 1 durham-college, 70.1ms\n",
      "image 16/50 /Users/ozairrahman/Desktop/YOLO/durhamlogopics/test/0301130734.jpg: 640x640 1 durham-college, 67.8ms\n",
      "image 17/50 /Users/ozairrahman/Desktop/YOLO/durhamlogopics/test/0301130739.png: 640x512 1 durham-college, 68.3ms\n",
      "image 18/50 /Users/ozairrahman/Desktop/YOLO/durhamlogopics/test/0301130802.jpg: 640x608 2 durham-colleges, 76.8ms\n",
      "image 19/50 /Users/ozairrahman/Desktop/YOLO/durhamlogopics/test/0301130803.jpg: 640x640 1 durham-college, 70.1ms\n",
      "image 20/50 /Users/ozairrahman/Desktop/YOLO/durhamlogopics/test/0301130805.jpg: 640x544 (no detections), 69.4ms\n",
      "image 21/50 /Users/ozairrahman/Desktop/YOLO/durhamlogopics/test/0301130806.jpg: 640x640 1 durham-college, 78.1ms\n",
      "image 22/50 /Users/ozairrahman/Desktop/YOLO/durhamlogopics/test/52828035390_31a52a14f8_b (1).jpg: 448x640 1 durham-college, 56.8ms\n",
      "image 23/50 /Users/ozairrahman/Desktop/YOLO/durhamlogopics/test/52828035390_31a52a14f8_b.jpg: 448x640 1 durham-college, 52.7ms\n",
      "image 24/50 /Users/ozairrahman/Desktop/YOLO/durhamlogopics/test/Amazing-1-1900512704.jpg: 320x640 1 durham-college, 48.5ms\n",
      "image 25/50 /Users/ozairrahman/Desktop/YOLO/durhamlogopics/test/Capture d’écran, le 2023-12-05 à 17.15.47.png: 544x640 1 durham-college, 61.7ms\n",
      "image 26/50 /Users/ozairrahman/Desktop/YOLO/durhamlogopics/test/Capture d’écran, le 2023-12-05 à 17.15.59.png: 576x640 (no detections), 61.8ms\n",
      "image 27/50 /Users/ozairrahman/Desktop/YOLO/durhamlogopics/test/Capture d’écran, le 2023-12-05 à 17.16.08.png: 576x640 2 durham-colleges, 66.8ms\n",
      "image 28/50 /Users/ozairrahman/Desktop/YOLO/durhamlogopics/test/Capture d’écran, le 2023-12-05 à 17.17.00.png: 640x576 1 durham-college, 63.2ms\n",
      "image 29/50 /Users/ozairrahman/Desktop/YOLO/durhamlogopics/test/Capture d’écran, le 2023-12-05 à 17.17.11.png: 384x640 (no detections), 44.0ms\n",
      "image 30/50 /Users/ozairrahman/Desktop/YOLO/durhamlogopics/test/Capture d’écran, le 2023-12-05 à 17.17.21.png: 640x416 2 durham-colleges, 49.1ms\n",
      "image 31/50 /Users/ozairrahman/Desktop/YOLO/durhamlogopics/test/Capture d’écran, le 2023-12-05 à 17.17.53.png: 512x640 2 durham-colleges, 60.8ms\n",
      "image 32/50 /Users/ozairrahman/Desktop/YOLO/durhamlogopics/test/Capture d’écran, le 2023-12-05 à 17.18.12.png: 640x480 1 durham-college, 60.1ms\n",
      "image 33/50 /Users/ozairrahman/Desktop/YOLO/durhamlogopics/test/Capture d’écran, le 2023-12-05 à 17.18.24.png: 352x640 (no detections), 45.3ms\n",
      "image 34/50 /Users/ozairrahman/Desktop/YOLO/durhamlogopics/test/Capture d’écran, le 2023-12-05 à 17.18.45.png: 416x640 1 durham-college, 48.6ms\n",
      "image 35/50 /Users/ozairrahman/Desktop/YOLO/durhamlogopics/test/Capture d’écran, le 2023-12-05 à 17.18.56.png: 416x640 (no detections), 47.2ms\n",
      "image 36/50 /Users/ozairrahman/Desktop/YOLO/durhamlogopics/test/Capture d’écran, le 2023-12-05 à 17.19.07.png: 416x640 (no detections), 47.1ms\n",
      "image 37/50 /Users/ozairrahman/Desktop/YOLO/durhamlogopics/test/Capture d’écran, le 2023-12-05 à 17.19.32.png: 384x640 1 durham-college, 43.3ms\n",
      "image 38/50 /Users/ozairrahman/Desktop/YOLO/durhamlogopics/test/Capture d’écran, le 2023-12-05 à 17.19.38.png: 640x480 (no detections), 56.1ms\n",
      "image 39/50 /Users/ozairrahman/Desktop/YOLO/durhamlogopics/test/Capture d’écran, le 2023-12-05 à 17.21.10.png: 544x640 1 durham-college, 59.2ms\n",
      "image 40/50 /Users/ozairrahman/Desktop/YOLO/durhamlogopics/test/Capture d’écran, le 2023-12-05 à 17.21.25.png: 320x640 (no detections), 43.7ms\n",
      "image 41/50 /Users/ozairrahman/Desktop/YOLO/durhamlogopics/test/Capture d’écran, le 2023-12-05 à 17.22.36.png: 608x640 (no detections), 62.7ms\n",
      "image 42/50 /Users/ozairrahman/Desktop/YOLO/durhamlogopics/test/Capture d’écran, le 2023-12-05 à 17.42.33.png: 288x640 (no detections), 34.6ms\n",
      "image 43/50 /Users/ozairrahman/Desktop/YOLO/durhamlogopics/test/Capture d’écran, le 2023-12-05 à 17.43.46.png: 384x640 1 durham-college, 41.9ms\n",
      "image 44/50 /Users/ozairrahman/Desktop/YOLO/durhamlogopics/test/alumni.jpg: 320x640 4 durham-colleges, 37.9ms\n",
      "image 45/50 /Users/ozairrahman/Desktop/YOLO/durhamlogopics/test/alumnimag-july2017-1820058787.jpg: 384x640 1 durham-college, 49.6ms\n",
      "image 46/50 /Users/ozairrahman/Desktop/YOLO/durhamlogopics/test/b86a3e0905ea2f0267fc525a2af493d8-2493444944.jpg: 640x640 3 durham-colleges, 64.8ms\n",
      "image 47/50 /Users/ozairrahman/Desktop/YOLO/durhamlogopics/test/brand.jpg: 480x640 1 durham-college, 52.6ms\n",
      "image 48/50 /Users/ozairrahman/Desktop/YOLO/durhamlogopics/test/campus-tours-whitby.jpg: 320x640 1 durham-college, 41.5ms\n",
      "image 49/50 /Users/ozairrahman/Desktop/YOLO/durhamlogopics/test/cb_photo_001022_02_large_0b2d3c1e24030bf04cb225e45f0eae10-802061297.jpg: 384x640 (no detections), 48.3ms\n",
      "image 50/50 /Users/ozairrahman/Desktop/YOLO/durhamlogopics/test/cfce-1-1565540186.jpg: 640x640 1 durham-college, 63.5ms\n",
      "Speed: 3.1ms preprocess, 58.9ms inference, 0.4ms postprocess per image at shape (1, 3, 640, 640)\n",
      "Results saved to \u001b[1mruns/detect/predict\u001b[0m\n",
      "💡 Learn more at https://docs.ultralytics.com/modes/predict\n"
     ]
    }
   ],
   "source": [
    "!yolo task=detect mode=predict show=True save=True model=\"./runs/detect/train4/weights/best.pt\" source=\"./durhamlogopics/test/\""
   ]
  },
  {
   "cell_type": "code",
   "execution_count": null,
   "metadata": {},
   "outputs": [],
   "source": []
  }
 ],
 "metadata": {
  "kernelspec": {
   "display_name": "School",
   "language": "python",
   "name": "python3"
  },
  "language_info": {
   "codemirror_mode": {
    "name": "ipython",
    "version": 3
   },
   "file_extension": ".py",
   "mimetype": "text/x-python",
   "name": "python",
   "nbconvert_exporter": "python",
   "pygments_lexer": "ipython3",
   "version": "3.10.5"
  }
 },
 "nbformat": 4,
 "nbformat_minor": 2
}
